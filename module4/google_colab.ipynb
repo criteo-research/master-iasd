{
  "nbformat": 4,
  "nbformat_minor": 0,
  "metadata": {
    "colab": {
      "provenance": [],
      "toc_visible": true,
      "collapsed_sections": []
    },
    "kernelspec": {
      "name": "python3",
      "display_name": "Python 3"
    },
    "language_info": {
      "name": "python"
    }
  },
  "cells": [
    {
      "cell_type": "markdown",
      "source": [
        "# Google Colab\n",
        "\n",
        "Here are described the specificities of Google Colaboratory, you can follow these tutorials:\n",
        "* [Google Colab Tutorial](https://colab.research.google.com/drive/16pBJQePbqkz3QFV54L4NIkOn1kwpuRrj) \n",
        "* [Welcome to Google Colaboratory](https://colab.research.google.com/).\n",
        "\n",
        "Only some notes are given, if you want more details, see the above tutorials.\n",
        "\n",
        "---"
      ],
      "metadata": {
        "id": "tlKa691r8IOn"
      }
    },
    {
      "cell_type": "markdown",
      "source": [
        "Mount your Google Drive network disk to acces to it in the local filesystem:"
      ],
      "metadata": {
        "id": "vfczlliY8nbX"
      }
    },
    {
      "cell_type": "code",
      "source": [
        "from google.colab import drive\n",
        "drive.mount('/content/drive')"
      ],
      "metadata": {
        "id": "n-KgapPivCPe"
      },
      "execution_count": null,
      "outputs": []
    },
    {
      "cell_type": "markdown",
      "source": [
        "---"
      ],
      "metadata": {
        "id": "MgN3vjz0_HHz"
      }
    },
    {
      "cell_type": "markdown",
      "source": [
        "Distinct notebooks are isolated from others in Google Colab. Isolation isn't configurable. When a notebook is opened, a new virtual machine is allocated, you can see the id of the virtual machine, by running `Linux <vm_id> ...`:"
      ],
      "metadata": {
        "id": "i3taxkRk_dEV"
      }
    },
    {
      "cell_type": "code",
      "source": [
        "!uname -a"
      ],
      "metadata": {
        "id": "_7yrpGHW_FqN"
      },
      "execution_count": null,
      "outputs": []
    },
    {
      "cell_type": "markdown",
      "source": [
        "That is to say, the context between several notebooks is not shared: variables, files, installed libraries ..."
      ],
      "metadata": {
        "id": "k4oIf_pJAm2w"
      }
    }
  ]
}