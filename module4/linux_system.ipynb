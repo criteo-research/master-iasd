{
  "cells": [
    {
      "cell_type": "markdown",
      "metadata": {
        "id": "VLMOWlboPGog"
      },
      "source": [
        "# Linux System\n",
        "\n",
        "It is just an introduction to explore, in which context a notebook is launched for system aspects. \n",
        "\n",
        "These commands should work on the most operating systems Linux, but it is maintained for Ubuntu. \n",
        "\n",
        "/!\\ Check that this notebook runs on the same container or virtual machine than the notebook environment than you want inspect. If it is not the case, copy/past directly these commands in your target notebook."
      ]
    },
    {
      "cell_type": "markdown",
      "source": [
        "**Operating System**"
      ],
      "metadata": {
        "id": "Drb9x1_8CYce"
      }
    },
    {
      "cell_type": "code",
      "source": [
        "!uname -a"
      ],
      "metadata": {
        "id": "RvvKJRFcuTtm"
      },
      "execution_count": null,
      "outputs": []
    },
    {
      "cell_type": "code",
      "source": [
        "!cat /etc/issue"
      ],
      "metadata": {
        "id": "jeTV6pm2TYxM"
      },
      "execution_count": null,
      "outputs": []
    },
    {
      "cell_type": "markdown",
      "source": [
        "**User**"
      ],
      "metadata": {
        "id": "q-vCvaL_CrX0"
      }
    },
    {
      "cell_type": "code",
      "source": [
        "!id"
      ],
      "metadata": {
        "id": "vMl5YUXqZkbT"
      },
      "execution_count": null,
      "outputs": []
    },
    {
      "cell_type": "markdown",
      "source": [
        "See your quota and limit with `ulimit`."
      ],
      "metadata": {
        "id": "zr_F3w6wDApM"
      }
    },
    {
      "cell_type": "markdown",
      "source": [
        "**File System**"
      ],
      "metadata": {
        "id": "mj9PKK06DLqx"
      }
    },
    {
      "cell_type": "code",
      "source": [
        "!df -Th"
      ],
      "metadata": {
        "id": "crCafy--De6e"
      },
      "execution_count": null,
      "outputs": []
    },
    {
      "cell_type": "code",
      "source": [
        "!ls -a"
      ],
      "metadata": {
        "id": "ezUHJBdZDOst"
      },
      "execution_count": null,
      "outputs": []
    },
    {
      "cell_type": "code",
      "source": [
        "!pwd"
      ],
      "metadata": {
        "id": "yKiWEsqcDRMZ"
      },
      "execution_count": null,
      "outputs": []
    },
    {
      "cell_type": "markdown",
      "source": [],
      "metadata": {
        "id": "IH_p-njSDJ42"
      }
    },
    {
      "cell_type": "markdown",
      "source": [
        "**Shell and Python**"
      ],
      "metadata": {
        "id": "0BJ90ArgCj0e"
      }
    },
    {
      "cell_type": "code",
      "source": [
        "!echo $SHELL"
      ],
      "metadata": {
        "id": "mLpzzjHrTnf5"
      },
      "execution_count": null,
      "outputs": []
    },
    {
      "cell_type": "code",
      "source": [
        "!$SHELL --version"
      ],
      "metadata": {
        "id": "nMhHTyMhtkcN"
      },
      "execution_count": null,
      "outputs": []
    },
    {
      "cell_type": "code",
      "source": [
        "!python --version"
      ],
      "metadata": {
        "id": "t9ObO2jcTgk8"
      },
      "execution_count": null,
      "outputs": []
    },
    {
      "cell_type": "markdown",
      "source": [
        "**PySpark**"
      ],
      "metadata": {
        "id": "CQR8m2nEC3XA"
      }
    },
    {
      "cell_type": "code",
      "source": [
        "!pip install pyspark"
      ],
      "metadata": {
        "id": "rX2kP57lPbEN"
      },
      "execution_count": null,
      "outputs": []
    },
    {
      "cell_type": "code",
      "source": [
        "!pyspark --version"
      ],
      "metadata": {
        "id": "AxgiRQaRtSHe"
      },
      "execution_count": null,
      "outputs": []
    },
    {
      "cell_type": "markdown",
      "source": [
        "**Resources**"
      ],
      "metadata": {
        "id": "jJxJhD08ESZ5"
      }
    },
    {
      "cell_type": "markdown",
      "source": [
        "CPU "
      ],
      "metadata": {
        "id": "-Os-ZqbfD3iC"
      }
    },
    {
      "cell_type": "code",
      "source": [
        "!lscpu"
      ],
      "metadata": {
        "id": "2LqmLGt0dk9Y"
      },
      "execution_count": null,
      "outputs": []
    },
    {
      "cell_type": "code",
      "source": [
        "!nproc"
      ],
      "metadata": {
        "id": "myu_ae2QdHPc"
      },
      "execution_count": null,
      "outputs": []
    },
    {
      "cell_type": "code",
      "source": [
        "!top"
      ],
      "metadata": {
        "id": "YiESJcD7EiFN"
      },
      "execution_count": null,
      "outputs": []
    },
    {
      "cell_type": "code",
      "source": [
        "!ps -e"
      ],
      "metadata": {
        "id": "DhVUXz5LEmWC"
      },
      "execution_count": null,
      "outputs": []
    },
    {
      "cell_type": "markdown",
      "source": [
        "RAM"
      ],
      "metadata": {
        "id": "INesFT0CD8mT"
      }
    },
    {
      "cell_type": "code",
      "source": [
        "!free -h"
      ],
      "metadata": {
        "id": "0BHrI387dQD5"
      },
      "execution_count": null,
      "outputs": []
    },
    {
      "cell_type": "markdown",
      "source": [
        "Disk Storage"
      ],
      "metadata": {
        "id": "i4Vb5SK2EPkx"
      }
    },
    {
      "cell_type": "code",
      "source": [
        "!df -h\n"
      ],
      "metadata": {
        "id": "vc2-r9L0dW6j"
      },
      "execution_count": null,
      "outputs": []
    }
  ],
  "metadata": {
    "kernelspec": {
      "display_name": "Python 3",
      "language": "python",
      "name": "python3"
    },
    "language_info": {
      "codemirror_mode": {
        "name": "ipython",
        "version": 3
      },
      "file_extension": ".py",
      "mimetype": "text/x-python",
      "name": "python",
      "nbconvert_exporter": "python",
      "pygments_lexer": "ipython3",
      "version": "3.7.3"
    },
    "colab": {
      "provenance": [],
      "collapsed_sections": []
    }
  },
  "nbformat": 4,
  "nbformat_minor": 0
}