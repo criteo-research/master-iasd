{
  "cells": [
    {
      "cell_type": "markdown",
      "source": [
        "# Exploring the Movielens dataset with the Spark RDD API"
      ],
      "metadata": {
        "application/vnd.databricks.v1+cell": {
          "title": "",
          "showTitle": false,
          "inputWidgets": {},
          "nuid": "9414d64e-5c0f-49ba-976b-daaf7c49daff"
        },
        "id": "C_GP8Bylovk8"
      }
    },
    {
      "cell_type": "markdown",
      "source": [
        "## Install Spark Environment\n",
        "Since we are not running on databricks, we will need to install Spark by ourselves, every time we run the session.  \n",
        "We need to install Spark, as well as a Java Runtime Environment.  \n",
        "Then we need to setup a few environment variables.  "
      ],
      "metadata": {
        "id": "pN50BgfWo0tC"
      }
    },
    {
      "cell_type": "code",
      "source": [
        "!apt-get install openjdk-8-jdk-headless -qq > /dev/null\n",
        "!curl -O https://dlcdn.apache.org/spark/spark-3.2.3/spark-3.2.3-bin-hadoop3.2.tgz\n",
        "!tar xf spark-3.2.3-bin-hadoop3.2.tgz\n",
        "!pip install -q findspark"
      ],
      "metadata": {
        "colab": {
          "base_uri": "https://localhost:8080/"
        },
        "id": "hE0-Ax0wp9Hc",
        "outputId": "b0a96976-7297-4c29-d267-90429cabf113"
      },
      "execution_count": 4,
      "outputs": [
        {
          "output_type": "stream",
          "name": "stdout",
          "text": [
            "  % Total    % Received % Xferd  Average Speed   Time    Time     Time  Current\n",
            "                                 Dload  Upload   Total   Spent    Left  Speed\n",
            "100  287M  100  287M    0     0   248M      0  0:00:01  0:00:01 --:--:--  248M\n"
          ]
        }
      ]
    },
    {
      "cell_type": "code",
      "source": [
        "import os\n",
        "os.environ[\"JAVA_HOME\"] = \"/usr/lib/jvm/java-8-openjdk-amd64\"\n",
        "os.environ[\"SPARK_HOME\"] = \"/content/spark-3.2.3-bin-hadoop3.2\""
      ],
      "metadata": {
        "id": "jsCGmN9GqA1v"
      },
      "execution_count": 5,
      "outputs": []
    },
    {
      "cell_type": "code",
      "source": [
        "import findspark\n",
        "findspark.init()\n",
        "import pyspark\n",
        "from pyspark.sql import SparkSession\n",
        "from pyspark import SparkContext, SparkConf\n",
        "\n",
        "conf = SparkConf().set('spark.ui.port', '4050')\n",
        "sc = SparkContext(conf=conf)\n",
        "spark = SparkSession.builder.master('local[*]').getOrCreate()"
      ],
      "metadata": {
        "id": "0rOOIQccqDDu"
      },
      "execution_count": 6,
      "outputs": []
    },
    {
      "cell_type": "markdown",
      "source": [
        "## Optional step : Enable SparkUI through secure tunnel\n",
        "This step is useful if you want to look at Spark UI.\n",
        "First, you need to create a free ngrok account : https://dashboard.ngrok.com/login.  \n",
        "Then connect on the website and copy your AuthToken."
      ],
      "metadata": {
        "id": "9gb_bdz9qZPr"
      }
    },
    {
      "cell_type": "code",
      "source": [
        "# this step downloads ngrok, configures your AuthToken, then starts the tunnel\n",
        "!wget https://bin.equinox.io/c/4VmDzA7iaHb/ngrok-stable-linux-amd64.zip\n",
        "!unzip ngrok-stable-linux-amd64.zip\n",
        "#!./ngrok authtoken my_ngrok_auth_token_retrieved_from_website # <-------------- change this line !\n",
        "!./ngrok authtoken 25Pb4DqNqaoy5kCwimBO7dFMwvx_5BYL36GDSkQtRexvt9pRA\n",
        "get_ipython().system_raw('./ngrok http 4050 &')"
      ],
      "metadata": {
        "colab": {
          "base_uri": "https://localhost:8080/"
        },
        "id": "qFlzHSUNqiIn",
        "outputId": "29bf39e1-5972-47e2-9849-9a2e112978a2"
      },
      "execution_count": 7,
      "outputs": [
        {
          "output_type": "stream",
          "name": "stdout",
          "text": [
            "--2022-12-01 17:23:48--  https://bin.equinox.io/c/4VmDzA7iaHb/ngrok-stable-linux-amd64.zip\n",
            "Resolving bin.equinox.io (bin.equinox.io)... 18.205.222.128, 52.202.168.65, 54.161.241.46, ...\n",
            "Connecting to bin.equinox.io (bin.equinox.io)|18.205.222.128|:443... connected.\n",
            "HTTP request sent, awaiting response... 200 OK\n",
            "Length: 13832437 (13M) [application/octet-stream]\n",
            "Saving to: ‘ngrok-stable-linux-amd64.zip’\n",
            "\n",
            "ngrok-stable-linux- 100%[===================>]  13.19M  --.-KB/s    in 0.1s    \n",
            "\n",
            "2022-12-01 17:23:48 (103 MB/s) - ‘ngrok-stable-linux-amd64.zip’ saved [13832437/13832437]\n",
            "\n",
            "Archive:  ngrok-stable-linux-amd64.zip\n",
            "  inflating: ngrok                   \n",
            "Authtoken saved to configuration file: /root/.ngrok2/ngrok.yml\n"
          ]
        }
      ]
    },
    {
      "cell_type": "markdown",
      "source": [
        "## Other Imports"
      ],
      "metadata": {
        "id": "h1N7rSiyqkVQ"
      }
    },
    {
      "cell_type": "code",
      "source": [
        "%matplotlib inline\n",
        "\n",
        "import urllib\n",
        "import urllib.request as req\n",
        "import zipfile\n",
        "import glob\n",
        "import matplotlib.pyplot as plt\n",
        "import numpy as np\n",
        "import pandas as pd"
      ],
      "metadata": {
        "application/vnd.databricks.v1+cell": {
          "title": "",
          "showTitle": false,
          "inputWidgets": {},
          "nuid": "5e1bd4d2-d4ba-4ce4-841a-1996d75975e2"
        },
        "id": "f7pRHH29ovlQ"
      },
      "outputs": [],
      "execution_count": 8
    },
    {
      "cell_type": "markdown",
      "source": [
        "### Downloading the dataset"
      ],
      "metadata": {
        "application/vnd.databricks.v1+cell": {
          "title": "",
          "showTitle": false,
          "inputWidgets": {},
          "nuid": "298fc35c-3d55-4ef3-b871-e93f7e28ff68"
        },
        "id": "_ygX9FKGovlY"
      }
    },
    {
      "cell_type": "code",
      "source": [
        "url = 'http://files.grouplens.org/datasets/movielens/ml-20m.zip'\n",
        "filehandle, _ = urllib.request.urlretrieve(url)\n",
        "zip_file_object = zipfile.ZipFile(filehandle, 'r')\n",
        "zip_file_object.namelist()\n",
        "zip_file_object.extractall()"
      ],
      "metadata": {
        "application/vnd.databricks.v1+cell": {
          "title": "",
          "showTitle": false,
          "inputWidgets": {},
          "nuid": "78cd57f5-3c06-4e38-be21-40fb49be98fd"
        },
        "id": "UlMv6YO6ovlb"
      },
      "outputs": [],
      "execution_count": 9
    },
    {
      "cell_type": "code",
      "source": [
        "!ls"
      ],
      "metadata": {
        "colab": {
          "base_uri": "https://localhost:8080/"
        },
        "id": "ZrRve531uWIh",
        "outputId": "15e01a01-069b-4d67-f67f-12950ba5e559"
      },
      "execution_count": 11,
      "outputs": [
        {
          "output_type": "stream",
          "name": "stdout",
          "text": [
            "ml-20m\t\t\t      spark-3.2.1-bin-hadoop3.2.tgz\n",
            "ngrok\t\t\t      spark-3.2.3-bin-hadoop3.2\n",
            "ngrok-stable-linux-amd64.zip  spark-3.2.3-bin-hadoop3.2.tgz\n",
            "sample_data\n"
          ]
        }
      ]
    },
    {
      "cell_type": "code",
      "source": [
        "movies_path = \"ml-20m/movies.csv\"\n",
        "ratings_path = \"ml-20m/ratings.csv\""
      ],
      "metadata": {
        "id": "MXJe1UFUucSZ"
      },
      "execution_count": 12,
      "outputs": []
    },
    {
      "cell_type": "markdown",
      "source": [
        "### Loading the data"
      ],
      "metadata": {
        "application/vnd.databricks.v1+cell": {
          "title": "",
          "showTitle": false,
          "inputWidgets": {},
          "nuid": "8a64edbd-9938-4f1b-8ffa-797577b35777"
        },
        "id": "dFpcflF_ovlh"
      }
    },
    {
      "cell_type": "markdown",
      "source": [
        "Loading data with Spark Dataframe API.  \n",
        "Loading a csv with the RDD API is not supported out of the box and is painful to implement."
      ],
      "metadata": {
        "application/vnd.databricks.v1+cell": {
          "title": "",
          "showTitle": false,
          "inputWidgets": {},
          "nuid": "77642c8b-87f0-4a60-a9bc-d32d494ca168"
        },
        "id": "cov1MXjcovln"
      }
    },
    {
      "cell_type": "code",
      "source": [
        "ratings_df = spark.read.options(header=True, inferSchema=True).csv(ratings_path)"
      ],
      "metadata": {
        "application/vnd.databricks.v1+cell": {
          "title": "",
          "showTitle": false,
          "inputWidgets": {},
          "nuid": "15ab9a82-ad82-4801-99f6-2e03ec817660"
        },
        "id": "ZcljLfzLovlo"
      },
      "outputs": [],
      "execution_count": 13
    },
    {
      "cell_type": "markdown",
      "source": [
        "Did you notice this created a job in the Spark UI? I thought Spark was lazy until we requested an action ?  \n",
        "Rerun the same command with inferSchema=False and compare the schema with the command df.printSchema(). Can you understand why Spark triggered a job and what it was for ?"
      ],
      "metadata": {
        "application/vnd.databricks.v1+cell": {
          "title": "",
          "showTitle": false,
          "inputWidgets": {},
          "nuid": "d7843f69-dd3a-459e-8ea4-c065585e5f89"
        },
        "id": "KqLInDF0ovlr"
      }
    },
    {
      "cell_type": "markdown",
      "source": [
        "Two jobs are created when hen using inferSchema option. Spark needs to scan the whole dataset in order to infer the data type of each column. Yet, if you disable this option, you will realize that there is still one short job created. So much for the laziness ! To generate the dataframe, Spark needs to know how much columns we have inside each row. That's why a first job is created. Let's keep the inferSchema option set to True for now."
      ],
      "metadata": {
        "application/vnd.databricks.v1+cell": {
          "title": "",
          "showTitle": false,
          "inputWidgets": {},
          "nuid": "81b715c5-898c-4150-9866-4f02569f3b55"
        },
        "id": "104UuWK_ovls"
      }
    },
    {
      "cell_type": "code",
      "source": [
        "ratings_df.take(1)"
      ],
      "metadata": {
        "application/vnd.databricks.v1+cell": {
          "title": "",
          "showTitle": false,
          "inputWidgets": {},
          "nuid": "0460f469-e466-42e3-a138-b106bdad3e0f"
        },
        "colab": {
          "base_uri": "https://localhost:8080/"
        },
        "id": "jHyU15LUovlu",
        "outputId": "3fc71d04-9618-4e30-beb9-8e922e60c1f4"
      },
      "outputs": [
        {
          "output_type": "execute_result",
          "data": {
            "text/plain": [
              "[Row(userId=1, movieId=2, rating=3.5, timestamp=1112486027)]"
            ]
          },
          "metadata": {},
          "execution_count": 14
        }
      ],
      "execution_count": 14
    },
    {
      "cell_type": "code",
      "source": [
        "ratings_rdd = ratings_df.rdd.map(lambda x: x.asDict())"
      ],
      "metadata": {
        "application/vnd.databricks.v1+cell": {
          "title": "",
          "showTitle": false,
          "inputWidgets": {},
          "nuid": "9465e1ea-1f6f-452a-9656-d3a04c0f4e30"
        },
        "id": "847xh8_iovlw"
      },
      "outputs": [],
      "execution_count": 15
    },
    {
      "cell_type": "code",
      "source": [
        "ratings_rdd.take(3)"
      ],
      "metadata": {
        "application/vnd.databricks.v1+cell": {
          "title": "",
          "showTitle": false,
          "inputWidgets": {},
          "nuid": "8d111954-6f6e-4eb3-8039-52b89ff04644"
        },
        "colab": {
          "base_uri": "https://localhost:8080/"
        },
        "id": "zM9WUoBqovly",
        "outputId": "fc854205-b3c0-4ff1-a9ed-38553fe1e966"
      },
      "outputs": [
        {
          "output_type": "execute_result",
          "data": {
            "text/plain": [
              "[{'userId': 1, 'movieId': 2, 'rating': 3.5, 'timestamp': 1112486027},\n",
              " {'userId': 1, 'movieId': 29, 'rating': 3.5, 'timestamp': 1112484676},\n",
              " {'userId': 1, 'movieId': 32, 'rating': 3.5, 'timestamp': 1112484819}]"
            ]
          },
          "metadata": {},
          "execution_count": 16
        }
      ],
      "execution_count": 16
    },
    {
      "cell_type": "markdown",
      "source": [
        "Record type of a dataframe is the 'Row'. You can have any record type inside your RDD, we are using Python dictionaries there."
      ],
      "metadata": {
        "application/vnd.databricks.v1+cell": {
          "title": "",
          "showTitle": false,
          "inputWidgets": {},
          "nuid": "cb086b19-108c-439e-a1de-6cc488374168"
        },
        "id": "tAj1Sf5bovlz"
      }
    },
    {
      "cell_type": "code",
      "source": [
        "movies_df = spark.read.options(header=True, inferSchema=True).csv(movies_path)\n",
        "movies_rdd = movies_df.rdd.map(lambda x: x.asDict())"
      ],
      "metadata": {
        "application/vnd.databricks.v1+cell": {
          "title": "",
          "showTitle": false,
          "inputWidgets": {},
          "nuid": "f49413b8-57bc-4c07-aceb-3364a2f5c157"
        },
        "id": "fkl5khoIovl0"
      },
      "outputs": [],
      "execution_count": 17
    },
    {
      "cell_type": "code",
      "source": [
        "movies_rdd.take(1)"
      ],
      "metadata": {
        "application/vnd.databricks.v1+cell": {
          "title": "",
          "showTitle": false,
          "inputWidgets": {},
          "nuid": "6207a91e-e1a7-49e3-952e-2a28364c7dec"
        },
        "colab": {
          "base_uri": "https://localhost:8080/"
        },
        "id": "mh7kqiU_ovl1",
        "outputId": "e7f724f5-2e68-4832-88ca-91e7e7d6bb83"
      },
      "outputs": [
        {
          "output_type": "execute_result",
          "data": {
            "text/plain": [
              "[{'movieId': 1,\n",
              "  'title': 'Toy Story (1995)',\n",
              "  'genres': 'Adventure|Animation|Children|Comedy|Fantasy'}]"
            ]
          },
          "metadata": {},
          "execution_count": 18
        }
      ],
      "execution_count": 18
    },
    {
      "cell_type": "markdown",
      "source": [
        "The ratings RDD is a bit large (about 2 min to run a request on it on a docker container with two cores). You can work on a smaller version of it to develop and debug your job and then run it on the full RDD to get the result.  \n",
        "Why do we persist the small RDD and not the regular one ?"
      ],
      "metadata": {
        "application/vnd.databricks.v1+cell": {
          "title": "",
          "showTitle": false,
          "inputWidgets": {},
          "nuid": "7d4a2e2a-fcc1-4b09-8477-39344a4afafd"
        },
        "id": "fqYCQueSovl3"
      }
    },
    {
      "cell_type": "code",
      "source": [
        "ratings_small_rdd = ratings_rdd.filter(lambda x: x['userId'] < 20000).persist(pyspark.StorageLevel.DISK_ONLY)"
      ],
      "metadata": {
        "application/vnd.databricks.v1+cell": {
          "title": "",
          "showTitle": false,
          "inputWidgets": {},
          "nuid": "7315fb92-e7d1-4584-8468-73c92c905153"
        },
        "id": "zJTj7fMhovl5"
      },
      "outputs": [],
      "execution_count": 21
    },
    {
      "cell_type": "markdown",
      "source": [
        "If we persist the non-filtered RDD, we will lose all the benefits of the persist function and we will need to read the whole dataset every time. Some other remarks: when doing real analysis, filtering on userId may yield biased results, because you are likely to work with oldest users subscribed to MovieLens ; persist-to-disk function benefits are lost if you stop your Spark session. If your analysis is spanning over multiple sessions, you should save your dataset to distributed file system ; persist-to-memory may be adapted if you are running an iterative algorithm, but be vary, when using persist-to-memory, memory of executors may be shared with other users and you don't have a full guarantee that some partitions won't be recomputed from scratch at some point."
      ],
      "metadata": {
        "application/vnd.databricks.v1+cell": {
          "title": "",
          "showTitle": false,
          "inputWidgets": {},
          "nuid": "68ea281e-3d3d-46f3-ab76-dcd276727241"
        },
        "id": "N6gkkQhxovl6"
      }
    },
    {
      "cell_type": "markdown",
      "source": [
        "Here we will sample dataset and save it to DFS, then read-it again."
      ],
      "metadata": {
        "application/vnd.databricks.v1+cell": {
          "title": "",
          "showTitle": false,
          "inputWidgets": {},
          "nuid": "5d7b5648-2866-4a58-9fa3-2a600fd9d65e"
        },
        "id": "L-VNdwVHovl6"
      }
    },
    {
      "cell_type": "code",
      "source": [
        "sampled_path = \"ml-20m/sampled_ratings.csv\"\n",
        "ratings_df.sample(fraction=0.1).write.format(\"csv\").save(sampled_path, mode=\"overwrite\", header=True)"
      ],
      "metadata": {
        "application/vnd.databricks.v1+cell": {
          "title": "",
          "showTitle": false,
          "inputWidgets": {},
          "nuid": "ab9176e5-9d2c-41ee-9994-c39c6f1d82fb"
        },
        "id": "5M9AtKh0ovl7"
      },
      "outputs": [],
      "execution_count": 22
    },
    {
      "cell_type": "code",
      "source": [
        "ratings_small_df = spark.read.options(header=True, inferSchema=True).csv(sampled_path)\n",
        "ratings_small_rdd = ratings_small_df.rdd.map(lambda x: x.asDict())"
      ],
      "metadata": {
        "application/vnd.databricks.v1+cell": {
          "title": "",
          "showTitle": false,
          "inputWidgets": {},
          "nuid": "27ef56bf-c7aa-4a6e-aa5c-e10982250646"
        },
        "id": "vL5oQbccovl7"
      },
      "outputs": [],
      "execution_count": 23
    },
    {
      "cell_type": "markdown",
      "source": [
        "Use the sampled rdd when tinkering with your RDD. When you are sure about what you are doing, you can try to use the entire RDD."
      ],
      "metadata": {
        "application/vnd.databricks.v1+cell": {
          "title": "",
          "showTitle": false,
          "inputWidgets": {},
          "nuid": "5768a9ee-d8c3-4aa3-8964-c6ab17507565"
        },
        "id": "zV6_pBDeovl8"
      }
    },
    {
      "cell_type": "markdown",
      "source": [
        "### Q1. How many ratings ?"
      ],
      "metadata": {
        "application/vnd.databricks.v1+cell": {
          "title": "",
          "showTitle": false,
          "inputWidgets": {},
          "nuid": "f2bbaa94-00a4-4918-9a50-0e36a2624599"
        },
        "id": "FpzYeUk_ovl9"
      }
    },
    {
      "cell_type": "code",
      "source": [
        "ratings_rdd.count()"
      ],
      "metadata": {
        "application/vnd.databricks.v1+cell": {
          "title": "",
          "showTitle": false,
          "inputWidgets": {},
          "nuid": "6e4c40d3-a322-4a38-95c6-d988d11dc14c"
        },
        "colab": {
          "base_uri": "https://localhost:8080/"
        },
        "id": "qVr6u71xovl-",
        "outputId": "0a4ecb71-fb29-436c-bd02-440ec4987b2a"
      },
      "outputs": [
        {
          "output_type": "execute_result",
          "data": {
            "text/plain": [
              "20000263"
            ]
          },
          "metadata": {},
          "execution_count": 24
        }
      ],
      "execution_count": 24
    },
    {
      "cell_type": "markdown",
      "source": [
        "### Q2. How many users ?\n",
        "\n",
        "Read the documentation for the distinct function in the RDD API and find a solution with this method.\n",
        "There is another solution relying on a more generic function ? Can you solve the problem without using distinct function ?"
      ],
      "metadata": {
        "application/vnd.databricks.v1+cell": {
          "title": "",
          "showTitle": false,
          "inputWidgets": {},
          "nuid": "95d32f14-b440-4887-b7b7-b1812a30c83b"
        },
        "id": "cRyI-MwtovmA"
      }
    },
    {
      "cell_type": "code",
      "source": [
        "ratings_rdd.map(lambda x: x['userId']).distinct().count()"
      ],
      "metadata": {
        "application/vnd.databricks.v1+cell": {
          "title": "",
          "showTitle": false,
          "inputWidgets": {},
          "nuid": "d43cdf33-30e9-4173-8cc0-b6f737c7930a"
        },
        "colab": {
          "base_uri": "https://localhost:8080/"
        },
        "id": "B_hprYtDovmA",
        "outputId": "63998362-7e9b-4a61-d525-aa43bbd4753a"
      },
      "outputs": [
        {
          "output_type": "execute_result",
          "data": {
            "text/plain": [
              "138493"
            ]
          },
          "metadata": {},
          "execution_count": 25
        }
      ],
      "execution_count": 25
    },
    {
      "cell_type": "code",
      "source": [
        "ratings_rdd.keyBy(lambda x: x['userId']).mapValues(lambda x: 1).reduceByKey(lambda x,y: 1).count()"
      ],
      "metadata": {
        "application/vnd.databricks.v1+cell": {
          "title": "",
          "showTitle": false,
          "inputWidgets": {},
          "nuid": "bd9963c9-75a6-4e9e-95a0-c0e866322a60"
        },
        "id": "anwQ4_JbovmB",
        "outputId": "861899fe-7454-43aa-f367-bb290248ddbb"
      },
      "outputs": [
        {
          "output_type": "display_data",
          "metadata": {
            "application/vnd.databricks.v1+output": {
              "datasetInfos": [],
              "data": "Out[23]: 138493",
              "removedWidgets": [],
              "addedWidgets": {},
              "metadata": {},
              "type": "ansi",
              "arguments": {}
            }
          },
          "data": {
            "text/plain": [
              "Out[23]: 138493"
            ]
          },
          "transient": null
        }
      ],
      "execution_count": null
    },
    {
      "cell_type": "markdown",
      "source": [
        "### Q3. How many ratings per grade ?\n",
        "\n",
        "How many users rated a movie with grade r for r in [0,5]?    \n",
        "Plot it. Do you notice something unusual ?"
      ],
      "metadata": {
        "application/vnd.databricks.v1+cell": {
          "title": "",
          "showTitle": false,
          "inputWidgets": {},
          "nuid": "bcafcfa1-8fb3-40bc-8924-407fdca54fd8"
        },
        "id": "NZLObi3eovmB"
      }
    },
    {
      "cell_type": "code",
      "source": [
        "num_ratings_per_grade = ratings_small_rdd\\\n",
        "    .keyBy(lambda x: x['rating'])\\\n",
        "    .mapValues(lambda x: 1)\\\n",
        "    .reduceByKey(lambda x,y: x+y)\\\n",
        "    .collect()"
      ],
      "metadata": {
        "application/vnd.databricks.v1+cell": {
          "title": "",
          "showTitle": false,
          "inputWidgets": {},
          "nuid": "04289a83-cda5-48b0-8ecb-7c0652ac71f3"
        },
        "id": "ZOtkk9nAovmC"
      },
      "outputs": [],
      "execution_count": 26
    },
    {
      "cell_type": "markdown",
      "source": [
        "collect() function will bring all the data back to the driver (which can be bad in terms of memory if it involves too much data). Here, we know that ratings belong to [0, 0.5, 1.0, 1.5, 2.0, 2.5, 3.0, 3.5, 4.0, 4.5, 5.0]. If we were dealing with continuous variables we would need to be careful not to bring everything back to the driver. We would need to bucketize to avoid the problem, for example. We will see that in the next question."
      ],
      "metadata": {
        "application/vnd.databricks.v1+cell": {
          "title": "",
          "showTitle": false,
          "inputWidgets": {},
          "nuid": "71baeb38-ab85-4c52-98ff-a0d58c67185e"
        },
        "id": "VkMP8ZAsovmD"
      }
    },
    {
      "cell_type": "code",
      "source": [
        "ratings_pd = pd.DataFrame(num_ratings_per_grade, columns=['rating', 'count'])\n",
        "ratings_pd = ratings_pd.sort_values(by='rating').reset_index(drop=True)\n",
        "ratings_pd['freq'] = ratings_pd['count'] / ratings_pd['count'].sum()\n",
        "ratings_pd.plot.bar(x='rating', y='freq')"
      ],
      "metadata": {
        "application/vnd.databricks.v1+cell": {
          "title": "",
          "showTitle": false,
          "inputWidgets": {},
          "nuid": "924020ad-9bb3-41e6-ac7e-28fc6bebae0e"
        },
        "colab": {
          "base_uri": "https://localhost:8080/",
          "height": 303
        },
        "id": "TSS15qPKovmD",
        "outputId": "aed7c142-4a89-4065-8bf3-8f1efeb6df62"
      },
      "outputs": [
        {
          "output_type": "execute_result",
          "data": {
            "text/plain": [
              "<matplotlib.axes._subplots.AxesSubplot at 0x7f9cb782b430>"
            ]
          },
          "metadata": {},
          "execution_count": 27
        },
        {
          "output_type": "display_data",
          "data": {
            "text/plain": [
              "<Figure size 432x288 with 1 Axes>"
            ],
            "image/png": "[encoded data removed]"
          },
          "metadata": {
            "needs_background": "light"
          }
        }
      ],
      "execution_count": 27
    },
    {
      "cell_type": "markdown",
      "source": [
        "Half notes are not as common as full notes. Also users have a tendency to give good marks in general."
      ],
      "metadata": {
        "application/vnd.databricks.v1+cell": {
          "title": "",
          "showTitle": false,
          "inputWidgets": {},
          "nuid": "5d17b3dc-273f-41ee-9e7c-dc50ff4d700c"
        },
        "id": "B6J93VHdovmE"
      }
    },
    {
      "cell_type": "markdown",
      "source": [
        "### Q4. Histogram of number of ratings per user\n",
        "\n",
        "Plot the distribution of the number of movies rated per user. In other words, what is the fraction of users that rated between bins[i] and bins[i+1] movies for the following bins.  \n",
        "What is the average and median number of ratings per user?"
      ],
      "metadata": {
        "application/vnd.databricks.v1+cell": {
          "title": "",
          "showTitle": false,
          "inputWidgets": {},
          "nuid": "32d301ab-9023-40cb-a481-774c72e0cd75"
        },
        "id": "yFr4a61WovmF"
      }
    },
    {
      "cell_type": "code",
      "source": [
        "bins = np.unique(np.logspace(0, 160, base=1.05, num=50, dtype='int32'))\n",
        "bins"
      ],
      "metadata": {
        "application/vnd.databricks.v1+cell": {
          "title": "",
          "showTitle": false,
          "inputWidgets": {},
          "nuid": "0544493a-3987-4623-a0b1-34fe95905722"
        },
        "colab": {
          "base_uri": "https://localhost:8080/"
        },
        "id": "2reXpkrYovmG",
        "outputId": "b7ffc7b5-6afb-4775-a38d-83f58d1c9b30"
      },
      "outputs": [
        {
          "output_type": "execute_result",
          "data": {
            "text/plain": [
              "array([   1,    2,    3,    4,    5,    6,    7,    9,   10,   12,   15,\n",
              "         17,   20,   24,   28,   33,   39,   45,   53,   62,   73,   86,\n",
              "        101,  119,  139,  163,  191,  225,  264,  309,  363,  425,  499,\n",
              "        585,  686,  805,  944, 1107, 1298, 1523, 1786, 2094, 2456],\n",
              "      dtype=int32)"
            ]
          },
          "metadata": {},
          "execution_count": 28
        }
      ],
      "execution_count": 28
    },
    {
      "cell_type": "code",
      "source": [
        "def bucket_by(x):\n",
        "    return np.digitize(x, bins)"
      ],
      "metadata": {
        "application/vnd.databricks.v1+cell": {
          "title": "",
          "showTitle": false,
          "inputWidgets": {},
          "nuid": "1280b702-8faa-4938-a848-b4b1e8a3a37f"
        },
        "id": "LVyoDcsMovmG"
      },
      "outputs": [],
      "execution_count": 29
    },
    {
      "cell_type": "code",
      "source": [
        "num_ratings_per_user = ratings_rdd\\\n",
        "    .keyBy(lambda x: x['userId'])\\\n",
        "    .mapValues(lambda x: 1)\\\n",
        "    .reduceByKey(lambda x,y: x+y)"
      ],
      "metadata": {
        "application/vnd.databricks.v1+cell": {
          "title": "",
          "showTitle": false,
          "inputWidgets": {},
          "nuid": "5320c5cf-49d8-4fec-bfc6-723ed4eed6a1"
        },
        "id": "zxi3-BDxovmG"
      },
      "outputs": [],
      "execution_count": 30
    },
    {
      "cell_type": "markdown",
      "source": [
        "RDD we have defined above is lazy (no job is triggered). ReduceByKey function will provoke a shuffle."
      ],
      "metadata": {
        "application/vnd.databricks.v1+cell": {
          "title": "",
          "showTitle": false,
          "inputWidgets": {},
          "nuid": "59da116b-f5be-4e9a-a6f0-8e615d333bc5"
        },
        "id": "1XI95ySqovmH"
      }
    },
    {
      "cell_type": "code",
      "source": [
        "ratings_hist = num_ratings_per_user\\\n",
        "    .keyBy(lambda x: bucket_by(x[1]))\\\n",
        "    .mapValues(lambda x: 1)\\\n",
        "    .reduceByKey(lambda x,y: x+y)\\\n",
        "    .collect()"
      ],
      "metadata": {
        "application/vnd.databricks.v1+cell": {
          "title": "",
          "showTitle": false,
          "inputWidgets": {},
          "nuid": "5c73e832-004f-4def-a3c4-3d26752c9924"
        },
        "id": "Gm6BOiDfovmH"
      },
      "outputs": [],
      "execution_count": 31
    },
    {
      "cell_type": "code",
      "source": [
        "ratings_pd = pd.DataFrame(ratings_hist, columns=['bin_idx', 'count'])\n",
        "ratings_pd = ratings_pd.sort_values(by='bin_idx').reset_index(drop=True)\n",
        "ratings_pd['freq'] = ratings_pd['count'] / ratings_pd['count'].sum()\n",
        "ratings_pd['num_ratings'] = ratings_pd['bin_idx'].apply(lambda x: bins[x-1])\n",
        "ratings_pd.plot(x='num_ratings', y='freq', logx=True)"
      ],
      "metadata": {
        "application/vnd.databricks.v1+cell": {
          "title": "",
          "showTitle": false,
          "inputWidgets": {},
          "nuid": "dababe4f-6c30-4d58-bcf0-7db0b91d2858"
        },
        "colab": {
          "base_uri": "https://localhost:8080/",
          "height": 302
        },
        "id": "Ow-dFQxZovmI",
        "outputId": "d82aef87-039c-4332-e93e-e862265675b4"
      },
      "outputs": [
        {
          "output_type": "execute_result",
          "data": {
            "text/plain": [
              "<matplotlib.axes._subplots.AxesSubplot at 0x7f9cb773bb20>"
            ]
          },
          "metadata": {},
          "execution_count": 32
        },
        {
          "output_type": "display_data",
          "data": {
            "text/plain": [
              "<Figure size 432x288 with 1 Axes>"
            ],
            "image/png": "[encoded data removed]"
          },
          "metadata": {
            "needs_background": "light"
          }
        }
      ],
      "execution_count": 32
    },
    {
      "cell_type": "code",
      "source": [
        "median_num_ratings = ratings_pd[ratings_pd['count'].cumsum() > ratings_pd['count'].sum() / 2].iloc[0]['num_ratings']\n",
        "avg_num_ratings = (ratings_pd['num_ratings'] *  ratings_pd['count']).sum() / ratings_pd['count'].sum()\n",
        "print(median_num_ratings)\n",
        "print(avg_num_ratings)"
      ],
      "metadata": {
        "application/vnd.databricks.v1+cell": {
          "title": "",
          "showTitle": false,
          "inputWidgets": {},
          "nuid": "b1d21011-8735-4eb0-88d4-0e39e2780775"
        },
        "colab": {
          "base_uri": "https://localhost:8080/"
        },
        "id": "w9toKLokovmJ",
        "outputId": "9cc1f915-60be-43d3-bac5-b06c5356fbba"
      },
      "outputs": [
        {
          "output_type": "stream",
          "name": "stdout",
          "text": [
            "62.0\n",
            "133.38806293458876\n"
          ]
        }
      ],
      "execution_count": 33
    },
    {
      "cell_type": "markdown",
      "source": [
        "### Q5. Most popular movies\n",
        "\n",
        "What are the 20 movies with the most ratings ?  \n",
        "We would like the answer with the movie title and not the movie id.  \n",
        "Look at the documentation of the join and top functions."
      ],
      "metadata": {
        "application/vnd.databricks.v1+cell": {
          "title": "",
          "showTitle": false,
          "inputWidgets": {},
          "nuid": "3fde2c15-5bbd-4643-83cf-f664cfed3d05"
        },
        "id": "5dJO9u8kovmK"
      }
    },
    {
      "cell_type": "code",
      "source": [
        "num_ratings_per_movie = ratings_rdd\\\n",
        "    .keyBy(lambda x: x['movieId'])\\\n",
        "    .mapValues(lambda x: 1)\\\n",
        "    .reduceByKey(lambda x, y: x+y)"
      ],
      "metadata": {
        "application/vnd.databricks.v1+cell": {
          "title": "",
          "showTitle": false,
          "inputWidgets": {},
          "nuid": "d96df17e-ff67-43ef-8699-f3b2dd798a48"
        },
        "id": "IYxsAF59ovmK"
      },
      "outputs": [],
      "execution_count": 34
    },
    {
      "cell_type": "code",
      "source": [
        "movies_title = movies_rdd.keyBy(lambda x: x['movieId']).mapValues(lambda x: x['title'])\n",
        "\n",
        "ratings_with_title = num_ratings_per_movie\\\n",
        "    .join(movies_title)\\\n",
        "    .mapValues(lambda x: {'num_ratings': x[0], 'title': x[1]})\\\n",
        "    .values()\n",
        "\n",
        "ratings_with_title.top(20, key=lambda x: x['num_ratings'])"
      ],
      "metadata": {
        "application/vnd.databricks.v1+cell": {
          "title": "",
          "showTitle": false,
          "inputWidgets": {},
          "nuid": "a0131514-1fa0-4742-b02b-b7140dbef9fc"
        },
        "colab": {
          "base_uri": "https://localhost:8080/"
        },
        "id": "Fe1eB7yzovmM",
        "outputId": "cc05cdef-23ee-44e7-af87-0d72ab983ced"
      },
      "outputs": [
        {
          "output_type": "execute_result",
          "data": {
            "text/plain": [
              "[{'num_ratings': 67310, 'title': 'Pulp Fiction (1994)'},\n",
              " {'num_ratings': 66172, 'title': 'Forrest Gump (1994)'},\n",
              " {'num_ratings': 63366, 'title': 'Shawshank Redemption, The (1994)'},\n",
              " {'num_ratings': 63299, 'title': 'Silence of the Lambs, The (1991)'},\n",
              " {'num_ratings': 59715, 'title': 'Jurassic Park (1993)'},\n",
              " {'num_ratings': 54502, 'title': 'Star Wars: Episode IV - A New Hope (1977)'},\n",
              " {'num_ratings': 53769, 'title': 'Braveheart (1995)'},\n",
              " {'num_ratings': 52244, 'title': 'Terminator 2: Judgment Day (1991)'},\n",
              " {'num_ratings': 51334, 'title': 'Matrix, The (1999)'},\n",
              " {'num_ratings': 50054, 'title': \"Schindler's List (1993)\"},\n",
              " {'num_ratings': 49695, 'title': 'Toy Story (1995)'},\n",
              " {'num_ratings': 49581, 'title': 'Fugitive, The (1993)'},\n",
              " {'num_ratings': 47777, 'title': 'Apollo 13 (1995)'},\n",
              " {'num_ratings': 47048, 'title': 'Independence Day (a.k.a. ID4) (1996)'},\n",
              " {'num_ratings': 47006, 'title': 'Usual Suspects, The (1995)'},\n",
              " {'num_ratings': 46839,\n",
              "  'title': 'Star Wars: Episode VI - Return of the Jedi (1983)'},\n",
              " {'num_ratings': 46054, 'title': 'Batman (1989)'},\n",
              " {'num_ratings': 45313,\n",
              "  'title': 'Star Wars: Episode V - The Empire Strikes Back (1980)'},\n",
              " {'num_ratings': 44987, 'title': 'American Beauty (1999)'},\n",
              " {'num_ratings': 44980, 'title': 'Twelve Monkeys (a.k.a. 12 Monkeys) (1995)'}]"
            ]
          },
          "metadata": {},
          "execution_count": 35
        }
      ],
      "execution_count": 35
    },
    {
      "cell_type": "markdown",
      "source": [
        "Because we know we don't work with a lots of records (20), a better option is to filter on top 20 before doing the join. The records will pass by the driver, but it's not a problem. Here is a first way of doing it."
      ],
      "metadata": {
        "application/vnd.databricks.v1+cell": {
          "title": "",
          "showTitle": false,
          "inputWidgets": {},
          "nuid": "26dba70f-1a5d-4c31-be7d-716a91d8eebb"
        },
        "id": "shPHuXBEovmN"
      }
    },
    {
      "cell_type": "code",
      "source": [
        "top_movie_ids = num_ratings_per_movie.top(20, key=lambda x: x[1])"
      ],
      "metadata": {
        "application/vnd.databricks.v1+cell": {
          "title": "",
          "showTitle": false,
          "inputWidgets": {},
          "nuid": "a5899b3d-248b-409d-b4d1-d47c9416fa98"
        },
        "id": "QiviO2aBovmP"
      },
      "outputs": [],
      "execution_count": 36
    },
    {
      "cell_type": "markdown",
      "source": [
        "We can create an rdd from data materialized on the driver like this."
      ],
      "metadata": {
        "application/vnd.databricks.v1+cell": {
          "title": "",
          "showTitle": false,
          "inputWidgets": {},
          "nuid": "81d905c9-db44-43bb-84ee-25d9054b82f7"
        },
        "id": "Yisyj8roovmQ"
      }
    },
    {
      "cell_type": "code",
      "source": [
        "top_movie_ids_rdd = sc.parallelize(top_movie_ids)"
      ],
      "metadata": {
        "application/vnd.databricks.v1+cell": {
          "title": "",
          "showTitle": false,
          "inputWidgets": {},
          "nuid": "66e4bba0-7eca-48a2-8824-d728f03255ae"
        },
        "id": "fi2mkyjwovmR"
      },
      "outputs": [],
      "execution_count": 37
    },
    {
      "cell_type": "code",
      "source": [
        "top_movie_ids_rdd\\\n",
        "    .join(movies_title)\\\n",
        "    .mapValues(lambda x: x[1])\\\n",
        "    .values()\\\n",
        "    .collect()"
      ],
      "metadata": {
        "application/vnd.databricks.v1+cell": {
          "title": "",
          "showTitle": false,
          "inputWidgets": {},
          "nuid": "4015eb80-0e03-4187-bab1-4a336c04b234"
        },
        "colab": {
          "base_uri": "https://localhost:8080/"
        },
        "id": "llR2ZGcBovmS",
        "outputId": "6bde8cbd-df5a-418d-8430-c276853b097f"
      },
      "outputs": [
        {
          "output_type": "execute_result",
          "data": {
            "text/plain": [
              "['Shawshank Redemption, The (1994)',\n",
              " 'Jurassic Park (1993)',\n",
              " 'Matrix, The (1999)',\n",
              " 'Apollo 13 (1995)',\n",
              " 'Independence Day (a.k.a. ID4) (1996)',\n",
              " 'Terminator 2: Judgment Day (1991)',\n",
              " 'Toy Story (1995)',\n",
              " 'Fugitive, The (1993)',\n",
              " 'Star Wars: Episode VI - Return of the Jedi (1983)',\n",
              " 'Batman (1989)',\n",
              " 'Pulp Fiction (1994)',\n",
              " 'Forrest Gump (1994)',\n",
              " 'Silence of the Lambs, The (1991)',\n",
              " 'Star Wars: Episode IV - A New Hope (1977)',\n",
              " 'Braveheart (1995)',\n",
              " \"Schindler's List (1993)\",\n",
              " 'Usual Suspects, The (1995)',\n",
              " 'Star Wars: Episode V - The Empire Strikes Back (1980)',\n",
              " 'American Beauty (1999)',\n",
              " 'Twelve Monkeys (a.k.a. 12 Monkeys) (1995)']"
            ]
          },
          "metadata": {},
          "execution_count": 38
        }
      ],
      "execution_count": 38
    },
    {
      "cell_type": "markdown",
      "source": [
        "When you wan to join and one RDD has not a lots of values, it is preferable to rely on broadcast join. Here is how to do it."
      ],
      "metadata": {
        "application/vnd.databricks.v1+cell": {
          "title": "",
          "showTitle": false,
          "inputWidgets": {},
          "nuid": "96138eba-c49d-4ab1-9cd5-206b7aa92b5f"
        },
        "id": "_g4OG1TLovmU"
      }
    },
    {
      "cell_type": "code",
      "source": [
        "type(top_movie_ids[1])"
      ],
      "metadata": {
        "application/vnd.databricks.v1+cell": {
          "title": "",
          "showTitle": false,
          "inputWidgets": {},
          "nuid": "d8ae77a1-e057-4b27-89e4-152c0b024231"
        },
        "colab": {
          "base_uri": "https://localhost:8080/"
        },
        "id": "hfIpaLRgovmU",
        "outputId": "8ce15f82-6063-4203-dda2-2cb92fc64bf6"
      },
      "outputs": [
        {
          "output_type": "execute_result",
          "data": {
            "text/plain": [
              "tuple"
            ]
          },
          "metadata": {},
          "execution_count": 39
        }
      ],
      "execution_count": 39
    },
    {
      "cell_type": "code",
      "source": [
        "top20_broadcast = sc.broadcast(dict(top_movie_ids))\n",
        "def gen_rows(x):\n",
        "  if x[0] in top20_broadcast.value:\n",
        "    return [(top20_broadcast.value.get(x[0]), x)]\n",
        "  else :\n",
        "    return []\n",
        "movies_title.flatMap(lambda x : gen_rows(x)).collect()"
      ],
      "metadata": {
        "application/vnd.databricks.v1+cell": {
          "title": "",
          "showTitle": false,
          "inputWidgets": {},
          "nuid": "8b3a545e-2252-4022-96ce-f3b256d707f6"
        },
        "colab": {
          "base_uri": "https://localhost:8080/"
        },
        "id": "R5z4j369ovmV",
        "outputId": "2fffce6b-08de-4997-ad86-76844b475601"
      },
      "outputs": [
        {
          "output_type": "execute_result",
          "data": {
            "text/plain": [
              "[(49695, (1, 'Toy Story (1995)')),\n",
              " (44980, (32, 'Twelve Monkeys (a.k.a. 12 Monkeys) (1995)')),\n",
              " (47006, (50, 'Usual Suspects, The (1995)')),\n",
              " (53769, (110, 'Braveheart (1995)')),\n",
              " (47777, (150, 'Apollo 13 (1995)')),\n",
              " (54502, (260, 'Star Wars: Episode IV - A New Hope (1977)')),\n",
              " (67310, (296, 'Pulp Fiction (1994)')),\n",
              " (63366, (318, 'Shawshank Redemption, The (1994)')),\n",
              " (66172, (356, 'Forrest Gump (1994)')),\n",
              " (49581, (457, 'Fugitive, The (1993)')),\n",
              " (59715, (480, 'Jurassic Park (1993)')),\n",
              " (50054, (527, \"Schindler's List (1993)\")),\n",
              " (52244, (589, 'Terminator 2: Judgment Day (1991)')),\n",
              " (46054, (592, 'Batman (1989)')),\n",
              " (63299, (593, 'Silence of the Lambs, The (1991)')),\n",
              " (47048, (780, 'Independence Day (a.k.a. ID4) (1996)')),\n",
              " (45313, (1196, 'Star Wars: Episode V - The Empire Strikes Back (1980)')),\n",
              " (46839, (1210, 'Star Wars: Episode VI - Return of the Jedi (1983)')),\n",
              " (51334, (2571, 'Matrix, The (1999)')),\n",
              " (44987, (2858, 'American Beauty (1999)'))]"
            ]
          },
          "metadata": {},
          "execution_count": 40
        }
      ],
      "execution_count": 40
    },
    {
      "cell_type": "markdown",
      "source": [
        "### Q6. Writing partioned datasets\n",
        "\n",
        "The ratings dataset is available as one big csv file. It is not very convenient since we have to go through the entire file to look for ratings for a specific userId. Moreover, we cannot open only a small part of the dataset.  \n",
        "Could you write the ratings dataset into 16 files located in /tmp/ratings/part=X/ratings.csv for X in [0, 16[ where userId in part=X are such that userId % 16 == X ?  Your function should return the list of written files with the number of ratings for each file.\n",
        "Look at the documentation of partitionBy and mapPartitionsWithIndex."
      ],
      "metadata": {
        "application/vnd.databricks.v1+cell": {
          "title": "",
          "showTitle": false,
          "inputWidgets": {},
          "nuid": "c2640dd5-bc4c-4fbe-9049-cbcac05b8e2e"
        },
        "id": "8XiTvAzKovmV"
      }
    },
    {
      "cell_type": "code",
      "source": [
        "help(ratings_rdd.mapPartitionsWithIndex)"
      ],
      "metadata": {
        "application/vnd.databricks.v1+cell": {
          "title": "",
          "showTitle": false,
          "inputWidgets": {},
          "nuid": "32f3748b-9925-4997-9940-860392f7b51e"
        },
        "colab": {
          "base_uri": "https://localhost:8080/"
        },
        "id": "FFMmgDy-ovmX",
        "outputId": "8f878a3a-cfe8-432a-d942-8c5647f2a19b"
      },
      "outputs": [
        {
          "output_type": "stream",
          "name": "stdout",
          "text": [
            "Help on method mapPartitionsWithIndex in module pyspark.rdd:\n",
            "\n",
            "mapPartitionsWithIndex(f, preservesPartitioning=False) method of pyspark.rdd.PipelinedRDD instance\n",
            "    Return a new RDD by applying a function to each partition of this RDD,\n",
            "    while tracking the index of the original partition.\n",
            "    \n",
            "    Examples\n",
            "    --------\n",
            "    >>> rdd = sc.parallelize([1, 2, 3, 4], 4)\n",
            "    >>> def f(splitIndex, iterator): yield splitIndex\n",
            "    >>> rdd.mapPartitionsWithIndex(f).sum()\n",
            "    6\n",
            "\n"
          ]
        }
      ],
      "execution_count": 41
    },
    {
      "cell_type": "code",
      "source": [
        "import os\n",
        "basedir = 'partitioned_ratings'\n",
        "os.mkdir(basedir)\n",
        "\n",
        "def write_csv(part_num, ratings):\n",
        "    partdir = f'{basedir}/part={part_num}'\n",
        "    os.mkdir(partdir)\n",
        "    filename = f'{partdir}/ratings.csv'\n",
        "    with open(filename, 'w') as f:\n",
        "        f.write('userId,movieId,rating,timestamp\\n')\n",
        "        num_ratings = 0\n",
        "        for _, x in ratings:\n",
        "            f.write(f\"{x['userId']},{x['movieId']},{x['rating']},{x['timestamp']}\\n\")\n",
        "            num_ratings += 1\n",
        "    return [(filename, num_ratings)]\n",
        "\n",
        "files_with_num_ratings = ratings_rdd\\\n",
        "    .keyBy(lambda x: x['userId'])\\\n",
        "    .partitionBy(16, partitionFunc=lambda x: x % 16)\\\n",
        "    .mapPartitionsWithIndex(write_csv)\\\n",
        "    .collect()\n",
        "                    \n",
        "files_with_num_ratings"
      ],
      "metadata": {
        "application/vnd.databricks.v1+cell": {
          "title": "",
          "showTitle": false,
          "inputWidgets": {},
          "nuid": "c0fdea43-dc79-4889-b9d2-6ffcf7e5d7ae"
        },
        "colab": {
          "base_uri": "https://localhost:8080/"
        },
        "id": "OZD6yxHYovmY",
        "outputId": "116a6213-9229-45b9-b0f8-2f9bcf659a45"
      },
      "outputs": [
        {
          "output_type": "execute_result",
          "data": {
            "text/plain": [
              "[('partitioned_ratings/part=0/ratings.csv', 1226643),\n",
              " ('partitioned_ratings/part=1/ratings.csv', 1251582),\n",
              " ('partitioned_ratings/part=2/ratings.csv', 1290082),\n",
              " ('partitioned_ratings/part=3/ratings.csv', 1261058),\n",
              " ('partitioned_ratings/part=4/ratings.csv', 1244472),\n",
              " ('partitioned_ratings/part=5/ratings.csv', 1287006),\n",
              " ('partitioned_ratings/part=6/ratings.csv', 1252140),\n",
              " ('partitioned_ratings/part=7/ratings.csv', 1235974),\n",
              " ('partitioned_ratings/part=8/ratings.csv', 1258352),\n",
              " ('partitioned_ratings/part=9/ratings.csv', 1199879),\n",
              " ('partitioned_ratings/part=10/ratings.csv', 1245584),\n",
              " ('partitioned_ratings/part=11/ratings.csv', 1245817),\n",
              " ('partitioned_ratings/part=12/ratings.csv', 1244863),\n",
              " ('partitioned_ratings/part=13/ratings.csv', 1280600),\n",
              " ('partitioned_ratings/part=14/ratings.csv', 1219400),\n",
              " ('partitioned_ratings/part=15/ratings.csv', 1256811)]"
            ]
          },
          "metadata": {},
          "execution_count": 42
        }
      ],
      "execution_count": 42
    },
    {
      "cell_type": "markdown",
      "source": [
        "### Q7. Most popular genre per year\n",
        "\n",
        "For every year since 1980, determine what is the most popular genre.  \n",
        "Look at the documentation of the flatMap function."
      ],
      "metadata": {
        "application/vnd.databricks.v1+cell": {
          "title": "",
          "showTitle": false,
          "inputWidgets": {},
          "nuid": "989bc3f3-9fdf-4867-b3bc-0161e71c2861"
        },
        "id": "vUz09o9povma"
      }
    },
    {
      "cell_type": "code",
      "source": [
        "import re\n",
        "year_pattern = re.compile(r\"\\((\\d+)\\)\")\n",
        "def extract_year(title):\n",
        "    years = year_pattern.findall(title)\n",
        "    return int(years[0]) if years else -1"
      ],
      "metadata": {
        "application/vnd.databricks.v1+cell": {
          "title": "",
          "showTitle": false,
          "inputWidgets": {},
          "nuid": "b6035a2e-c6c1-4257-a9c7-bfb12751c8e4"
        },
        "id": "bEMIiJitovmb"
      },
      "outputs": [],
      "execution_count": 43
    },
    {
      "cell_type": "code",
      "source": [
        "movies_info = movies_rdd\\\n",
        "    .keyBy(lambda x: x['movieId'])\\\n",
        "    .mapValues(lambda x: {'year': extract_year(x['title']), 'genres': x['genres'].split('|')})\\\n",
        "    .filter(lambda x: x[1]['year'] >= 1900)\n",
        "\n",
        "num_ratings_per_movie = ratings_rdd\\\n",
        "    .keyBy(lambda x: x['movieId'])\\\n",
        "    .mapValues(lambda x: 1)\\\n",
        "    .reduceByKey(lambda x,y: x+y)\n",
        "\n",
        "ratings_per_movie_with_genre_year = num_ratings_per_movie\\\n",
        "    .join(movies_info)\\\n",
        "    .values()\\\n",
        "    .map(lambda x: {'num_ratings': x[0], **x[1]})\n",
        "\n",
        "def explode_on_genre(movie_info):\n",
        "    num_ratings = movie_info['num_ratings']\n",
        "    year = movie_info['year']\n",
        "    for genre in movie_info['genres']:\n",
        "        yield {'year': year, 'num_ratings': num_ratings, 'genre': genre}\n",
        "\n",
        "genre_year = ratings_per_movie_with_genre_year\\\n",
        "    .flatMap(explode_on_genre)\\\n",
        "    .keyBy(lambda x: (x['genre'], x['year']))\\\n",
        "    .mapValues(lambda x: x['num_ratings'])\\\n",
        "    .reduceByKey(lambda x,y: x+y)\\\n",
        "    .map(lambda x: (x[0][0], x[0][1], x[1]))\\\n",
        "    .collect()"
      ],
      "metadata": {
        "application/vnd.databricks.v1+cell": {
          "title": "",
          "showTitle": false,
          "inputWidgets": {},
          "nuid": "ba0f9a83-54d2-44d5-a35d-58224edb20e5"
        },
        "id": "BffNRK9Uovmc"
      },
      "outputs": [],
      "execution_count": 44
    },
    {
      "cell_type": "markdown",
      "source": [
        "Let's keep genres which are at-least most popular during one year."
      ],
      "metadata": {
        "application/vnd.databricks.v1+cell": {
          "title": "",
          "showTitle": false,
          "inputWidgets": {},
          "nuid": "95b0f5a5-2f0c-4612-9585-9247dc3b3485"
        },
        "id": "30K2ofAGovmd"
      }
    },
    {
      "cell_type": "code",
      "source": [
        "genre_year_pd = pd.DataFrame(genre_year, columns=['genre', 'year', 'num_ratings'])\n",
        "genre_year_pd = genre_year_pd[genre_year_pd['year']>=1980]"
      ],
      "metadata": {
        "application/vnd.databricks.v1+cell": {
          "title": "",
          "showTitle": false,
          "inputWidgets": {},
          "nuid": "26dc72d9-effd-4111-9819-a7421fa12b58"
        },
        "id": "1hd9cIHqovmg"
      },
      "outputs": [],
      "execution_count": 45
    },
    {
      "cell_type": "code",
      "source": [
        "max_rating_per_year = genre_year_pd.groupby('year').agg({'num_ratings':'max'}).reset_index()\n",
        "interesting_genres = set(max_rating_per_year.set_index(['year','num_ratings']).join(genre_year_pd.set_index(['year','num_ratings']))['genre'].unique())\n",
        "interesting_genres"
      ],
      "metadata": {
        "application/vnd.databricks.v1+cell": {
          "title": "",
          "showTitle": false,
          "inputWidgets": {},
          "nuid": "e5e92b9a-1612-48a4-af18-ad8f43c9e3de"
        },
        "colab": {
          "base_uri": "https://localhost:8080/"
        },
        "id": "fvIdxlK-ovmi",
        "outputId": "99125f44-beee-423f-b933-c516ac9ea1e0"
      },
      "outputs": [
        {
          "output_type": "execute_result",
          "data": {
            "text/plain": [
              "{'Action', 'Comedy', 'Drama'}"
            ]
          },
          "metadata": {},
          "execution_count": 46
        }
      ],
      "execution_count": 46
    },
    {
      "cell_type": "code",
      "source": [
        "genre_year_pd = genre_year_pd[genre_year_pd['genre'].isin(interesting_genres)]\n",
        "df = genre_year_pd.pivot(index='year', columns='genre', values='num_ratings')\n",
        "df.plot()"
      ],
      "metadata": {
        "application/vnd.databricks.v1+cell": {
          "title": "",
          "showTitle": false,
          "inputWidgets": {},
          "nuid": "914f79e9-c081-40ec-828a-30ca496fe684"
        },
        "colab": {
          "base_uri": "https://localhost:8080/",
          "height": 297
        },
        "id": "eu64MU6Povmi",
        "outputId": "17d8ab90-0ffc-4728-9a07-5e192b4aebc2"
      },
      "outputs": [
        {
          "output_type": "execute_result",
          "data": {
            "text/plain": [
              "<matplotlib.axes._subplots.AxesSubplot at 0x7f9cb71c30a0>"
            ]
          },
          "metadata": {},
          "execution_count": 47
        },
        {
          "output_type": "display_data",
          "data": {
            "text/plain": [
              "<Figure size 432x288 with 1 Axes>"
            ],
            "image/png": "[encoded data removed]"
          },
          "metadata": {
            "needs_background": "light"
          }
        }
      ],
      "execution_count": 47
    },
    {
      "cell_type": "markdown",
      "source": [
        "### Q8.  Best movies\n",
        "\n",
        "Amongst the movies with at least 1000 ratings, what are the top 20 movies per median rating ?"
      ],
      "metadata": {
        "application/vnd.databricks.v1+cell": {
          "title": "",
          "showTitle": false,
          "inputWidgets": {},
          "nuid": "13200f13-1641-4774-bb22-00b75c9b377c"
        },
        "id": "xctn2Rn6ovmj"
      }
    },
    {
      "cell_type": "markdown",
      "source": [
        "Computation of median can be done quickly there, as the set of ratings is discrete. We will define counters for each rating then it will be easy to compute median. Let's define some useful functions first."
      ],
      "metadata": {
        "application/vnd.databricks.v1+cell": {
          "title": "",
          "showTitle": false,
          "inputWidgets": {},
          "nuid": "bd540597-514c-4932-85ad-265497ebe124"
        },
        "id": "S-Nj-iLtovmj"
      }
    },
    {
      "cell_type": "code",
      "source": [
        "def collect_ratings(rating_counts):\n",
        "    return {x['rating']: x['count'] for x in rating_counts}\n",
        "\n",
        "def total_ratings(ratings):\n",
        "    return sum(ratings.values())\n",
        "\n",
        "def median_rating(ratings):\n",
        "    target = total_ratings(ratings) / 2\n",
        "    num_ratings = 0\n",
        "    for rating in sorted(ratings.keys()):\n",
        "        num_ratings += ratings[rating]\n",
        "        if num_ratings >= target:\n",
        "            return rating"
      ],
      "metadata": {
        "application/vnd.databricks.v1+cell": {
          "title": "",
          "showTitle": false,
          "inputWidgets": {},
          "nuid": "15b1dc71-19e5-4e6e-a6ad-9998d9a1b418"
        },
        "id": "TVMQsaraovmk"
      },
      "outputs": [],
      "execution_count": null
    },
    {
      "cell_type": "markdown",
      "source": [
        "First we need to know how many ratings of each kind we have for each movie. Then we can filter-out non popular movies before getting the top 20. We could join after calling 'top' also. Please note how Counter is great to accumulate values there."
      ],
      "metadata": {
        "application/vnd.databricks.v1+cell": {
          "title": "",
          "showTitle": false,
          "inputWidgets": {},
          "nuid": "5b03b438-6d10-4577-90e9-6bd8e5f6f709"
        },
        "id": "p2u_AP2rovmk"
      }
    },
    {
      "cell_type": "code",
      "source": [
        "from collections import Counter\n",
        "\n",
        "movie_rating_count = ratings_rdd\\\n",
        "    .keyBy(lambda x: x['movieId'])\\\n",
        "    .mapValues(lambda x: Counter({x['rating']:1}))\\\n",
        "    .reduceByKey(lambda x,y: x+y)\\\n",
        "\n",
        "median_rating_per_movie = movie_rating_count\\\n",
        "    .filter(lambda x: sum(x[1].values()) >= 1000)\\\n",
        "    .mapValues(median_rating)\n",
        "\n",
        "median_rating_title = median_rating_per_movie\\\n",
        "    .join(movies_title)\\\n",
        "    .mapValues(lambda x: {'median_rating': x[0], 'title': x[1]})\\\n",
        "    .values()\n",
        "\n",
        "median_rating_title.top(20, key=lambda x: x['median_rating'])"
      ],
      "metadata": {
        "application/vnd.databricks.v1+cell": {
          "title": "",
          "showTitle": false,
          "inputWidgets": {},
          "nuid": "431b0993-0d21-4bee-852f-4eedfebb8c25"
        },
        "id": "V-QZXsoOovml",
        "outputId": "b413861b-eb3b-46b7-c1ff-c7280d5ddf9f"
      },
      "outputs": [
        {
          "output_type": "display_data",
          "metadata": {
            "application/vnd.databricks.v1+output": {
              "datasetInfos": [],
              "data": "Out[47]: [{'median_rating': 5.0, 'title': 'Shawshank Redemption, The (1994)'},\n {'median_rating': 4.5, 'title': 'Intouchables (2011)'},\n {'median_rating': 4.5, 'title': 'Ikiru (1952)'},\n {'median_rating': 4.5, 'title': 'Persona (1966)'},\n {'median_rating': 4.5,\n  'title': 'Spirited Away (Sen to Chihiro no kamikakushi) (2001)'},\n {'median_rating': 4.5, 'title': 'Life Is Beautiful (La Vita è bella) (1997)'},\n {'median_rating': 4.5, 'title': 'Grand Illusion (La grande illusion) (1937)'},\n {'median_rating': 4.5,\n  'title': 'Lord of the Rings: The Two Towers, The (2002)'},\n {'median_rating': 4.5, 'title': 'Casablanca (1942)'},\n {'median_rating': 4.5, 'title': 'Godfather, The (1972)'},\n {'median_rating': 4.5,\n  'title': 'Seven Samurai (Shichinin no samurai) (1954)'},\n {'median_rating': 4.5,\n  'title': 'Dr. Strangelove or: How I Learned to Stop Worrying and Love the Bomb (1964)'},\n {'median_rating': 4.5, 'title': 'Rear Window (1954)'},\n {'median_rating': 4.5, 'title': 'City of God (Cidade de Deus) (2002)'},\n {'median_rating': 4.5,\n  'title': 'Children of Paradise (Les enfants du paradis) (1945)'},\n {'median_rating': 4.5,\n  'title': 'Sunset Blvd. (a.k.a. Sunset Boulevard) (1950)'},\n {'median_rating': 4.5, 'title': 'City Lights (1931)'},\n {'median_rating': 4.5, 'title': 'Inception (2010)'},\n {'median_rating': 4.5, 'title': \"One Flew Over the Cuckoo's Nest (1975)\"},\n {'median_rating': 4.5, 'title': 'Usual Suspects, The (1995)'}]",
              "removedWidgets": [],
              "addedWidgets": {},
              "metadata": {},
              "type": "ansi",
              "arguments": {}
            }
          },
          "data": {
            "text/plain": [
              "Out[47]: [{'median_rating': 5.0, 'title': 'Shawshank Redemption, The (1994)'},\n {'median_rating': 4.5, 'title': 'Intouchables (2011)'},\n {'median_rating': 4.5, 'title': 'Ikiru (1952)'},\n {'median_rating': 4.5, 'title': 'Persona (1966)'},\n {'median_rating': 4.5,\n  'title': 'Spirited Away (Sen to Chihiro no kamikakushi) (2001)'},\n {'median_rating': 4.5, 'title': 'Life Is Beautiful (La Vita è bella) (1997)'},\n {'median_rating': 4.5, 'title': 'Grand Illusion (La grande illusion) (1937)'},\n {'median_rating': 4.5,\n  'title': 'Lord of the Rings: The Two Towers, The (2002)'},\n {'median_rating': 4.5, 'title': 'Casablanca (1942)'},\n {'median_rating': 4.5, 'title': 'Godfather, The (1972)'},\n {'median_rating': 4.5,\n  'title': 'Seven Samurai (Shichinin no samurai) (1954)'},\n {'median_rating': 4.5,\n  'title': 'Dr. Strangelove or: How I Learned to Stop Worrying and Love the Bomb (1964)'},\n {'median_rating': 4.5, 'title': 'Rear Window (1954)'},\n {'median_rating': 4.5, 'title': 'City of God (Cidade de Deus) (2002)'},\n {'median_rating': 4.5,\n  'title': 'Children of Paradise (Les enfants du paradis) (1945)'},\n {'median_rating': 4.5,\n  'title': 'Sunset Blvd. (a.k.a. Sunset Boulevard) (1950)'},\n {'median_rating': 4.5, 'title': 'City Lights (1931)'},\n {'median_rating': 4.5, 'title': 'Inception (2010)'},\n {'median_rating': 4.5, 'title': \"One Flew Over the Cuckoo's Nest (1975)\"},\n {'median_rating': 4.5, 'title': 'Usual Suspects, The (1995)'}]"
            ]
          },
          "transient": null
        }
      ],
      "execution_count": null
    },
    {
      "cell_type": "code",
      "source": [
        "# # When you're done with a session you've created, stop it\n",
        "spark.stop()"
      ],
      "metadata": {
        "application/vnd.databricks.v1+cell": {
          "title": "",
          "showTitle": false,
          "inputWidgets": {},
          "nuid": "00572075-6e9d-49a5-9c54-9f40e2999e6a"
        },
        "id": "vyr3hrSGovmm"
      },
      "outputs": [],
      "execution_count": null
    }
  ],
  "metadata": {
    "language_info": {
      "mimetype": "text/x-python",
      "name": "python",
      "pygments_lexer": "ipython3",
      "codemirror_mode": {
        "name": "ipython",
        "version": 3
      },
      "version": "3.6.15",
      "nbconvert_exporter": "python",
      "file_extension": ".py"
    },
    "name": "rdd",
    "notebookId": 869522255783514,
    "kernelspec": {
      "display_name": "Python 3",
      "language": "python",
      "name": "python3"
    },
    "application/vnd.databricks.v1+notebook": {
      "notebookName": "rdd solution",
      "dashboards": [],
      "notebookMetadata": {
        "pythonIndentUnit": 4
      },
      "language": "python",
      "widgets": {},
      "notebookOrigID": 78139586907239
    },
    "colab": {
      "provenance": []
    }
  },
  "nbformat": 4,
  "nbformat_minor": 0
}