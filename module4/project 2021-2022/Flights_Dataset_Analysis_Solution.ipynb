{
  "nbformat": 4,
  "nbformat_minor": 0,
  "metadata": {
    "colab": {
      "name": "Flights_Dataset_Analysis_Solution.ipynb",
      "provenance": [],
      "collapsed_sections": []
    },
    "kernelspec": {
      "name": "python3",
      "display_name": "Python 3"
    },
    "language_info": {
      "name": "python"
    }
  },
  "cells": [
    {
      "cell_type": "markdown",
      "source": [
        "# Practical Session 3/4 : Flights Dataset Analysis\n",
        "In this session, we will conduct a few analyses on a simplified flight fares dataset.  \n",
        "In particular we will try to build cheapest routes from one point to another."
      ],
      "metadata": {
        "id": "HJ3XJCHQQ6hd"
      }
    },
    {
      "cell_type": "markdown",
      "source": [
        "## Grading and Instructions\n",
        "You must return your notebook before **Wednesday March 2nd 23:59 Paris time** by email to David : d.diebold@criteo.com.  \n",
        "Grade will be composed of :\n",
        "1. Timely return\n",
        "2. Correctness (some questions may still leave you with some liberties)\n",
        "3. Report formatting : While we allow you to return your project in a notebook format, you should think your report as being a classic text and image pdf report in which the code is in appendix. That means your notebook should be fully readable while hiding all the code cells.\n",
        "4. Code Readability (factorized code, well-named variables, explain what you do when code becomes complicated, etc...)\n",
        "5. Performance (this is not a race but we want you to think about performance issues when designing your solution (shuffles, etc...). Don't hesitate to annotate your notebook with any remarks about your solution.\n"
      ],
      "metadata": {
        "id": "jBzndH833opa"
      }
    },
    {
      "cell_type": "markdown",
      "source": [
        "## Install Spark Environment\n",
        "Since we are not running on databricks, we will need to install Spark by ourselves, every time we run the session.  \n",
        "We need to install Spark, as well as a Java Runtime Environment.  \n",
        "Then we need to setup a few environment variables.  \n"
      ],
      "metadata": {
        "id": "W7mpca-zaxh7"
      }
    },
    {
      "cell_type": "code",
      "execution_count": 1,
      "metadata": {
        "colab": {
          "base_uri": "https://localhost:8080/"
        },
        "id": "evGT05CJ9Bcw",
        "outputId": "48d9677b-f69a-4f22-8411-a39a7aec4f4a"
      },
      "outputs": [
        {
          "output_type": "stream",
          "name": "stdout",
          "text": [
            "  % Total    % Received % Xferd  Average Speed   Time    Time     Time  Current\n",
            "                                 Dload  Upload   Total   Spent    Left  Speed\n",
            "100  287M  100  287M    0     0   198M      0  0:00:01  0:00:01 --:--:--  198M\n"
          ]
        }
      ],
      "source": [
        "!apt-get install openjdk-8-jdk-headless -qq > /dev/null\n",
        "!curl -O https://dlcdn.apache.org/spark/spark-3.2.1/spark-3.2.1-bin-hadoop3.2.tgz\n",
        "!tar xf spark-3.2.1-bin-hadoop3.2.tgz\n",
        "!pip install -q findspark"
      ]
    },
    {
      "cell_type": "code",
      "source": [
        "import os\n",
        "os.environ[\"JAVA_HOME\"] = \"/usr/lib/jvm/java-8-openjdk-amd64\"\n",
        "os.environ[\"SPARK_HOME\"] = \"/content/spark-3.2.1-bin-hadoop3.2\""
      ],
      "metadata": {
        "id": "PoyY51Od9KrL"
      },
      "execution_count": 2,
      "outputs": []
    },
    {
      "cell_type": "code",
      "source": [
        "import findspark\n",
        "findspark.init()\n",
        "from pyspark.sql import SparkSession\n",
        "from pyspark import SparkContext, SparkConf\n",
        "\n",
        "conf = SparkConf().set('spark.ui.port', '4050')\n",
        "sc = SparkContext(conf=conf)\n",
        "spark = SparkSession.builder.master('local[*]').getOrCreate()"
      ],
      "metadata": {
        "id": "fgjP2e7r-p2J"
      },
      "execution_count": 3,
      "outputs": []
    },
    {
      "cell_type": "markdown",
      "source": [
        "## Optional step : Enable SparkUI through secure tunnel\n",
        "This step is useful if you want to look at Spark UI.\n",
        "First, you need to create a free ngrok account : https://dashboard.ngrok.com/login.  \n",
        "Then connect on the website and copy your AuthToken.\n"
      ],
      "metadata": {
        "id": "waeQxpkV_Tyy"
      }
    },
    {
      "cell_type": "code",
      "source": [
        "# this step downloads ngrok, configures your AuthToken, then starts the tunnel\n",
        "!wget https://bin.equinox.io/c/4VmDzA7iaHb/ngrok-stable-linux-amd64.zip\n",
        "!unzip ngrok-stable-linux-amd64.zip\n",
        "!./ngrok authtoken my_ngrok_auth_token_retrieved_from_website # <-------------- change this line !\n",
        "get_ipython().system_raw('./ngrok http 4050 &')"
      ],
      "metadata": {
        "colab": {
          "base_uri": "https://localhost:8080/"
        },
        "id": "tA71x1we-wCU",
        "outputId": "abc9e204-2a9f-4cb1-85e5-7a3c0284c2bc"
      },
      "execution_count": null,
      "outputs": [
        {
          "output_type": "stream",
          "name": "stdout",
          "text": [
            "Authtoken saved to configuration file: /root/.ngrok2/ngrok.yml\n"
          ]
        }
      ]
    },
    {
      "cell_type": "markdown",
      "source": [
        "Now get the Spark UI url on https://dashboard.ngrok.com/endpoints/status. We're done !"
      ],
      "metadata": {
        "id": "X9fdibw-AWgG"
      }
    },
    {
      "cell_type": "markdown",
      "source": [
        "## Useful imports"
      ],
      "metadata": {
        "id": "EcQneiFya-p8"
      }
    },
    {
      "cell_type": "code",
      "source": [
        "import time\n",
        "import numpy as np\n",
        "import pyspark.sql.functions as F\n",
        "%matplotlib inline"
      ],
      "metadata": {
        "id": "Qw-LfxWabAt7"
      },
      "execution_count": 4,
      "outputs": []
    },
    {
      "cell_type": "markdown",
      "source": [
        "## Introduction\n",
        "Aim of this notebook is to help you get comfortable with Spark Dataframe API while working on a flights dataset.  \n",
        "This dataset contains some domestic flight prices for US country.  \n",
        "We will call route a tuple identified by an origin airport and a destination airport.  \n",
        "We will try to find-out what are the best options for a traveler, to go from some place to another.  \n",
        "Here is a short description of the columns:\n",
        "- ItinID & MktID: vaguely demonstrates the order in which tickets were ordered (lower ID #'s being ordered first)\n",
        "- MktCoupons: the number of coupons in the market for that flight\n",
        "- Quarter: 1, 2, 3, or 4, all of which are in 2018\n",
        "- Origin: the city out of which the flight begins\n",
        "- OriginWac: USA State/Territory World Area Code\n",
        "- Dest: the city out of which the flight begins\n",
        "- DestWac: USA State/Territory World Area Code\n",
        "- Miles: the number of miles traveled\n",
        "- ContiguousUSA: binary column -- (2) meaning flight is in the contiguous (48) USA states, and (1) meaning it is not (ie: Hawaii, Alaska, off-shore territories)\n",
        "- NumTicketsOrdered: number of tickets that were purchased by the user\n",
        "- Airline Company: the two-letter airline company code that the user used from start to finish (key codes below)\n",
        "- PricePerTicket: ticket price"
      ],
      "metadata": {
        "id": "NwM5x_W3BR-C"
      }
    },
    {
      "cell_type": "code",
      "source": [
        "# download the dataset described above\n",
        "from urllib import request\n",
        "import zipfile\n",
        "\n",
        "url = \"https://www.dropbox.com/s/kda4h5su4z6go05/flights.zip?dl=1\"\n",
        "filehandle, _ = request.urlretrieve(url)\n",
        "zip_file_object = zipfile.ZipFile(filehandle, 'r')\n",
        "zip_file_object.extractall()"
      ],
      "metadata": {
        "id": "umxgKJhc-sPC"
      },
      "execution_count": 5,
      "outputs": []
    },
    {
      "cell_type": "code",
      "source": [
        "# This seond file contains a mapping with airports Code / Name / Latitude / Longitude\n",
        "# It can help to get a better understanding of the airports you are dealing with.\n",
        "# Source : https://www.partow.net/miscellaneous/airportdatabase/index.html#Downloads\n",
        "url2 = \"https://www.dropbox.com/s/xe2a3hgwlugos7a/GlobalAirportDatabase.txt?dl=1\"\n",
        "request.urlretrieve(url2, \"airport_latlon.txt\")"
      ],
      "metadata": {
        "colab": {
          "base_uri": "https://localhost:8080/"
        },
        "id": "zxur6Y50IfAZ",
        "outputId": "5995f6de-4a68-433a-9953-28e745edbf82"
      },
      "execution_count": 6,
      "outputs": [
        {
          "output_type": "execute_result",
          "data": {
            "text/plain": [
              "('airport_latlon.txt', <http.client.HTTPMessage at 0x7fbc6a291150>)"
            ]
          },
          "metadata": {},
          "execution_count": 6
        }
      ]
    },
    {
      "cell_type": "code",
      "source": [
        "!ls"
      ],
      "metadata": {
        "colab": {
          "base_uri": "https://localhost:8080/"
        },
        "id": "kt02q18wIz25",
        "outputId": "db66ee6f-42ca-42ff-e924-2ee19f446ce9"
      },
      "execution_count": 7,
      "outputs": [
        {
          "output_type": "stream",
          "name": "stdout",
          "text": [
            "airport_latlon.txt\t  spark-3.2.1-bin-hadoop3.2\n",
            "Cleaned_2018_Flights.csv  spark-3.2.1-bin-hadoop3.2.tgz\n",
            "sample_data\n"
          ]
        }
      ]
    },
    {
      "cell_type": "markdown",
      "source": [
        "## Question 1 (1 point)\n",
        "Display a few rows of the flights fare dataset, display it's schema, and count the amount of rows.  \n",
        "You are likely to read this dataset a lots of times ; rewrite the dataset on the file system in an optimized way, to optimize further readings.  "
      ],
      "metadata": {
        "id": "Dmz2xyHdkPtj"
      }
    },
    {
      "cell_type": "code",
      "source": [
        "flights_df = spark.read.options(header=True, inferSchema=True).csv(\"Cleaned_2018_Flights.csv\")\n",
        "flights_df.write.parquet(\"flights.parquet\")"
      ],
      "metadata": {
        "id": "69yMrCWmkPYV"
      },
      "execution_count": 8,
      "outputs": []
    },
    {
      "cell_type": "code",
      "source": [
        "flights_df = spark.read.parquet(\"flights.parquet\")\n",
        "flights_df.show(5)"
      ],
      "metadata": {
        "colab": {
          "base_uri": "https://localhost:8080/"
        },
        "id": "Icesla-ilPNs",
        "outputId": "6d95f00e-660c-45cc-84e5-972beeb2a98b"
      },
      "execution_count": 9,
      "outputs": [
        {
          "output_type": "stream",
          "name": "stdout",
          "text": [
            "+---+-----------+-------------+----------+-------+------+---------+----+-------+------+-------------+-----------------+--------------+--------------+\n",
            "|_c0|     ItinID|        MktID|MktCoupons|Quarter|Origin|OriginWac|Dest|DestWac| Miles|ContiguousUSA|NumTicketsOrdered|AirlineCompany|PricePerTicket|\n",
            "+---+-----------+-------------+----------+-------+------+---------+----+-------+------+-------------+-----------------+--------------+--------------+\n",
            "|  0|20181767585|2018176758501|         1|      1|   PHL|       23| LAX|     91|2402.0|            2|              1.0|            AA|        672.87|\n",
            "|  1|20181767586|2018176758601|         1|      1|   PHL|       23| LAX|     91|2402.0|            2|              1.0|            AA|        367.68|\n",
            "|  2|20181767587|2018176758701|         1|      1|   PHL|       23| LAX|     91|2402.0|            2|              1.0|            AA|        417.94|\n",
            "|  3|20181767636|2018176763601|         1|      1|   PHL|       23| LAX|     91|2402.0|            2|              1.0|            AA|         247.1|\n",
            "|  4|20181767637|2018176763701|         1|      1|   PHL|       23| LAX|     91|2402.0|            2|              1.0|            AA|        276.35|\n",
            "+---+-----------+-------------+----------+-------+------+---------+----+-------+------+-------------+-----------------+--------------+--------------+\n",
            "only showing top 5 rows\n",
            "\n"
          ]
        }
      ]
    },
    {
      "cell_type": "code",
      "source": [
        "flights_df.printSchema()"
      ],
      "metadata": {
        "colab": {
          "base_uri": "https://localhost:8080/"
        },
        "id": "3zPdE8MPlSuA",
        "outputId": "b3324090-8179-46ee-b7c8-f36e552dd765"
      },
      "execution_count": null,
      "outputs": [
        {
          "output_type": "stream",
          "name": "stdout",
          "text": [
            "root\n",
            " |-- _c0: integer (nullable = true)\n",
            " |-- ItinID: long (nullable = true)\n",
            " |-- MktID: long (nullable = true)\n",
            " |-- MktCoupons: integer (nullable = true)\n",
            " |-- Quarter: integer (nullable = true)\n",
            " |-- Origin: string (nullable = true)\n",
            " |-- OriginWac: integer (nullable = true)\n",
            " |-- Dest: string (nullable = true)\n",
            " |-- DestWac: integer (nullable = true)\n",
            " |-- Miles: double (nullable = true)\n",
            " |-- ContiguousUSA: integer (nullable = true)\n",
            " |-- NumTicketsOrdered: double (nullable = true)\n",
            " |-- AirlineCompany: string (nullable = true)\n",
            " |-- PricePerTicket: double (nullable = true)\n",
            "\n"
          ]
        }
      ]
    },
    {
      "cell_type": "code",
      "source": [
        "print(f\"Amount of rows : {flights_df.count()}\")"
      ],
      "metadata": {
        "colab": {
          "base_uri": "https://localhost:8080/"
        },
        "id": "CLlBUjJZldwS",
        "outputId": "80723a9b-f88f-4272-8baa-e57999ad0603"
      },
      "execution_count": null,
      "outputs": [
        {
          "output_type": "stream",
          "name": "stdout",
          "text": [
            "Amount of rows : 9534417\n"
          ]
        }
      ]
    },
    {
      "cell_type": "markdown",
      "source": [
        "## Question 2 (4 points)  \n",
        "Find how many origin and destination airports are contained in the dataset.  \n",
        "Show them on a US map to get a better intuition of the dataset. You can use shapely and geopandas to perform this task.  \n",
        "Do we have all the lat/lon available ?"
      ],
      "metadata": {
        "id": "jBVPBi7ZCpWO"
      }
    },
    {
      "cell_type": "code",
      "source": [
        "nb_origin_airports = flights_df.select('Origin').distinct().count()\n",
        "print(f\"Origin Airports : {nb_origin_airports}\")"
      ],
      "metadata": {
        "colab": {
          "base_uri": "https://localhost:8080/"
        },
        "id": "jvF162XhmY4L",
        "outputId": "66b0aaf6-e6ad-4d42-f73b-db7408e15585"
      },
      "execution_count": 10,
      "outputs": [
        {
          "output_type": "stream",
          "name": "stdout",
          "text": [
            "Origin Airports : 263\n"
          ]
        }
      ]
    },
    {
      "cell_type": "code",
      "source": [
        "nb_dest_airports = flights_df.select('Dest').distinct().count()\n",
        "print(f\"Destination Airports : {nb_dest_airports}\")"
      ],
      "metadata": {
        "colab": {
          "base_uri": "https://localhost:8080/"
        },
        "id": "vBDUecmAmp_V",
        "outputId": "a3991b39-c743-4f18-d8b4-2408f0308fde"
      },
      "execution_count": 11,
      "outputs": [
        {
          "output_type": "stream",
          "name": "stdout",
          "text": [
            "Destination Airports : 260\n"
          ]
        }
      ]
    },
    {
      "cell_type": "code",
      "source": [
        "# loading mapping dataset. \n",
        "# csv does not contain any column, we need to name them manually.\n",
        "airports_latlon_df = (\n",
        "    spark\n",
        "    .read\n",
        "    .options(header=False, inferSchema=True, delimiter=':')\n",
        "    .csv(\"airport_latlon.txt\")\n",
        "    .withColumnRenamed(\"_c1\", \"iata_code\")\n",
        "    .withColumnRenamed(\"_c4\", \"country\")\n",
        "    .withColumnRenamed(\"_c14\", \"lat\")\n",
        "    .withColumnRenamed(\"_c15\", \"lon\")\n",
        "    .filter(\"iata_code!='N/A'\")\n",
        "    .filter(\"country='USA'\")\n",
        "    .filter(\"lat!=0.0\")\n",
        "    .filter(\"lon!=0.0\")\n",
        ")"
      ],
      "metadata": {
        "id": "w9ZqjVYXJPKR"
      },
      "execution_count": 12,
      "outputs": []
    },
    {
      "cell_type": "code",
      "source": [
        "airports_latlon_df.show(5)"
      ],
      "metadata": {
        "colab": {
          "base_uri": "https://localhost:8080/"
        },
        "id": "HEjlyyHhJczA",
        "outputId": "481e479d-4e16-436a-fdd3-b4ba16b1c9cf"
      },
      "execution_count": 13,
      "outputs": [
        {
          "output_type": "stream",
          "name": "stdout",
          "text": [
            "+----+---------+--------------------+-------------+-------+---+---+---+---+---+----+----+----+----+------+-------+\n",
            "| _c0|iata_code|                 _c2|          _c3|country|_c5|_c6|_c7|_c8|_c9|_c10|_c11|_c12|_c13|   lat|    lon|\n",
            "+----+---------+--------------------+-------------+-------+---+---+---+---+---+----+----+----+----+------+-------+\n",
            "|KABI|      ABI|        ABILENE RGNL|      ABILENE|    USA| 32| 24| 40|  N| 99|  40|  54|   W| 546|32.411|-99.682|\n",
            "|KACK|      ACK|       NANTUCKET MEM|    NANTUCKET|    USA| 41| 15| 10|  N| 70|   3|  36|   W|  15|41.253| -70.06|\n",
            "|KACT|      ACT|           WACO RGNL|         WACO|    USA| 31| 36| 40|  N| 97|  13|  49|   W| 158|31.611| -97.23|\n",
            "|KACY|      ACY|ATLANTIC CITY INT...|ATLANTIC CITY|    USA| 39| 27| 27|  N| 74|  34|  37|   W|  23|39.458|-74.577|\n",
            "|KADM|      ADM|        ARDMORE MUNI|      ARDMORE|    USA| 34| 18| 11|  N| 97|   1|  10|   W| 233|34.303|-97.019|\n",
            "+----+---------+--------------------+-------------+-------+---+---+---+---+---+----+----+----+----+------+-------+\n",
            "only showing top 5 rows\n",
            "\n"
          ]
        }
      ]
    },
    {
      "cell_type": "code",
      "source": [
        "distinct_airports_df = (\n",
        "    flights_df.select(F.col('Origin').alias('Airport')).distinct()\n",
        "    .union(flights_df.select(F.col('Dest').alias('Airport')).distinct())\n",
        "    .distinct()\n",
        "    .cache()\n",
        "    )"
      ],
      "metadata": {
        "id": "yBs4k1o31fm0"
      },
      "execution_count": 14,
      "outputs": []
    },
    {
      "cell_type": "code",
      "source": [
        "distinct_airports_with_latlon_df = (\n",
        "    distinct_airports_df\n",
        "      .join(airports_latlon_df.withColumnRenamed(\"iata_code\", \"Airport\"), on=\"Airport\")\n",
        "      .cache()\n",
        "    )"
      ],
      "metadata": {
        "id": "p0JCOphIKYRT"
      },
      "execution_count": 15,
      "outputs": []
    },
    {
      "cell_type": "code",
      "source": [
        "found = distinct_airports_with_latlon_df.collect()\n",
        "all_origins = distinct_airports_df.count()\n",
        "print(f\"Airports with Lat/Lon found : {len(found)} out of {all_origins}\")"
      ],
      "metadata": {
        "colab": {
          "base_uri": "https://localhost:8080/"
        },
        "id": "dSF0_Y4RK5PC",
        "outputId": "c9491e0c-d9f5-4585-ba56-fa720ee6ef65"
      },
      "execution_count": 16,
      "outputs": [
        {
          "output_type": "stream",
          "name": "stdout",
          "text": [
            "Airports with Lat/Lon found : 167 out of 270\n"
          ]
        }
      ]
    },
    {
      "cell_type": "code",
      "source": [
        "pd_df = distinct_airports_with_latlon_df.select('Airport', 'lat', 'lon').distinct().toPandas()"
      ],
      "metadata": {
        "id": "eMaZOFFBXwb1"
      },
      "execution_count": 17,
      "outputs": []
    },
    {
      "cell_type": "code",
      "source": [
        "!pip install shapely > /dev/null\n",
        "!pip install geopandas > /dev/null"
      ],
      "metadata": {
        "id": "zYkDlqHhX62F"
      },
      "execution_count": 18,
      "outputs": []
    },
    {
      "cell_type": "code",
      "source": [
        "import pandas as pd\n",
        "from shapely.geometry import Point\n",
        "import geopandas as gpd\n",
        "from geopandas import GeoDataFrame\n",
        "\n",
        "world = gpd.read_file(gpd.datasets.get_path('naturalearth_lowres'))\n",
        "us = world[world.name == 'United States of America']\n",
        "\n",
        "geometry = [Point(xy) for xy in zip(pd_df['lon'], pd_df['lat'])]\n",
        "gdf = GeoDataFrame(pd_df, geometry=geometry)\n",
        "\n",
        "ax = us.plot(figsize=(20, 12))\n",
        "gdf.plot(ax=ax, marker='o', color='red', markersize=15)"
      ],
      "metadata": {
        "colab": {
          "base_uri": "https://localhost:8080/",
          "height": 599
        },
        "id": "3b4x87c-YbRW",
        "outputId": "4633e2e5-92d4-48e7-eff5-ea29abf76c89"
      },
      "execution_count": 19,
      "outputs": [
        {
          "output_type": "execute_result",
          "data": {
            "text/plain": [
              "<matplotlib.axes._subplots.AxesSubplot at 0x7f9afbceaed0>"
            ]
          },
          "metadata": {},
          "execution_count": 19
        },
        {
          "output_type": "display_data",
          "data": {
            "image/png": "[encoded data removed]",
            "text/plain": [
              "<Figure size 1440x864 with 1 Axes>"
            ]
          },
          "metadata": {
            "needs_background": "light"
          }
        }
      ]
    },
    {
      "cell_type": "markdown",
      "source": [
        "In the next two questions, we will want to get an understanding of ticket prices based on flight distance.  \n",
        "## Question 3 (2 points)\n",
        "To do that we first need to get and understanding of the flight distance distribution.  \n",
        "We want to display an histogram of flight distances. To do this :  \n",
        "- use numpy logspace function to create 10 distance buckets, base=1.05\n",
        "- then use numpy digitize function inside a spark UDF to create the buckets.\n",
        "- buckets should be displayed in the correct order, and displayed like this : [min;max]"
      ],
      "metadata": {
        "id": "SCKoL0qFbYtN"
      }
    },
    {
      "cell_type": "code",
      "source": [
        "distinct_routes_df = flights_df.select('Origin', 'Dest', 'Miles').distinct().cache()"
      ],
      "metadata": {
        "id": "DvvDjEN2b4oa"
      },
      "execution_count": null,
      "outputs": []
    },
    {
      "cell_type": "code",
      "source": [
        "distinct_routes_df.select(F.max('Miles'), F.min('Miles'), F.count('*')).show()"
      ],
      "metadata": {
        "colab": {
          "base_uri": "https://localhost:8080/"
        },
        "id": "Nf_T7rv5eESm",
        "outputId": "f9a05e4a-cdbf-482c-f049-60f8494a64b2"
      },
      "execution_count": null,
      "outputs": [
        {
          "output_type": "stream",
          "name": "stdout",
          "text": [
            "+----------+----------+--------+\n",
            "|max(Miles)|min(Miles)|count(1)|\n",
            "+----------+----------+--------+\n",
            "|    5095.0|      11.0|    8471|\n",
            "+----------+----------+--------+\n",
            "\n"
          ]
        }
      ]
    },
    {
      "cell_type": "code",
      "source": [
        "bins = np.unique(np.logspace(47, 177, base=1.05, num=10, dtype='int32'))\n",
        "\n",
        "from pyspark.sql.functions import udf\n",
        "from pyspark.sql.types import IntegerType, ArrayType, StringType\n",
        "\n",
        "def get_bucket_udf(b):\n",
        "  def bucket(val: int):\n",
        "    index = int(np.digitize(val, b))\n",
        "    return [int(b[index-1]), int(b[index])]\n",
        "  return F.udf(bucket, ArrayType(IntegerType()))\n",
        "\n",
        "bucket_udf = get_bucket_udf(bins)"
      ],
      "metadata": {
        "id": "EORgHY8TerR5"
      },
      "execution_count": 11,
      "outputs": []
    },
    {
      "cell_type": "code",
      "source": [
        "miles_buckets = distinct_routes_df.select(bucket_udf(F.col(\"Miles\")).alias(\"Miles_Bucket\")).groupby(\"Miles_Bucket\").count()"
      ],
      "metadata": {
        "id": "dGwdwyDOevHG"
      },
      "execution_count": null,
      "outputs": []
    },
    {
      "cell_type": "code",
      "source": [
        "def bucket_to_string(bucket_col_name):\n",
        "  return F.concat( F.col(bucket_col_name).getItem(0).cast(StringType()), F.lit(\"-\"), F.col(bucket_col_name).getItem(1).cast(StringType()))"
      ],
      "metadata": {
        "id": "hfX8PJ7rfZpD"
      },
      "execution_count": 12,
      "outputs": []
    },
    {
      "cell_type": "code",
      "source": [
        "pd_df = (\n",
        "    miles_buckets\n",
        "    .withColumn(\"a\", F.col(\"Miles_Bucket\").getItem(0))\n",
        "    .withColumn(\"b\", F.col(\"Miles_Bucket\").getItem(1))\n",
        "    .withColumn(\"bucket\", bucket_to_string(\"Miles_Bucket\"))\n",
        "    .toPandas()\n",
        "    )"
      ],
      "metadata": {
        "id": "urfoDyHVjru7"
      },
      "execution_count": null,
      "outputs": []
    },
    {
      "cell_type": "code",
      "source": [
        "import seaborn as sns"
      ],
      "metadata": {
        "id": "7Y1y6TAMdJbA"
      },
      "execution_count": null,
      "outputs": []
    },
    {
      "cell_type": "code",
      "source": [
        "sns.set(rc={'figure.figsize':(18.0, 8.0)})\n",
        "sns.barplot(x='bucket', y= \"count\", data=pd_df.groupby([\"bucket\"]).agg('sum').reset_index().sort_values(\"b\"))"
      ],
      "metadata": {
        "id": "BB7s1om3dqGB",
        "colab": {
          "base_uri": "https://localhost:8080/",
          "height": 520
        },
        "outputId": "5af4680e-1cb0-45c6-9ce9-94a3b86d9029"
      },
      "execution_count": null,
      "outputs": [
        {
          "output_type": "execute_result",
          "data": {
            "text/plain": [
              "<matplotlib.axes._subplots.AxesSubplot at 0x7fe85abf8ed0>"
            ]
          },
          "metadata": {},
          "execution_count": 124
        },
        {
          "output_type": "display_data",
          "data": {
            "image/png": "[encoded data removed]",
            "text/plain": [
              "<Figure size 1296x576 with 1 Axes>"
            ]
          },
          "metadata": {}
        }
      ]
    },
    {
      "cell_type": "markdown",
      "source": [
        "## Question 4 (3 points)\n",
        "Display the average flight fares for each distance bucket.  \n",
        "Graph should also contain the confidence intervals.  \n",
        "Buckets should be displayed in the correct order, and displayed like this : $[min;max]$  \n",
        "Interpret the results.  "
      ],
      "metadata": {
        "id": "pckZKP_5woRr"
      }
    },
    {
      "cell_type": "code",
      "source": [
        "flights_with_miles_bucket_df = (\n",
        "    flights_df\n",
        "      .withColumn(\"Miles_Bucket\", bucket_udf(F.col(\"Miles\")))\n",
        "      .withColumn(\"bucket\", bucket_to_string(\"Miles_Bucket\"))\n",
        "      .withColumn(\"b\", F.col(\"Miles_Bucket\").getItem(1))\n",
        "      )"
      ],
      "metadata": {
        "id": "0Qs9e9Yaie2R"
      },
      "execution_count": 13,
      "outputs": []
    },
    {
      "cell_type": "code",
      "source": [
        "pd_df = (\n",
        "    flights_with_miles_bucket_df\n",
        "      .groupby(\"bucket\", \"b\")\n",
        "      .agg(F.mean(\"PricePerTicket\"), F.stddev(\"PricePerTicket\"))\n",
        "      .toPandas()\n",
        "      )"
      ],
      "metadata": {
        "id": "7byuNyG3wmO9"
      },
      "execution_count": 14,
      "outputs": []
    },
    {
      "cell_type": "code",
      "source": [
        "import matplotlib.pyplot as plt\n",
        "from matplotlib.pyplot import figure\n",
        "\n",
        "grouped_df = pd_df.groupby([\"bucket\"]).agg('sum').reset_index().sort_values('b')\n",
        "labels = grouped_df['bucket'].tolist()\n",
        "means = grouped_df['avg(PricePerTicket)'].tolist()\n",
        "stdev = [v / 2 for v in grouped_df['stddev_samp(PricePerTicket)'].tolist()]\n",
        "\n",
        "figure(figsize=(18, 8), dpi=80)\n",
        "plt.bar(range(len(means)), means, yerr=stdev, alpha=0.2, align='center')\n",
        "plt.xticks(range(len(means)), labels)\n",
        "plt.show()"
      ],
      "metadata": {
        "colab": {
          "base_uri": "https://localhost:8080/",
          "height": 533
        },
        "id": "XeyF3lHM9hfV",
        "outputId": "b38caafe-3f3d-4822-a2a6-be67199f82d6"
      },
      "execution_count": 30,
      "outputs": [
        {
          "output_type": "display_data",
          "data": {
            "image/png": "[encoded data removed]",
            "text/plain": [
              "<Figure size 1440x640 with 1 Axes>"
            ]
          },
          "metadata": {
            "needs_background": "light"
          }
        }
      ]
    },
    {
      "cell_type": "markdown",
      "source": [
        "## Question 5 (4 points)\n",
        "For the remainder of the notebook, we will only take care of the average price of each route.  \n",
        "Our goal is to find cheap combinations of flights to travel from one place to another.  \n",
        "First, we want to build a dataframe named 'cheapest_routes_df' containing the cheapest price to go from one place to another, with one or zero waypoint. Dataframe should look like this (Waypoints column can be empty) :  \n",
        "\n",
        "Origin  | Destination | Waypoints | TotalPrice\n",
        "-------------------|------------------|---|---\n",
        "ACY       | MOB | ATL | 323.0\n",
        "Row 2, Col 1       | Row 2, Col 2 | | 89.0\n",
        "  \n",
        "Is it interesting to consider waypoints to go from one place to another ?  "
      ],
      "metadata": {
        "id": "4682xNqsizwe"
      }
    },
    {
      "cell_type": "code",
      "source": [
        "average_route_prices_df = flights_df.groupby('Origin', 'Dest').agg(F.mean('PricePerTicket').alias('Price'))"
      ],
      "metadata": {
        "id": "x6JWNp45i1uL"
      },
      "execution_count": 33,
      "outputs": []
    },
    {
      "cell_type": "code",
      "source": [
        "all_possible_routes_df = (\n",
        "    average_route_prices_df\n",
        "      .withColumnRenamed('Dest', 'Waypoint')\n",
        "      .join(\n",
        "          average_route_prices_df\n",
        "            .withColumnRenamed('Origin', 'Waypoint')\n",
        "            .withColumnRenamed('Price', 'Price2')\n",
        "          , on = 'Waypoint'\n",
        "      )\n",
        "      .filter('Origin!=Dest')\n",
        "      .withColumn('TotalPrice', F.col('Price')+F.col('Price2'))\n",
        "      .select('Origin', 'Dest', 'Waypoint', 'TotalPrice')\n",
        "      .cache()\n",
        ")\n",
        "all_possible_routes_df = (\n",
        "    all_possible_routes_df.union(\n",
        "        average_route_prices_df\n",
        "          .withColumn('Waypoint', F.lit(''))\n",
        "          .withColumn('TotalPrice', F.col('Price'))\n",
        "          .select('Origin', 'Dest', 'Waypoint', 'TotalPrice')\n",
        "    )\n",
        ")\n",
        "all_possible_routes_df = all_possible_routes_df.cache()\n",
        "all_possible_routes_df.show(5)"
      ],
      "metadata": {
        "colab": {
          "base_uri": "https://localhost:8080/"
        },
        "id": "OIg-inifl-ZX",
        "outputId": "f8c94e8b-1581-4089-bc9e-d7e2175acf09"
      },
      "execution_count": 34,
      "outputs": [
        {
          "output_type": "stream",
          "name": "stdout",
          "text": [
            "+------+----+--------+------------------+\n",
            "|Origin|Dest|Waypoint|        TotalPrice|\n",
            "+------+----+--------+------------------+\n",
            "|   JFK| MCO|     PSE|394.37987576707576|\n",
            "|   MCO| JFK|     PSE|390.51379116564965|\n",
            "|   BUF| ABQ|     MSY|446.40874999999994|\n",
            "|   BUF| DEN|     MSY|400.57867499859674|\n",
            "|   BUF| TUS|     MSY|426.75272727272727|\n",
            "+------+----+--------+------------------+\n",
            "only showing top 5 rows\n",
            "\n"
          ]
        }
      ]
    },
    {
      "cell_type": "code",
      "source": [
        "# This solution shuffles only once\n",
        "cheapest_routes_df = (\n",
        "    all_possible_routes_df\n",
        "      .withColumn('PriceAndWaypoint', F.struct(F.col('TotalPrice'), F.col('Waypoint')))\n",
        "      .groupby('Origin', 'Dest')\n",
        "      .agg(F.min('PriceAndWaypoint').alias('PriceAndWaypoint'))\n",
        "      .withColumn('TotalPrice', F.col('PriceAndWaypoint').getField('TotalPrice'))\n",
        "      .withColumn('Waypoint', F.col('PriceAndWaypoint').getField('Waypoint'))\n",
        "      .drop('PriceAndWaypoint')\n",
        "      .cache()\n",
        ")\n",
        "cheapest_routes_df.show(5)\n",
        "cheapest_routes_df.count()"
      ],
      "metadata": {
        "colab": {
          "base_uri": "https://localhost:8080/"
        },
        "id": "ldF4CvA7_ajc",
        "outputId": "fbfcbcf2-b6e5-41f2-c43c-fe885ab19eb2"
      },
      "execution_count": 37,
      "outputs": [
        {
          "output_type": "stream",
          "name": "stdout",
          "text": [
            "+------+----+--------------------+-----------------+--------+\n",
            "|Origin|Dest|    PriceAndWaypoint|       TotalPrice|Waypoint|\n",
            "+------+----+--------------------+-----------------+--------+\n",
            "|   ABE| MSO|{615.817474747474...|615.8174747474748|     ATL|\n",
            "|   ABI| SMF|{948.453988818667...|948.4539888186678|     DFW|\n",
            "|   ACK| SJU|{468.282758956070...|468.2827589560707|     DCA|\n",
            "|   ADK| AKN|{856.246208791208...|856.2462087912088|     ANC|\n",
            "|   ALB| MOB|{467.488690330477...|467.4886903304773|     ORD|\n",
            "+------+----+--------------------+-----------------+--------+\n",
            "only showing top 5 rows\n",
            "\n"
          ]
        },
        {
          "output_type": "execute_result",
          "data": {
            "text/plain": [
              "48687"
            ]
          },
          "metadata": {},
          "execution_count": 37
        }
      ]
    },
    {
      "cell_type": "markdown",
      "source": [
        "We can find some routes where we go through a waypoint to reach our destination. It either means that the route was not covered in our initial dataset, or that it's cheaper to go through a waypoint than taking the direct flight.  \n",
        "Also we can see some direct routes."
      ],
      "metadata": {
        "id": "2jeshQw57ZFg"
      }
    },
    {
      "cell_type": "markdown",
      "source": [
        "## Question 6 (6 points)\n",
        "Now we want to create the dataframe with cheap combinations of flights from one place to another, but there is no longer any limitation on the amount of waypoints.  \n",
        "Let $Routes_{k}$ designate the dataframe that contains cheapest routes for at most $k$ waypoints.  \n",
        "This dataframe contains a column named 'Waypoints', containing an array of waypoints.  \n",
        "Then:  \n",
        "- Define a function that computes $Routes_{k+1}$ from $Routes_{k}$ and $Routes_{0}$.  \n",
        "- Test it on a simple dataset made of three rows, built with $spark.sparkContext.parallelize$.  \n",
        "- Use it iteratively to build what we want.  \n",
        "- At each step, measure the amount of routes with k waypoints.  \n",
        "- What is the stopping criterion ?  \n",
        "- Measure the execution time of each step.  \n",
        "- What if we want to execute the iterations up to $k=15$ ?  \n",
        "- Explain what happens, and find a solution to approximately have the same execution time at each iteration.  \n",
        "- Analyze the results obtained for $Routes_{maxK}$\n",
        "- Analyze the euros spared, putting them in front of the extra miles traveled."
      ],
      "metadata": {
        "id": "l6IwcBQB9Y1v"
      }
    },
    {
      "cell_type": "code",
      "source": [
        "from pyspark.sql.types import ArrayType, StringType\n",
        "def empty_string_array():\n",
        "    return []\n",
        "empty_string_array_udf = F.udf(empty_string_array, ArrayType(StringType()))\n",
        "\n",
        "routes_0_df = (\n",
        "    average_route_prices_df\n",
        "    .withColumn(\"Waypoints\", empty_string_array_udf())\n",
        "    .withColumnRenamed('Price', 'TotalPrice')\n",
        "    .select('Origin', 'Dest', 'Waypoints', 'TotalPrice')\n",
        "    .cache()\n",
        ")"
      ],
      "metadata": {
        "id": "E9KXZqtsz6f3"
      },
      "execution_count": 43,
      "outputs": []
    },
    {
      "cell_type": "code",
      "source": [
        "def computeNextRoutes(routes_k_df, routes_0_df, use_cache=False, use_checkpoint=False):\n",
        "  all_possible_routes_df = (\n",
        "    routes_k_df\n",
        "      .withColumnRenamed('Dest', 'Waypoint_k')\n",
        "      .withColumnRenamed('TotalPrice', 'Price1')\n",
        "      .join(\n",
        "          routes_0_df\n",
        "            .withColumnRenamed('Origin', 'Waypoint_k')\n",
        "            .withColumnRenamed('TotalPrice', 'Price2')\n",
        "            .drop('Waypoints')\n",
        "          , on = 'Waypoint_k'\n",
        "      )\n",
        "      .filter('Origin!=Dest')\n",
        "      .withColumn('TotalPrice', F.col('Price1')+F.col('Price2'))\n",
        "      .withColumn('Waypoints', F.concat(F.col('Waypoints'), F.array('Waypoint_k')))\n",
        "      .select('Origin', 'Dest', 'Waypoints', 'TotalPrice')\n",
        "      )\n",
        "\n",
        "  all_possible_routes_df = all_possible_routes_df.union(routes_0_df)\n",
        "\n",
        "  returned_df = (\n",
        "    all_possible_routes_df\n",
        "      .withColumn('PriceAndWaypoint', F.struct(F.col('TotalPrice'), F.col('Waypoints')))\n",
        "      .groupby('Origin', 'Dest')\n",
        "      .agg(F.min('PriceAndWaypoint').alias('PriceAndWaypoint'))\n",
        "      .withColumn('TotalPrice', F.col('PriceAndWaypoint').getField('TotalPrice'))\n",
        "      .withColumn('Waypoints', F.col('PriceAndWaypoint').getField('Waypoints'))\n",
        "      .drop('PriceAndWaypoint')\n",
        "      )\n",
        "\n",
        "  if use_cache:\n",
        "    returned_df = returned_df.cache()\n",
        "  if use_checkpoint:\n",
        "    returned_df = returned_df.localCheckpoint()\n",
        "\n",
        "  return returned_df"
      ],
      "metadata": {
        "id": "kv6aa7qRoqKM"
      },
      "execution_count": 45,
      "outputs": []
    },
    {
      "cell_type": "code",
      "source": [
        "test_rdd = (spark.sparkContext.parallelize([\n",
        "                                       ('LA', 'NY', 200.0),\n",
        "                                       ('LA', 'ORD', 50.0),\n",
        "                                       ('ORD', 'NY', 50.0)\n",
        "                                       ]))\n",
        "test_df = (\n",
        "    spark\n",
        "      .createDataFrame(test_rdd)\n",
        "      .toDF('Origin', 'Dest', 'TotalPrice')\n",
        "      .withColumn(\"Waypoints\", empty_string_array_udf())\n",
        "      .select('Origin', 'Dest', 'Waypoints', 'TotalPrice')\n",
        "      )"
      ],
      "metadata": {
        "id": "H_pZ5pzP2vbG"
      },
      "execution_count": 46,
      "outputs": []
    },
    {
      "cell_type": "code",
      "source": [
        "computeNextRoutes(test_df, test_df).show()"
      ],
      "metadata": {
        "colab": {
          "base_uri": "https://localhost:8080/"
        },
        "id": "Uf_zWhoL27C-",
        "outputId": "186ba80a-6c01-4e79-ad27-a78c61fc2be6"
      },
      "execution_count": 47,
      "outputs": [
        {
          "output_type": "stream",
          "name": "stdout",
          "text": [
            "+------+----+----------+---------+\n",
            "|Origin|Dest|TotalPrice|Waypoints|\n",
            "+------+----+----------+---------+\n",
            "|    LA|  NY|     100.0|    [ORD]|\n",
            "|    LA| ORD|      50.0|       []|\n",
            "|   ORD|  NY|      50.0|       []|\n",
            "+------+----+----------+---------+\n",
            "\n"
          ]
        }
      ]
    },
    {
      "cell_type": "code",
      "source": [
        "routes_df = []\n",
        "routes_df.append(routes_0_df)\n",
        "routes_df.append(computeNextRoutes(routes_0_df, routes_0_df))"
      ],
      "metadata": {
        "id": "76VqUG0Nor65"
      },
      "execution_count": 48,
      "outputs": []
    },
    {
      "cell_type": "code",
      "source": [
        "# Stop when we don't find interesting routes with k waypoints\n",
        "k = 1\n",
        "start = time.time()\n",
        "while routes_df[k].filter(F.size('Waypoints')==k).count() > 0:\n",
        "  next_df = computeNextRoutes(routes_df[k], routes_0_df, use_cache=True)\n",
        "  routes_df.append(next_df)\n",
        "  end = time.time()\n",
        "  print(f\"k={k} : {end-start}\")\n",
        "  start = end\n",
        "  k += 1"
      ],
      "metadata": {
        "id": "RXjmbHTipOYR",
        "colab": {
          "base_uri": "https://localhost:8080/"
        },
        "outputId": "2eaaf5cd-0008-44d8-9ea6-103370f23312"
      },
      "execution_count": 49,
      "outputs": [
        {
          "output_type": "stream",
          "name": "stdout",
          "text": [
            "k=1 : 31.200052738189697\n",
            "k=2 : 36.06145167350769\n",
            "k=3 : 22.678329944610596\n",
            "k=4 : 22.223594665527344\n",
            "k=5 : 22.75383496284485\n"
          ]
        }
      ]
    },
    {
      "cell_type": "code",
      "source": [
        "# Execution time will grow exponentially if we try to iterate too much, because of dataframe lineage.\n",
        "k = 1\n",
        "start = time.time()\n",
        "while k<15:\n",
        "  next_df = computeNextRoutes(routes_df[k], routes_0_df, use_cache=True)\n",
        "  routes_df.append(next_df)\n",
        "  end = time.time()\n",
        "  print(f\"k={k} : {end-start}\")\n",
        "  start = end\n",
        "  k += 1"
      ],
      "metadata": {
        "id": "upuAFhMq1RQf"
      },
      "execution_count": null,
      "outputs": []
    },
    {
      "cell_type": "code",
      "source": [
        "# We can rely on localCheckpoint() function to make things linear again.\n",
        "k = 1\n",
        "start = time.time()\n",
        "while k<15:\n",
        "  next_df = computeNextRoutes(routes_df[k], routes_0_df, use_checkpoint=True)\n",
        "  routes_df.append(next_df)\n",
        "  end = time.time()\n",
        "  print(f\"k={k} : {end-start}\")\n",
        "  start = end\n",
        "  k += 1"
      ],
      "metadata": {
        "id": "OB7vFS1d9byw"
      },
      "execution_count": null,
      "outputs": []
    }
  ]
}