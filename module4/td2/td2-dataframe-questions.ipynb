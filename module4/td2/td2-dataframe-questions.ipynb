{
  "cells": [
    {
      "cell_type": "markdown",
      "source": [
        "# Practical Session 2: Introduction to Spark Dataframes and Spark SQL\n",
        "\n",
        "In this session we will use the movielens dataset to introduce the essential features of the Spark DataFrame API and showcase its power. This tutorial also has important links to the Spark documentation and/or other relevant material."
      ],
      "metadata": {
        "application/vnd.databricks.v1+cell": {
          "title": "",
          "showTitle": false,
          "inputWidgets": {},
          "nuid": "170fa17c-ff25-4d87-a019-11d3d9fcd796"
        },
        "id": "9okae-NnxhR0"
      }
    },
    {
      "cell_type": "markdown",
      "source": [
        "## Install Spark Environment\n",
        "Since we are not running on databricks, we will need to install Spark by ourselves, every time we run the session.  \n",
        "We need to install Spark, as well as a Java Runtime Environment.  \n",
        "Then we need to setup a few environment variables."
      ],
      "metadata": {
        "id": "q392zOmQyG1T"
      }
    },
    {
      "cell_type": "code",
      "source": [
        "!apt-get install openjdk-8-jdk-headless -qq > /dev/null\n",
        "!curl -O https://dlcdn.apache.org/spark/spark-3.2.3/spark-3.2.3-bin-hadoop3.2.tgz\n",
        "!tar xf spark-3.2.3-bin-hadoop3.2.tgz\n",
        "!pip install -q findspark"
      ],
      "metadata": {
        "id": "FwjlINKayMry"
      },
      "execution_count": null,
      "outputs": []
    },
    {
      "cell_type": "code",
      "source": [
        "import os\n",
        "os.environ[\"JAVA_HOME\"] = \"/usr/lib/jvm/java-8-openjdk-amd64\"\n",
        "os.environ[\"SPARK_HOME\"] = \"/content/spark-3.2.3-bin-hadoop3.2\""
      ],
      "metadata": {
        "id": "pot4K9yuySKF"
      },
      "execution_count": null,
      "outputs": []
    },
    {
      "cell_type": "code",
      "source": [
        "import findspark\n",
        "findspark.init()\n",
        "import pyspark\n",
        "from pyspark.sql import SparkSession\n",
        "from pyspark import SparkContext, SparkConf\n",
        "\n",
        "conf = SparkConf().set('spark.ui.port', '4050')\n",
        "sc = SparkContext(conf=conf)\n",
        "spark = SparkSession.builder.master('local[*]').getOrCreate()"
      ],
      "metadata": {
        "id": "Fx0O5nUByWKr"
      },
      "execution_count": null,
      "outputs": []
    },
    {
      "cell_type": "code",
      "source": [
        "import matplotlib.pyplot as plt\n",
        "%matplotlib inline"
      ],
      "metadata": {
        "application/vnd.databricks.v1+cell": {
          "title": "",
          "showTitle": false,
          "inputWidgets": {},
          "nuid": "f623d620-792d-47b5-b629-e099b76f5b4f"
        },
        "id": "PwYcRsyHxhR4"
      },
      "outputs": [],
      "execution_count": null
    },
    {
      "cell_type": "markdown",
      "source": [
        "## Downloading and unzipping the data (run only once !)"
      ],
      "metadata": {
        "application/vnd.databricks.v1+cell": {
          "title": "",
          "showTitle": false,
          "inputWidgets": {},
          "nuid": "041cdfc4-46fc-4490-962a-72baa30440e4"
        },
        "id": "LPc7bEydxhR9"
      }
    },
    {
      "cell_type": "code",
      "source": [
        "import urllib\n",
        "import zipfile\n",
        "\n",
        "url = 'http://files.grouplens.org/datasets/movielens/ml-20m.zip'\n",
        "filehandle, _ = urllib.request.urlretrieve(url)\n",
        "zip_file_object = zipfile.ZipFile(filehandle, 'r')\n",
        "zip_file_object.namelist()"
      ],
      "metadata": {
        "application/vnd.databricks.v1+cell": {
          "title": "",
          "showTitle": false,
          "inputWidgets": {},
          "nuid": "c43c2d2f-ea5a-4555-b855-caca395647ee"
        },
        "id": "uEW_NgvIxhR_"
      },
      "outputs": [],
      "execution_count": null
    },
    {
      "cell_type": "code",
      "source": [
        "zip_file_object.extractall()"
      ],
      "metadata": {
        "application/vnd.databricks.v1+cell": {
          "title": "",
          "showTitle": false,
          "inputWidgets": {},
          "nuid": "712ce604-ad47-4319-ba49-b8d0df40ea9b"
        },
        "id": "TOF9I4dOxhSB"
      },
      "outputs": [],
      "execution_count": null
    },
    {
      "cell_type": "code",
      "source": [
        "!cd ml-20m ; ls"
      ],
      "metadata": {
        "id": "XgxL32xVz9N0"
      },
      "execution_count": null,
      "outputs": []
    },
    {
      "cell_type": "markdown",
      "source": [
        "## Part 1: Spark DataFrames essentials\n",
        "\n",
        "\n",
        "### Reading data"
      ],
      "metadata": {
        "application/vnd.databricks.v1+cell": {
          "title": "",
          "showTitle": false,
          "inputWidgets": {},
          "nuid": "1400a8fd-86c9-4e41-b39d-9a3dc2b105fd"
        },
        "id": "yWe5-STxxhSD"
      }
    },
    {
      "cell_type": "code",
      "source": [
        "movies_path = \"ml-20m/movies.csv\"\n",
        "ratings_path = \"ml-20m/ratings.csv\""
      ],
      "metadata": {
        "application/vnd.databricks.v1+cell": {
          "title": "",
          "showTitle": false,
          "inputWidgets": {},
          "nuid": "6ab802b9-46a0-40f6-89ae-2221cf4b000b"
        },
        "id": "pmb5u3pLxhSE"
      },
      "outputs": [],
      "execution_count": null
    },
    {
      "cell_type": "markdown",
      "source": [
        "We read the csv files using [`spark.read`](https://spark.apache.org/docs/latest/sql-data-sources-load-save-functions.html)"
      ],
      "metadata": {
        "application/vnd.databricks.v1+cell": {
          "title": "",
          "showTitle": false,
          "inputWidgets": {},
          "nuid": "bd59e075-f2f0-4ce3-ae63-abb2ac5ad515"
        },
        "id": "4deTpFphxhSG"
      }
    },
    {
      "cell_type": "code",
      "source": [
        "movies_df = spark.read.options(header=True).csv(movies_path)\n",
        "ratings_df = spark.read.options(header=True).csv(ratings_path).sample(0.01)"
      ],
      "metadata": {
        "application/vnd.databricks.v1+cell": {
          "title": "",
          "showTitle": false,
          "inputWidgets": {},
          "nuid": "e17a1b72-3e17-4a33-ba51-b09ea109743c"
        },
        "id": "VQYgL_HCxhSJ"
      },
      "outputs": [],
      "execution_count": null
    },
    {
      "cell_type": "markdown",
      "source": [
        "We cache the read dataframes to avoid reloading them in subsequent computation."
      ],
      "metadata": {
        "application/vnd.databricks.v1+cell": {
          "title": "",
          "showTitle": false,
          "inputWidgets": {},
          "nuid": "4901a996-6efc-465a-b5c7-152850acab78"
        },
        "id": "zxbPyi8VxhSK"
      }
    },
    {
      "cell_type": "code",
      "source": [
        "movies_df.cache()\n",
        "ratings_df.cache()"
      ],
      "metadata": {
        "application/vnd.databricks.v1+cell": {
          "title": "",
          "showTitle": false,
          "inputWidgets": {},
          "nuid": "85124b91-e8be-4ef6-aac6-303fb084d3b2"
        },
        "id": "bdpJE_RPxhSL"
      },
      "outputs": [],
      "execution_count": null
    },
    {
      "cell_type": "markdown",
      "source": [
        "We then print a few rows from each dataframe."
      ],
      "metadata": {
        "application/vnd.databricks.v1+cell": {
          "title": "",
          "showTitle": false,
          "inputWidgets": {},
          "nuid": "5c0f0847-69ca-4181-b49e-6ec3a7aa8f06"
        },
        "id": "sWcVp3uJxhSN"
      }
    },
    {
      "cell_type": "code",
      "source": [
        "movies_df.show(5)"
      ],
      "metadata": {
        "application/vnd.databricks.v1+cell": {
          "title": "",
          "showTitle": false,
          "inputWidgets": {},
          "nuid": "164bdf37-ee60-4c5e-b684-61f7ba0ac370"
        },
        "id": "Ax0dB-GRxhSN"
      },
      "outputs": [],
      "execution_count": null
    },
    {
      "cell_type": "code",
      "source": [
        "ratings_df.show(5)"
      ],
      "metadata": {
        "application/vnd.databricks.v1+cell": {
          "title": "",
          "showTitle": false,
          "inputWidgets": {},
          "nuid": "c9689128-5540-46fd-9f6d-a54e7704abad"
        },
        "id": "6jMFWy-wxhSO"
      },
      "outputs": [],
      "execution_count": null
    },
    {
      "cell_type": "markdown",
      "source": [
        "### Manipulating data"
      ],
      "metadata": {
        "application/vnd.databricks.v1+cell": {
          "title": "",
          "showTitle": false,
          "inputWidgets": {},
          "nuid": "d7c226cb-65fd-45d2-ba31-fb0579cd60b9"
        },
        "id": "RYaJzQXjxhSP"
      }
    },
    {
      "cell_type": "code",
      "source": [
        "movies_df.select(\"title\").show(5)"
      ],
      "metadata": {
        "application/vnd.databricks.v1+cell": {
          "title": "",
          "showTitle": false,
          "inputWidgets": {},
          "nuid": "b3f5658d-46bd-431c-90e7-73aee307bc13"
        },
        "id": "lPhcwU2nxhSP"
      },
      "outputs": [],
      "execution_count": null
    },
    {
      "cell_type": "code",
      "source": [
        "ratings_df.filter(\"rating=5\").show(5)"
      ],
      "metadata": {
        "application/vnd.databricks.v1+cell": {
          "title": "",
          "showTitle": false,
          "inputWidgets": {},
          "nuid": "864b079d-f282-4ae7-9acc-13dde09b9a74"
        },
        "id": "nB91iohMxhSQ"
      },
      "outputs": [],
      "execution_count": null
    },
    {
      "cell_type": "code",
      "source": [
        "ratings_df.groupby(\"userId\").agg({\"movieId\": \"count\"}).show(5)"
      ],
      "metadata": {
        "application/vnd.databricks.v1+cell": {
          "title": "",
          "showTitle": false,
          "inputWidgets": {},
          "nuid": "ba116641-6eb3-4682-a89b-f00f339b6d04"
        },
        "id": "733lNSouxhSR"
      },
      "outputs": [],
      "execution_count": null
    },
    {
      "cell_type": "code",
      "source": [
        "ratings_df.withColumn(\"is_rating_high\", ratings_df[\"rating\"] >= 4).show(5)"
      ],
      "metadata": {
        "application/vnd.databricks.v1+cell": {
          "title": "",
          "showTitle": false,
          "inputWidgets": {},
          "nuid": "4a8d55dc-eea6-4887-a1f0-62dab2fd049d"
        },
        "id": "CyLYxVZtxhSS"
      },
      "outputs": [],
      "execution_count": null
    },
    {
      "cell_type": "code",
      "source": [
        "ratings_df.withColumn(\"is_rating_low\", ratings_df.rating < 4).show(5)"
      ],
      "metadata": {
        "application/vnd.databricks.v1+cell": {
          "title": "",
          "showTitle": false,
          "inputWidgets": {},
          "nuid": "fd9885ee-735c-469a-afaa-318f4c5ea790"
        },
        "id": "xxqzZTvSxhSS"
      },
      "outputs": [],
      "execution_count": null
    },
    {
      "cell_type": "code",
      "source": [
        "ratings_df.withColumnRenamed(\"rating\", \"note\").show(5)"
      ],
      "metadata": {
        "application/vnd.databricks.v1+cell": {
          "title": "",
          "showTitle": false,
          "inputWidgets": {},
          "nuid": "24a0400b-4b93-4ec8-aecb-e81764eb9659"
        },
        "id": "IWbV8E-mxhST"
      },
      "outputs": [],
      "execution_count": null
    },
    {
      "cell_type": "markdown",
      "source": [
        "https://spark.apache.org/docs/2.3.0/api/python/pyspark.sql.html#module-pyspark.sql.functions"
      ],
      "metadata": {
        "application/vnd.databricks.v1+cell": {
          "title": "",
          "showTitle": false,
          "inputWidgets": {},
          "nuid": "d70bac07-e07a-47e1-b41a-dc306bc157ba"
        },
        "id": "KEKoq5bAxhSU"
      }
    },
    {
      "cell_type": "markdown",
      "source": [
        "### Built-in transformations and aggregations"
      ],
      "metadata": {
        "application/vnd.databricks.v1+cell": {
          "title": "",
          "showTitle": false,
          "inputWidgets": {},
          "nuid": "fb4faaa1-0aa2-4663-9cdf-a698bcf5c9da"
        },
        "id": "ucG-o5c8xhSV"
      }
    },
    {
      "cell_type": "code",
      "source": [
        "import pyspark.sql.functions as F"
      ],
      "metadata": {
        "application/vnd.databricks.v1+cell": {
          "title": "",
          "showTitle": false,
          "inputWidgets": {},
          "nuid": "c49889d8-7e6d-4983-a373-c628968fc47c"
        },
        "id": "B25DDznKxhSW"
      },
      "outputs": [],
      "execution_count": null
    },
    {
      "cell_type": "code",
      "source": [
        "ratings_df.select(F.avg(\"rating\"), F.min(\"rating\"), F.max(\"rating\")).show()"
      ],
      "metadata": {
        "application/vnd.databricks.v1+cell": {
          "title": "",
          "showTitle": false,
          "inputWidgets": {},
          "nuid": "00c6d382-5208-4f6f-a5e9-4af83b63382a"
        },
        "id": "XEHHxaLfxhSW"
      },
      "outputs": [],
      "execution_count": null
    },
    {
      "cell_type": "markdown",
      "source": [
        "### Joining Dataframes"
      ],
      "metadata": {
        "application/vnd.databricks.v1+cell": {
          "title": "",
          "showTitle": false,
          "inputWidgets": {},
          "nuid": "34b47d97-66a2-4f1b-b8b4-1dc73eee3042"
        },
        "id": "0qrAMULXxhSX"
      }
    },
    {
      "cell_type": "code",
      "source": [
        "ratings_df.join(movies_df, \"movieId\").show(5)"
      ],
      "metadata": {
        "application/vnd.databricks.v1+cell": {
          "title": "",
          "showTitle": false,
          "inputWidgets": {},
          "nuid": "4a14bd7c-6da3-4030-8124-48d696d2a71b"
        },
        "id": "2_EwAPfZxhSX"
      },
      "outputs": [],
      "execution_count": null
    },
    {
      "cell_type": "markdown",
      "source": [
        "### User Defined functions (UDFs)"
      ],
      "metadata": {
        "application/vnd.databricks.v1+cell": {
          "title": "",
          "showTitle": false,
          "inputWidgets": {},
          "nuid": "72d716fa-d5d4-4605-a5dd-f2bbd78616dd"
        },
        "id": "ur3enjo1xhSY"
      }
    },
    {
      "cell_type": "code",
      "source": [
        "from pyspark.sql.functions import udf\n",
        "from pyspark.sql.types import LongType\n",
        "\n",
        "def length(string: str):\n",
        "    return len(string)\n",
        "\n",
        "length_udf = udf(length, LongType())"
      ],
      "metadata": {
        "application/vnd.databricks.v1+cell": {
          "title": "",
          "showTitle": false,
          "inputWidgets": {},
          "nuid": "a5bd91e0-5711-48ca-a8ce-aaaa87fcd0d4"
        },
        "id": "Koj8J-LCxhSY"
      },
      "outputs": [],
      "execution_count": null
    },
    {
      "cell_type": "code",
      "source": [
        "movies_df.select(length_udf(\"title\")).show(5)"
      ],
      "metadata": {
        "application/vnd.databricks.v1+cell": {
          "title": "",
          "showTitle": false,
          "inputWidgets": {},
          "nuid": "5b8be010-571c-45ad-9097-4525c32dfd94"
        },
        "id": "x4RT7LIsxhSZ"
      },
      "outputs": [],
      "execution_count": null
    },
    {
      "cell_type": "code",
      "source": [
        "@udf(\"string\")\n",
        "def length2(string: str):\n",
        "    return len(string)"
      ],
      "metadata": {
        "application/vnd.databricks.v1+cell": {
          "title": "",
          "showTitle": false,
          "inputWidgets": {},
          "nuid": "8eeb46c4-c5ef-4767-951c-7ebf31e28fcc"
        },
        "id": "KMEGeXQGxhSa"
      },
      "outputs": [],
      "execution_count": null
    },
    {
      "cell_type": "code",
      "source": [
        "movies_df.select(length2(\"title\")).show(5)"
      ],
      "metadata": {
        "application/vnd.databricks.v1+cell": {
          "title": "",
          "showTitle": false,
          "inputWidgets": {},
          "nuid": "03c0ada0-cae5-46da-a607-ab69a1e18c96"
        },
        "id": "wyDzGprYxhSa"
      },
      "outputs": [],
      "execution_count": null
    },
    {
      "cell_type": "code",
      "source": [
        "title_lengths = movies_df.select(length2(\"title\").alias(\"title_length\"))"
      ],
      "metadata": {
        "application/vnd.databricks.v1+cell": {
          "title": "",
          "showTitle": false,
          "inputWidgets": {},
          "nuid": "43ac47d8-b85b-4e34-beda-2ed5b0093f61"
        },
        "id": "3tijyUNQxhSc"
      },
      "outputs": [],
      "execution_count": null
    },
    {
      "cell_type": "code",
      "source": [
        "title_lengths.select(F.max(\"title_length\")).show()"
      ],
      "metadata": {
        "application/vnd.databricks.v1+cell": {
          "title": "",
          "showTitle": false,
          "inputWidgets": {},
          "nuid": "1903acfa-345f-4324-bc1e-602329c59616"
        },
        "id": "hzdNMc9qxhSc"
      },
      "outputs": [],
      "execution_count": null
    },
    {
      "cell_type": "code",
      "source": [
        "title_lengths.select(F.min(\"title_length\")).show()"
      ],
      "metadata": {
        "application/vnd.databricks.v1+cell": {
          "title": "",
          "showTitle": false,
          "inputWidgets": {},
          "nuid": "dbcb3fe5-71c3-4b82-b814-7c96968d67bf"
        },
        "id": "S-Py0H0-xhSd"
      },
      "outputs": [],
      "execution_count": null
    },
    {
      "cell_type": "markdown",
      "source": [
        "### Query plan inspection and caching"
      ],
      "metadata": {
        "application/vnd.databricks.v1+cell": {
          "title": "",
          "showTitle": false,
          "inputWidgets": {},
          "nuid": "d5c78c61-ebe9-4b3f-88da-5e70214906e7"
        },
        "id": "iJIK-1qwxhSd"
      }
    },
    {
      "cell_type": "code",
      "source": [
        "title_lengths.select(F.max(\"title_length\")).explain()"
      ],
      "metadata": {
        "application/vnd.databricks.v1+cell": {
          "title": "",
          "showTitle": false,
          "inputWidgets": {},
          "nuid": "686caef7-fcdb-48e2-9147-b551d9da7ce6"
        },
        "id": "PMeGqZiCxhSf"
      },
      "outputs": [],
      "execution_count": null
    },
    {
      "cell_type": "code",
      "source": [
        "title_lengths.select(F.min(\"title_length\")).explain()"
      ],
      "metadata": {
        "application/vnd.databricks.v1+cell": {
          "title": "",
          "showTitle": false,
          "inputWidgets": {},
          "nuid": "5d6b4101-2ab6-4ee6-ad77-4f14d8e1a1de"
        },
        "id": "-P4YgNutxhSg"
      },
      "outputs": [],
      "execution_count": null
    },
    {
      "cell_type": "code",
      "source": [
        "title_lengths.cache()\n",
        "title_lengths.select(F.max(\"title_length\")).show()"
      ],
      "metadata": {
        "application/vnd.databricks.v1+cell": {
          "title": "",
          "showTitle": false,
          "inputWidgets": {},
          "nuid": "ba1d51d1-7ebe-47b0-96e9-1bc61ee2c302"
        },
        "id": "EdqWQtTUxhSh"
      },
      "outputs": [],
      "execution_count": null
    },
    {
      "cell_type": "code",
      "source": [
        "title_lengths.select(F.min(\"title_length\")).explain()"
      ],
      "metadata": {
        "application/vnd.databricks.v1+cell": {
          "title": "",
          "showTitle": false,
          "inputWidgets": {},
          "nuid": "4849d89e-af7a-4e73-923a-94f5526caee0"
        },
        "id": "daS5uHeTxhSh"
      },
      "outputs": [],
      "execution_count": null
    },
    {
      "cell_type": "markdown",
      "source": [
        "### Writing csv"
      ],
      "metadata": {
        "application/vnd.databricks.v1+cell": {
          "title": "",
          "showTitle": false,
          "inputWidgets": {},
          "nuid": "300ecd36-6f25-4143-9b53-038cd4edbabb"
        },
        "id": "V8Oqc96jxhSi"
      }
    },
    {
      "cell_type": "code",
      "source": [
        "movies_df.sample(0.1).write.csv(\"ml-20m/movies-sample.csv\")"
      ],
      "metadata": {
        "application/vnd.databricks.v1+cell": {
          "title": "",
          "showTitle": false,
          "inputWidgets": {},
          "nuid": "910a105e-8b86-4d98-8ed5-4e5d8feb8a7f"
        },
        "id": "wUu9fmNTxhSi"
      },
      "outputs": [],
      "execution_count": null
    },
    {
      "cell_type": "code",
      "source": [
        "movies_df.sample(0.1).write.mode(\"overwrite\").csv(\"ml-20m/movies-sample.csv\")"
      ],
      "metadata": {
        "application/vnd.databricks.v1+cell": {
          "title": "",
          "showTitle": false,
          "inputWidgets": {},
          "nuid": "ff09fef0-9948-4cd8-8106-144152b3f5eb"
        },
        "id": "puHBOTv1xhSk"
      },
      "outputs": [],
      "execution_count": null
    },
    {
      "cell_type": "markdown",
      "source": [
        "Make sure you have written on filesystem correctly."
      ],
      "metadata": {
        "application/vnd.databricks.v1+cell": {
          "title": "",
          "showTitle": false,
          "inputWidgets": {},
          "nuid": "9c1a647b-a882-4ee8-be19-4b0d243bdb7f"
        },
        "id": "XwfnBqIPxhSl"
      }
    },
    {
      "cell_type": "code",
      "source": [
        "!cd ml-20m ; ls"
      ],
      "metadata": {
        "id": "Qz3eY3Nfz2Ta"
      },
      "execution_count": null,
      "outputs": []
    },
    {
      "cell_type": "code",
      "source": [
        "import os\n",
        "os.listdir(\"ml-20m\")"
      ],
      "metadata": {
        "application/vnd.databricks.v1+cell": {
          "title": "",
          "showTitle": false,
          "inputWidgets": {},
          "nuid": "5514eec6-3015-44fa-8e76-23ddf26f89f9"
        },
        "id": "wgXJEjduxhSm"
      },
      "outputs": [],
      "execution_count": null
    },
    {
      "cell_type": "markdown",
      "source": [
        "This command writes a dataframe in parquet format :"
      ],
      "metadata": {
        "application/vnd.databricks.v1+cell": {
          "title": "",
          "showTitle": false,
          "inputWidgets": {},
          "nuid": "bd03d9df-44ce-4f17-ba9a-fc24ed460331"
        },
        "id": "v43TCkLKxhSn"
      }
    },
    {
      "cell_type": "code",
      "source": [
        "ratings_parquet_path = \"ml-20m/ratings.parquet\"\n",
        "spark.read.options(header=True).csv(ratings_path).write.parquet(ratings_parquet_path)"
      ],
      "metadata": {
        "application/vnd.databricks.v1+cell": {
          "title": "",
          "showTitle": false,
          "inputWidgets": {},
          "nuid": "b350b1d1-0f46-4d79-abd4-7602c646d62f"
        },
        "id": "RLC2OrUAxhSo"
      },
      "outputs": [],
      "execution_count": null
    },
    {
      "cell_type": "markdown",
      "source": [
        "### Question 0: Compare processing time and amount of executors used, when reading from csv versus reading from parquet, for the following pipelines:\n",
        "- count total amount of records\n",
        "- count total amount of records for user 1\n",
        "- distinct count of timestamps"
      ],
      "metadata": {
        "application/vnd.databricks.v1+cell": {
          "title": "",
          "showTitle": false,
          "inputWidgets": {},
          "nuid": "3490aef9-8fc9-43c6-8f47-581ba1995d03"
        },
        "id": "3GrJ_cooxhSo"
      }
    },
    {
      "cell_type": "markdown",
      "source": [
        "**hint** `countDistinct` method can be used for third pipeline"
      ],
      "metadata": {
        "application/vnd.databricks.v1+cell": {
          "title": "",
          "showTitle": false,
          "inputWidgets": {},
          "nuid": "957cb22c-bb77-4f4f-be22-a2243e39d628"
        },
        "id": "jl5jSFp2xhSo"
      }
    },
    {
      "cell_type": "code",
      "source": [],
      "metadata": {
        "application/vnd.databricks.v1+cell": {
          "title": "",
          "showTitle": false,
          "inputWidgets": {},
          "nuid": "349bc8b9-3c77-40f6-b5c9-27fce22156fc"
        },
        "id": "W9kd5Z0uxhSr"
      },
      "outputs": [],
      "execution_count": null
    },
    {
      "cell_type": "markdown",
      "source": [
        "### Question 1: Compute the (average, max, min) rating per movie, and get the highest and lowest rated movies ?"
      ],
      "metadata": {
        "application/vnd.databricks.v1+cell": {
          "title": "",
          "showTitle": false,
          "inputWidgets": {},
          "nuid": "5a6d3266-ec98-4f17-998a-906c7db92d37"
        },
        "id": "1cGBCABrxhSv"
      }
    },
    {
      "cell_type": "markdown",
      "source": [
        "**hint** Straightforward GroupBy then Aggregate"
      ],
      "metadata": {
        "application/vnd.databricks.v1+cell": {
          "title": "",
          "showTitle": false,
          "inputWidgets": {},
          "nuid": "c9afac8a-2b7b-4f64-8558-07659bf6c01f"
        },
        "id": "jmpnXpqKxhSv"
      }
    },
    {
      "cell_type": "code",
      "source": [],
      "metadata": {
        "application/vnd.databricks.v1+cell": {
          "title": "",
          "showTitle": false,
          "inputWidgets": {},
          "nuid": "3826159f-9982-4754-8151-8f341f65e7ea"
        },
        "id": "kPEbH3ZXxhSw"
      },
      "outputs": [],
      "execution_count": null
    },
    {
      "cell_type": "markdown",
      "source": [
        "### Question 2: Amongst movies that were rated by at least 20 users, what are the movies with highest and lowest rating standard deviation ?"
      ],
      "metadata": {
        "application/vnd.databricks.v1+cell": {
          "title": "",
          "showTitle": false,
          "inputWidgets": {},
          "nuid": "b8eadfa1-8d03-4723-ae18-ee507900df7b"
        },
        "id": "EeoE_lqtxhSx"
      }
    },
    {
      "cell_type": "markdown",
      "source": [
        "**hint** How do you use a join to keep only a subset of movies ?"
      ],
      "metadata": {
        "application/vnd.databricks.v1+cell": {
          "title": "",
          "showTitle": false,
          "inputWidgets": {},
          "nuid": "cc97e39c-8485-48c5-a293-76d7ebbd857a"
        },
        "id": "do2m3mXAxhSy"
      }
    },
    {
      "cell_type": "code",
      "source": [],
      "metadata": {
        "application/vnd.databricks.v1+cell": {
          "title": "",
          "showTitle": false,
          "inputWidgets": {},
          "nuid": "85091f9f-63e1-4e0d-b25a-44ab19e29ed0"
        },
        "id": "tfViVoQhxhSy"
      },
      "outputs": [],
      "execution_count": null
    },
    {
      "cell_type": "markdown",
      "source": [
        "### Question 3: Compute the (average, max, min) rating per genre and get the highest and lowest rated genres, as well as the ones with the highest rating standard deviation ?"
      ],
      "metadata": {
        "application/vnd.databricks.v1+cell": {
          "title": "",
          "showTitle": false,
          "inputWidgets": {},
          "nuid": "f2a1b266-a676-42ca-a5b3-2925d817da0e"
        },
        "id": "qcJlKxkOxhSz"
      }
    },
    {
      "cell_type": "markdown",
      "source": [
        "**hint** How can you extract the individual genres from the genres column ? How do you use a custom function to do this ?"
      ],
      "metadata": {
        "application/vnd.databricks.v1+cell": {
          "title": "",
          "showTitle": false,
          "inputWidgets": {},
          "nuid": "9b60f1f0-e62b-49da-b791-b38f7e3703e7"
        },
        "id": "ykzBbnz_xhSz"
      }
    },
    {
      "cell_type": "code",
      "source": [],
      "metadata": {
        "application/vnd.databricks.v1+cell": {
          "title": "",
          "showTitle": false,
          "inputWidgets": {},
          "nuid": "f8ccd806-11f1-4b4d-b96b-420ad98938b2"
        },
        "id": "hTMqZ8Q_xhS0"
      },
      "outputs": [],
      "execution_count": null
    },
    {
      "cell_type": "markdown",
      "source": [
        "### Question 4: Extract the year information from the title and compute the average rating per year (for years where more than 10 movies came out), how does the this quantity evolve ?"
      ],
      "metadata": {
        "application/vnd.databricks.v1+cell": {
          "title": "",
          "showTitle": false,
          "inputWidgets": {},
          "nuid": "4fe1a628-5a75-4cd7-b3ed-dfb70c976a4d"
        },
        "id": "mG0J52-ixhS4"
      }
    },
    {
      "cell_type": "markdown",
      "source": [
        "**hint** Extracting the year from the title can be done with a Regular Expression"
      ],
      "metadata": {
        "application/vnd.databricks.v1+cell": {
          "title": "",
          "showTitle": false,
          "inputWidgets": {},
          "nuid": "8804cc01-f75b-4250-b9ee-fa35996bda08"
        },
        "id": "tgH2_ld2xhS4"
      }
    },
    {
      "cell_type": "code",
      "source": [],
      "metadata": {
        "application/vnd.databricks.v1+cell": {
          "title": "",
          "showTitle": false,
          "inputWidgets": {},
          "nuid": "7c240575-a8be-43a0-a55a-135a786328cc"
        },
        "id": "Y95suWoLxhS4"
      },
      "outputs": [],
      "execution_count": null
    },
    {
      "cell_type": "markdown",
      "source": [
        "### Question 5: What are the top 3 genres per year ?"
      ],
      "metadata": {
        "application/vnd.databricks.v1+cell": {
          "title": "",
          "showTitle": false,
          "inputWidgets": {},
          "nuid": "39ba5e62-e569-42e1-83bf-711e4b04b1d4"
        },
        "id": "vdB3jNiVxhS6"
      }
    },
    {
      "cell_type": "markdown",
      "source": [
        "**hint** Look at the answer here https://stackoverflow.com/questions/38397796/retrieve-top-n-in-each-group-of-a-dataframe-in-pyspark"
      ],
      "metadata": {
        "application/vnd.databricks.v1+cell": {
          "title": "",
          "showTitle": false,
          "inputWidgets": {},
          "nuid": "1dfb28a0-3013-47a3-9d9f-6b25ef84ab53"
        },
        "id": "HQCmWvUBxhS7"
      }
    },
    {
      "cell_type": "code",
      "source": [],
      "metadata": {
        "application/vnd.databricks.v1+cell": {
          "title": "",
          "showTitle": false,
          "inputWidgets": {},
          "nuid": "3c027f7f-2269-469f-adbd-7ddc39ba0ae8"
        },
        "id": "DmF4TSPTxhS7"
      },
      "outputs": [],
      "execution_count": null
    },
    {
      "cell_type": "markdown",
      "source": [
        "### Question 6: What words of the titles cooccure the most with each genre ? Is the number of cooccurence enough ? Compute the [pointwise mutual information](https://en.wikipedia.org/wiki/Pointwise_mutual_information) between genres and movie title words, and filter out words that appear fewer than 100 times."
      ],
      "metadata": {
        "application/vnd.databricks.v1+cell": {
          "title": "",
          "showTitle": false,
          "inputWidgets": {},
          "nuid": "a64f1b52-66c6-473b-8fec-dbb140fb002e"
        },
        "id": "clOWC40XxhS9"
      }
    },
    {
      "cell_type": "code",
      "source": [],
      "metadata": {
        "application/vnd.databricks.v1+cell": {
          "title": "",
          "showTitle": false,
          "inputWidgets": {},
          "nuid": "ac8caaf4-daf0-4191-b7bd-bdca46fe45bc"
        },
        "id": "WuLPTvFexhS-"
      },
      "outputs": [],
      "execution_count": null
    }
  ],
  "metadata": {
    "application/vnd.databricks.v1+notebook": {
      "notebookName": "spark-dataset-problems-databricks",
      "dashboards": [],
      "language": "python",
      "widgets": {},
      "notebookOrigID": 406204942312403
    },
    "colab": {
      "provenance": []
    },
    "language_info": {
      "name": "python"
    },
    "kernelspec": {
      "name": "python3",
      "display_name": "Python 3"
    },
    "gpuClass": "standard"
  },
  "nbformat": 4,
  "nbformat_minor": 0
}