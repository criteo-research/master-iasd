{
  "cells": [
    {
      "cell_type": "markdown",
      "source": [
        "# Matrix Factorization\n",
        "\n",
        "We will experiment with the recent MovieLens 25M Dataset and build a recommender system using two approaches:\n",
        "* Factorizing the user-item matrix using Spark ALS implementation\n",
        "* Factorizing the item-item PMI maatrix using randomized SVD\n",
        "\n",
        "In both settings we will index the item embeddings and inspect their quality using KNN queries."
      ],
      "metadata": {
        "application/vnd.databricks.v1+cell": {
          "title": "",
          "showTitle": false,
          "inputWidgets": {},
          "nuid": "ec58202f-3dde-4483-b569-f93f1ab4a8c7"
        },
        "id": "zQtIoL9MtSmY"
      }
    },
    {
      "cell_type": "code",
      "source": [
        "!apt-get install openjdk-8-jdk-headless -qq > /dev/null\n",
        "!curl -O https://dlcdn.apache.org/spark/spark-3.2.1/spark-3.2.1-bin-hadoop3.2.tgz\n",
        "!tar xf spark-3.2.1-bin-hadoop3.2.tgz\n",
        "!pip install -q findspark"
      ],
      "metadata": {
        "colab": {
          "base_uri": "https://localhost:8080/"
        },
        "id": "OttKOqUv4KUK",
        "outputId": "ea9ef4ba-0014-41cf-aef3-de85bbfd4797"
      },
      "execution_count": 1,
      "outputs": [
        {
          "output_type": "stream",
          "name": "stdout",
          "text": [
            "  % Total    % Received % Xferd  Average Speed   Time    Time     Time  Current\n",
            "                                 Dload  Upload   Total   Spent    Left  Speed\n",
            "100  287M  100  287M    0     0   187M      0  0:00:01  0:00:01 --:--:--  187M\n"
          ]
        }
      ]
    },
    {
      "cell_type": "code",
      "source": [
        "import os\n",
        "os.environ[\"JAVA_HOME\"] = \"/usr/lib/jvm/java-8-openjdk-amd64\"\n",
        "os.environ[\"SPARK_HOME\"] = \"/content/spark-3.2.1-bin-hadoop3.2\"\n",
        "import findspark\n",
        "findspark.init()"
      ],
      "metadata": {
        "id": "-QsPG2H44M-A"
      },
      "execution_count": 5,
      "outputs": []
    },
    {
      "cell_type": "code",
      "source": [
        "from pyspark.sql import SparkSession\n",
        "from pyspark import SparkContext, SparkConf, StorageLevel\n",
        "import pyspark.sql.functions as F\n",
        "from pyspark.sql import Window\n",
        "import matplotlib.pyplot as plt\n",
        "import pandas as pd\n",
        "\n",
        "%matplotlib inline"
      ],
      "metadata": {
        "id": "cD0tjpDGdy2f"
      },
      "execution_count": 6,
      "outputs": []
    },
    {
      "cell_type": "code",
      "source": [
        "conf = (\n",
        "    SparkConf()\n",
        "    .set('spark.ui.port', '4050')\n",
        "    .set(\"spark.driver.memory\", \"16g\")\n",
        "    .set('spark.driver.maxResultsSize', '8g')\n",
        ")\n",
        "sc = SparkContext(conf=conf)\n",
        "spark = SparkSession.builder.master('local[*]').getOrCreate()\n",
        "ss = spark"
      ],
      "metadata": {
        "id": "DEZXjULX4OUd"
      },
      "execution_count": 7,
      "outputs": []
    },
    {
      "cell_type": "markdown",
      "source": [
        "### Download the dataset"
      ],
      "metadata": {
        "application/vnd.databricks.v1+cell": {
          "title": "",
          "showTitle": false,
          "inputWidgets": {},
          "nuid": "930121a6-31fe-4b95-8459-4fb22caf15e5"
        },
        "id": "WXemqj5LtSma"
      }
    },
    {
      "cell_type": "code",
      "source": [
        "!wget http://files.grouplens.org/datasets/movielens/ml-25m.zip\n",
        "!unzip ml-25m"
      ],
      "metadata": {
        "application/vnd.databricks.v1+cell": {
          "title": "",
          "showTitle": false,
          "inputWidgets": {},
          "nuid": "f2fa6086-66c5-4421-997c-3abc0bc79ab2"
        },
        "colab": {
          "base_uri": "https://localhost:8080/"
        },
        "id": "99rSuu40tSmb",
        "outputId": "4c966b28-c815-4c5c-856b-336b1cf603f2"
      },
      "outputs": [
        {
          "output_type": "stream",
          "name": "stdout",
          "text": [
            "--2022-05-20 09:20:17--  http://files.grouplens.org/datasets/movielens/ml-25m.zip\n",
            "Resolving files.grouplens.org (files.grouplens.org)... 128.101.65.152\n",
            "Connecting to files.grouplens.org (files.grouplens.org)|128.101.65.152|:80... connected.\n",
            "HTTP request sent, awaiting response... 200 OK\n",
            "Length: 261978986 (250M) [application/zip]\n",
            "Saving to: ‘ml-25m.zip’\n",
            "\n",
            "ml-25m.zip          100%[===================>] 249.84M  78.2MB/s    in 3.4s    \n",
            "\n",
            "2022-05-20 09:20:21 (73.2 MB/s) - ‘ml-25m.zip’ saved [261978986/261978986]\n",
            "\n",
            "Archive:  ml-25m.zip\n",
            "   creating: ml-25m/\n",
            "  inflating: ml-25m/tags.csv         \n",
            "  inflating: ml-25m/links.csv        \n",
            "  inflating: ml-25m/README.txt       \n",
            "  inflating: ml-25m/ratings.csv      \n",
            "  inflating: ml-25m/genome-tags.csv  \n",
            "  inflating: ml-25m/genome-scores.csv  \n",
            "  inflating: ml-25m/movies.csv       \n"
          ]
        }
      ],
      "execution_count": 8
    },
    {
      "cell_type": "markdown",
      "source": [
        "### Loading the ratings dataset"
      ],
      "metadata": {
        "application/vnd.databricks.v1+cell": {
          "title": "",
          "showTitle": false,
          "inputWidgets": {},
          "nuid": "83dc87e1-4575-41fb-b9b9-53515664b2ac"
        },
        "id": "g0QxsM57tSmc"
      }
    },
    {
      "cell_type": "code",
      "source": [
        "movies_df = spark.read.csv('ml-25m/movies.csv', header=True, inferSchema=True).cache()\n",
        "ratings_df = spark.read.csv('ml-25m/ratings.csv', header=True, inferSchema=True)"
      ],
      "metadata": {
        "application/vnd.databricks.v1+cell": {
          "title": "",
          "showTitle": false,
          "inputWidgets": {},
          "nuid": "30cde39c-8089-4c5c-9b95-347a8b3414b0"
        },
        "id": "9K-dP8DLtSmd"
      },
      "outputs": [],
      "execution_count": 9
    },
    {
      "cell_type": "markdown",
      "source": [
        "# Part 1 : Alternating least squares"
      ],
      "metadata": {
        "application/vnd.databricks.v1+cell": {
          "title": "",
          "showTitle": false,
          "inputWidgets": {},
          "nuid": "63c24520-7d86-48bc-8abe-c38f26bf1bc6"
        },
        "id": "354N1dKjtSma"
      }
    },
    {
      "cell_type": "markdown",
      "source": [
        "### Split the dataset\n",
        "We want to randomly split the dataset into train and test parts"
      ],
      "metadata": {
        "application/vnd.databricks.v1+cell": {
          "title": "",
          "showTitle": false,
          "inputWidgets": {},
          "nuid": "9638b534-2471-4f74-8c9c-df471a6dbc43"
        },
        "id": "LGPmUmNPtSmd"
      }
    },
    {
      "cell_type": "code",
      "source": [
        "(training_df, validation_df) = ratings_df.randomSplit([0.8, 0.2])"
      ],
      "metadata": {
        "application/vnd.databricks.v1+cell": {
          "title": "",
          "showTitle": false,
          "inputWidgets": {},
          "nuid": "099d08ee-00b8-496e-a91e-240c18f31a5d"
        },
        "id": "w8IVHN0otSmd"
      },
      "outputs": [],
      "execution_count": null
    },
    {
      "cell_type": "code",
      "source": [
        "training_df.count()"
      ],
      "metadata": {
        "application/vnd.databricks.v1+cell": {
          "title": "",
          "showTitle": false,
          "inputWidgets": {},
          "nuid": "9dc8e22b-5a6b-4a23-ad94-4bf1ed8adfac"
        },
        "id": "fj8XCO7etSme"
      },
      "outputs": [],
      "execution_count": null
    },
    {
      "cell_type": "markdown",
      "source": [
        "### Build ALS model\n",
        "Using the Spark ALS implementation described here https://spark.apache.org/docs/2.2.0/ml-collaborative-filtering.html\n",
        "Build a model using the ml-25m dataset.\n",
        "\n",
        "How long does the training take, change the rank (i.e. the dimension of the vectors) from 10 to 20. How does that affect training speed ?"
      ],
      "metadata": {
        "application/vnd.databricks.v1+cell": {
          "title": "",
          "showTitle": false,
          "inputWidgets": {},
          "nuid": "b7b13148-8e7e-46f1-b856-3727dd2c7021"
        },
        "id": "2_MnMK84tSme"
      }
    },
    {
      "cell_type": "code",
      "source": [
        "from pyspark.ml.recommendation import ALS\n",
        "import time\n",
        "\n",
        "ranks = [10,15,20]\n",
        "models = []\n",
        "training_time = []\n",
        "\n",
        "for rank in ranks:\n",
        "  start_time = time.time()\n",
        "  als = ALS(rank=rank, maxIter=5, regParam=0.01, userCol=\"userId\", itemCol=\"movieId\", ratingCol=\"rating\", coldStartStrategy=\"drop\")\n",
        "  model = als.fit(training_df)\n",
        "  models.append(model)\n",
        "  training_time.append(time.time() - start_time)"
      ],
      "metadata": {
        "application/vnd.databricks.v1+cell": {
          "title": "",
          "showTitle": false,
          "inputWidgets": {},
          "nuid": "b3fd44e1-0529-4af3-919f-3118b6e30d13"
        },
        "id": "kT1hZW4ktSmf",
        "outputId": "c4c176b6-00b0-4f29-8728-d7be2929923a"
      },
      "outputs": [
        {
          "output_type": "display_data",
          "metadata": {
            "application/vnd.databricks.v1+output": {
              "data": "",
              "errorSummary": "",
              "metadata": {},
              "errorTraceType": null,
              "type": "ipynbError",
              "arguments": {}
            }
          },
          "data": {
            "text/html": [
              "<style scoped>\n  .ansiout {\n    display: block;\n    unicode-bidi: embed;\n    white-space: pre-wrap;\n    word-wrap: break-word;\n    word-break: break-all;\n    font-family: \"Source Code Pro\", \"Menlo\", monospace;;\n    font-size: 13px;\n    color: #555;\n    margin-left: 4px;\n    line-height: 19px;\n  }\n</style>"
            ]
          }
        }
      ],
      "execution_count": null
    },
    {
      "cell_type": "code",
      "source": [
        "from matplotlib.pyplot import plot\n",
        "%matplotlib inline\n",
        "plot(ranks, training_time)\n",
        "\n",
        "# processing time seems linear as long as we don't have memory issues to deal-with."
      ],
      "metadata": {
        "application/vnd.databricks.v1+cell": {
          "title": "",
          "showTitle": false,
          "inputWidgets": {},
          "nuid": "2d712aad-f474-441f-8236-8a94e6cda128"
        },
        "id": "gY98EXpHtSmf",
        "outputId": "4db29157-d574-4c2f-a4e3-61ca9b621d1d"
      },
      "outputs": [
        {
          "output_type": "display_data",
          "metadata": {
            "application/vnd.databricks.v1+output": {
              "data": "",
              "errorSummary": "",
              "metadata": {},
              "errorTraceType": null,
              "type": "ipynbError",
              "arguments": {}
            }
          },
          "data": {
            "text/html": [
              "<style scoped>\n  .ansiout {\n    display: block;\n    unicode-bidi: embed;\n    white-space: pre-wrap;\n    word-wrap: break-word;\n    word-break: break-all;\n    font-family: \"Source Code Pro\", \"Menlo\", monospace;;\n    font-size: 13px;\n    color: #555;\n    margin-left: 4px;\n    line-height: 19px;\n  }\n</style>"
            ]
          }
        }
      ],
      "execution_count": null
    },
    {
      "cell_type": "markdown",
      "source": [
        "### Evaluation\n",
        "Using the code described in the Spark documentation, evaluate how good your model is doing on the test set.\n",
        "The goal is to predict the held out ratings.\n",
        "A good metric could be RMSE or MAE."
      ],
      "metadata": {
        "application/vnd.databricks.v1+cell": {
          "title": "",
          "showTitle": false,
          "inputWidgets": {},
          "nuid": "3342dd06-1737-43ec-bef3-c185c601bb24"
        },
        "id": "j1kzCUA6tSmf"
      }
    },
    {
      "cell_type": "code",
      "source": [
        "from pyspark.ml.evaluation import RegressionEvaluator\n",
        "\n",
        "predictions = model.transform(validation_df)\n",
        "evaluator = RegressionEvaluator(metricName=\"mae\", labelCol=\"rating\", predictionCol=\"prediction\")\n",
        "mae = evaluator.evaluate(predictions)\n",
        "print(f\"MAE = {mae}\")"
      ],
      "metadata": {
        "application/vnd.databricks.v1+cell": {
          "title": "",
          "showTitle": false,
          "inputWidgets": {},
          "nuid": "49bbd4e6-7c06-4929-9c97-cd56f7c7bcda"
        },
        "id": "LvSzD8lytSmf",
        "outputId": "4cff394e-0065-4885-d990-909a7c419274"
      },
      "outputs": [
        {
          "output_type": "display_data",
          "metadata": {
            "application/vnd.databricks.v1+output": {
              "data": "",
              "errorSummary": "",
              "metadata": {},
              "errorTraceType": null,
              "type": "ipynbError",
              "arguments": {}
            }
          },
          "data": {
            "text/html": [
              "<style scoped>\n  .ansiout {\n    display: block;\n    unicode-bidi: embed;\n    white-space: pre-wrap;\n    word-wrap: break-word;\n    word-break: break-all;\n    font-family: \"Source Code Pro\", \"Menlo\", monospace;;\n    font-size: 13px;\n    color: #555;\n    margin-left: 4px;\n    line-height: 19px;\n  }\n</style>"
            ]
          }
        }
      ],
      "execution_count": null
    },
    {
      "cell_type": "markdown",
      "source": [
        "### Inspecting the results\n",
        "\n",
        "Retrieve the movie vectors from the learned model object (the property is called itemFactors).\n",
        "and `collect` all these vectors in a list."
      ],
      "metadata": {
        "application/vnd.databricks.v1+cell": {
          "title": "",
          "showTitle": false,
          "inputWidgets": {},
          "nuid": "9de1257d-ea6d-4833-ac47-79311f0c0f8a"
        },
        "id": "VJ9XHHH8tSmg"
      }
    },
    {
      "cell_type": "code",
      "source": [
        "movie_vectors_df = (\n",
        "    model.itemFactors\n",
        "    .join(movies_df.withColumnRenamed('movieId', 'id'), 'id')\n",
        "    .select('title', 'features')\n",
        ")"
      ],
      "metadata": {
        "application/vnd.databricks.v1+cell": {
          "title": "",
          "showTitle": false,
          "inputWidgets": {},
          "nuid": "7d9e5482-54ff-4950-9b8d-4d889c64dd7b"
        },
        "id": "acIfjB3BtSmg",
        "outputId": "10a62969-3cae-4295-e856-c253a9461f52"
      },
      "outputs": [
        {
          "output_type": "display_data",
          "metadata": {
            "application/vnd.databricks.v1+output": {
              "data": "",
              "errorSummary": "",
              "metadata": {},
              "errorTraceType": null,
              "type": "ipynbError",
              "arguments": {}
            }
          },
          "data": {
            "text/html": [
              "<style scoped>\n  .ansiout {\n    display: block;\n    unicode-bidi: embed;\n    white-space: pre-wrap;\n    word-wrap: break-word;\n    word-break: break-all;\n    font-family: \"Source Code Pro\", \"Menlo\", monospace;;\n    font-size: 13px;\n    color: #555;\n    margin-left: 4px;\n    line-height: 19px;\n  }\n</style>"
            ]
          }
        }
      ],
      "execution_count": null
    },
    {
      "cell_type": "markdown",
      "source": [
        "Now we need to create a dictionary mapping the movieId to it's title to ease the inspection. \n",
        "Load the `movies.csv` file using pyspark or pandas and create a `dict` movieId -> title."
      ],
      "metadata": {
        "application/vnd.databricks.v1+cell": {
          "title": "",
          "showTitle": false,
          "inputWidgets": {},
          "nuid": "6f67edcb-fc63-47b8-ae6d-ec1c1c6c1e42"
        },
        "id": "sPR6YiWFtSmg"
      }
    },
    {
      "cell_type": "code",
      "source": [
        "movie_vect_dict = {r['title'] : r['features'] for r in movie_vectors_df.collect()}"
      ],
      "metadata": {
        "application/vnd.databricks.v1+cell": {
          "title": "",
          "showTitle": false,
          "inputWidgets": {},
          "nuid": "d018601f-236f-4777-8a93-6846f5ac9ab7"
        },
        "id": "Pzfc0p2GtSmg",
        "outputId": "05a05005-79e1-451d-e930-5c0ab0b285d7"
      },
      "outputs": [
        {
          "output_type": "display_data",
          "metadata": {
            "application/vnd.databricks.v1+output": {
              "data": "",
              "errorSummary": "",
              "metadata": {},
              "errorTraceType": null,
              "type": "ipynbError",
              "arguments": {}
            }
          },
          "data": {
            "text/html": [
              "<style scoped>\n  .ansiout {\n    display: block;\n    unicode-bidi: embed;\n    white-space: pre-wrap;\n    word-wrap: break-word;\n    word-break: break-all;\n    font-family: \"Source Code Pro\", \"Menlo\", monospace;;\n    font-size: 13px;\n    color: #555;\n    margin-left: 4px;\n    line-height: 19px;\n  }\n</style>"
            ]
          }
        }
      ],
      "execution_count": null
    },
    {
      "cell_type": "markdown",
      "source": [
        "### Using Nearest neighbours\n",
        "\n",
        "Pick a few movies, and for each of them, find-out the top 5 nearest neighbours. This is very similar to an optional question of the PLSA project..."
      ],
      "metadata": {
        "application/vnd.databricks.v1+cell": {
          "title": "",
          "showTitle": false,
          "inputWidgets": {},
          "nuid": "89e7fa17-0f14-42ae-9bd7-7894dbbc6069"
        },
        "id": "gLBP389ItSmg"
      }
    },
    {
      "cell_type": "code",
      "source": [
        "title_vector_array = movie_vectors_df.collect()\n",
        "titles = [r['title'] for r in title_vector_array]\n",
        "vectors = [r['features'] for r in title_vector_array]"
      ],
      "metadata": {
        "application/vnd.databricks.v1+cell": {
          "title": "",
          "showTitle": false,
          "inputWidgets": {},
          "nuid": "acefd735-d0a6-454e-811a-8ccf54092731"
        },
        "id": "-73BEkJPtSmg",
        "outputId": "80288d23-a9df-4316-ea1f-6fd7716c536f"
      },
      "outputs": [
        {
          "output_type": "display_data",
          "metadata": {
            "application/vnd.databricks.v1+output": {
              "data": "",
              "errorSummary": "",
              "metadata": {},
              "errorTraceType": null,
              "type": "ipynbError",
              "arguments": {}
            }
          },
          "data": {
            "text/html": [
              "<style scoped>\n  .ansiout {\n    display: block;\n    unicode-bidi: embed;\n    white-space: pre-wrap;\n    word-wrap: break-word;\n    word-break: break-all;\n    font-family: \"Source Code Pro\", \"Menlo\", monospace;;\n    font-size: 13px;\n    color: #555;\n    margin-left: 4px;\n    line-height: 19px;\n  }\n</style>"
            ]
          }
        }
      ],
      "execution_count": null
    },
    {
      "cell_type": "code",
      "source": [
        "import numpy\n",
        "from numpy import linalg as LA\n",
        "import heapq\n",
        "# naive knn with queue, using numpy to batch vector operations\n",
        "def knn(query, k, titles, vectors):\n",
        "  start_time = time.time()\n",
        "  nb_movies = len(titles)\n",
        "  diff = numpy.array(vectors) - numpy.array(query)\n",
        "  distances = LA.norm(diff, axis=1)\n",
        "  indices = heapq.nlargest(k, range(0, nb_movies), key=lambda x: -distances[x])\n",
        "  ret = [(titles[i], distances[i]) for i in indices]\n",
        "  print(f\"{time.time() - start_time}\")\n",
        "  return ret"
      ],
      "metadata": {
        "application/vnd.databricks.v1+cell": {
          "title": "",
          "showTitle": false,
          "inputWidgets": {},
          "nuid": "c22a620d-a7d7-46d6-ab38-fb6556e0ce7c"
        },
        "id": "sKiNVq1TtSmg",
        "outputId": "d20e7dbb-748a-416d-8773-b510850670e4"
      },
      "outputs": [
        {
          "output_type": "display_data",
          "metadata": {
            "application/vnd.databricks.v1+output": {
              "data": "",
              "errorSummary": "",
              "metadata": {},
              "errorTraceType": null,
              "type": "ipynbError",
              "arguments": {}
            }
          },
          "data": {
            "text/html": [
              "<style scoped>\n  .ansiout {\n    display: block;\n    unicode-bidi: embed;\n    white-space: pre-wrap;\n    word-wrap: break-word;\n    word-break: break-all;\n    font-family: \"Source Code Pro\", \"Menlo\", monospace;;\n    font-size: 13px;\n    color: #555;\n    margin-left: 4px;\n    line-height: 19px;\n  }\n</style>"
            ]
          }
        }
      ],
      "execution_count": null
    },
    {
      "cell_type": "code",
      "source": [
        "def analyze(i):\n",
        "  print(f\"Query title : {titles[i]}\")\n",
        "  query_vec = vectors[i]\n",
        "  ret = knn(query_vec, 10, titles, vectors)\n",
        "  for res in ret:\n",
        "    print(res)"
      ],
      "metadata": {
        "application/vnd.databricks.v1+cell": {
          "title": "",
          "showTitle": false,
          "inputWidgets": {},
          "nuid": "6afe8993-2f1a-4bee-ad77-ccee37bda30a"
        },
        "id": "DqFftYiatSmh",
        "outputId": "b5bf15ce-86d2-4e59-d7f8-a3104fda2e41"
      },
      "outputs": [
        {
          "output_type": "display_data",
          "metadata": {
            "application/vnd.databricks.v1+output": {
              "data": "",
              "errorSummary": "",
              "metadata": {},
              "errorTraceType": null,
              "type": "ipynbError",
              "arguments": {}
            }
          },
          "data": {
            "text/html": [
              "<style scoped>\n  .ansiout {\n    display: block;\n    unicode-bidi: embed;\n    white-space: pre-wrap;\n    word-wrap: break-word;\n    word-break: break-all;\n    font-family: \"Source Code Pro\", \"Menlo\", monospace;;\n    font-size: 13px;\n    color: #555;\n    margin-left: 4px;\n    line-height: 19px;\n  }\n</style>"
            ]
          }
        }
      ],
      "execution_count": null
    },
    {
      "cell_type": "code",
      "source": [
        "analyze(4)"
      ],
      "metadata": {
        "application/vnd.databricks.v1+cell": {
          "title": "",
          "showTitle": false,
          "inputWidgets": {},
          "nuid": "b66d2c26-8ab1-4039-b1bd-4db8119fe990"
        },
        "id": "otJnYTJqtSmh",
        "outputId": "4cfed176-69de-48ea-d525-a5fb282ea78a"
      },
      "outputs": [
        {
          "output_type": "display_data",
          "metadata": {
            "application/vnd.databricks.v1+output": {
              "data": "",
              "errorSummary": "",
              "metadata": {},
              "errorTraceType": null,
              "type": "ipynbError",
              "arguments": {}
            }
          },
          "data": {
            "text/html": [
              "<style scoped>\n  .ansiout {\n    display: block;\n    unicode-bidi: embed;\n    white-space: pre-wrap;\n    word-wrap: break-word;\n    word-break: break-all;\n    font-family: \"Source Code Pro\", \"Menlo\", monospace;;\n    font-size: 13px;\n    color: #555;\n    margin-left: 4px;\n    line-height: 19px;\n  }\n</style>"
            ]
          }
        }
      ],
      "execution_count": null
    },
    {
      "cell_type": "markdown",
      "source": [
        "# Part 2 : PMI and RSVD"
      ],
      "metadata": {
        "application/vnd.databricks.v1+cell": {
          "title": "",
          "showTitle": false,
          "inputWidgets": {},
          "nuid": "0ec9dd97-3a51-4663-9c7a-5c046daf94bf"
        },
        "id": "uafsh1r1tSmh"
      }
    },
    {
      "cell_type": "markdown",
      "source": [
        "\n",
        "We now are going to factorize the item-item PMI matrix using randomized SVD."
      ],
      "metadata": {
        "application/vnd.databricks.v1+cell": {
          "title": "",
          "showTitle": false,
          "inputWidgets": {},
          "nuid": "6a498b1f-c395-429d-9a32-7ce55ca8e470"
        },
        "id": "Lg4PQQ0gtSmi"
      }
    },
    {
      "cell_type": "markdown",
      "source": [
        "## Size estimation\n",
        "\n",
        "Let's first estimate the size of the matrix we are about to build.\n",
        "\n",
        "Reminder : we will generate the co-occurence matrix $C$ from all the pairs of\n",
        "movies that we find in users ratings. \n",
        "This matrix can be big.\n",
        "\n",
        "Namely, if a user has rated movies `(1, 2, 3, 4)`, we will generate 6 pairs :\n",
        "`(1, 2), (1, 3), (2, 3), (1, 4), (2, 4), (3, 4)`.\n",
        "\n",
        "Formally, if a user has rated $n$ movies, he will generate $n \\cdot (n - 1) \\; / \\; 2$ pairs. We should be careful of users that have rated a lot of movies.\n"
      ],
      "metadata": {
        "id": "3li_rZyKaeCo"
      }
    },
    {
      "cell_type": "code",
      "source": [
        "def number_of_pairs_to_be_generated(ratings_df):\n",
        "  ratings_count_by_user_df = (\n",
        "      ratings_df\n",
        "      .groupby('userId')\n",
        "      .agg(F.count('*').alias('count'))\n",
        "      .sort(F.col('count').desc())\n",
        "  )\n",
        "\n",
        "  return int((\n",
        "      ratings_count_by_user_df\n",
        "     .withColumn(\"n_pairs\", F.col(\"count\") * (F.col(\"count\") - 1) / 2)\n",
        "     .select(F.sum(\"n_pairs\"))\n",
        "  ).collect()[0][\"sum(n_pairs)\"])\n",
        "\n",
        "print(\n",
        "    f\"Number of positive ratings : {ratings_df.count():,}\"\n",
        "    f\", that should generate {number_of_pairs_to_be_generated(ratings_df):,} pairs\"\n",
        ")"
      ],
      "metadata": {
        "colab": {
          "base_uri": "https://localhost:8080/"
        },
        "id": "ApboPulBoj8f",
        "outputId": "b4122d04-cc7f-4276-b65b-529d641a78eb"
      },
      "execution_count": 10,
      "outputs": [
        {
          "output_type": "stream",
          "name": "stdout",
          "text": [
            "Number of positive ratings : 25,000,095, that should generate 7,749,316,125 pairs\n"
          ]
        }
      ]
    },
    {
      "cell_type": "markdown",
      "source": [
        "### Keep positive interactions"
      ],
      "metadata": {
        "id": "hh10FcIMcwsS"
      }
    },
    {
      "cell_type": "code",
      "source": [
        "# first things first we only keep movies liked by user.\n",
        "positive_ratings_df = ratings_df.filter(F.col('rating') >= 3.5).persist(StorageLevel.DISK_ONLY)\n",
        "print(\n",
        "    f\"Number of positive ratings : {positive_ratings_df.count():,}\"\n",
        "    f\", that should generate {number_of_pairs_to_be_generated(positive_ratings_df):,} pairs\"\n",
        ")"
      ],
      "metadata": {
        "colab": {
          "base_uri": "https://localhost:8080/"
        },
        "id": "Yk-BDnTxcwCH",
        "outputId": "d7593493-392e-4adc-e058-130a9cdbadfc"
      },
      "execution_count": 11,
      "outputs": [
        {
          "output_type": "stream",
          "name": "stdout",
          "text": [
            "Number of positive ratings : 15,630,129, that should generate 2,584,443,643 pairs\n"
          ]
        }
      ]
    },
    {
      "cell_type": "markdown",
      "source": [
        "### Keep meaningful movies\n",
        "\n",
        "We will keep only movies having a sufficient amount of positive ratings.\n",
        "First, that will make the computations lighter, second, it will prevent us from\n",
        "computing embeddings for movies we have very little information on."
      ],
      "metadata": {
        "id": "iDNVQHyuc2Tj"
      }
    },
    {
      "cell_type": "code",
      "source": [
        "# There are not that many movies in the dataset, we can safely bring their rating counts to pandas\n",
        "movie_counts_df = positive_ratings_df.groupby(\"movieId\").count()\n",
        "movie_counts_pdf = movie_counts_df.toPandas()\n",
        "print(f\"Number of Movies in original dataset : {len(movie_counts_pdf):,}\")\n",
        "movie_counts_pdf.head(3)"
      ],
      "metadata": {
        "colab": {
          "base_uri": "https://localhost:8080/",
          "height": 161
        },
        "id": "oDkBao_Vac5R",
        "outputId": "278a7fcc-fe8a-46f5-a3b3-8366b1a845f9"
      },
      "execution_count": 12,
      "outputs": [
        {
          "output_type": "stream",
          "name": "stdout",
          "text": [
            "Number of Movies in original dataset : 47,396\n"
          ]
        },
        {
          "output_type": "execute_result",
          "data": {
            "text/plain": [
              "   movieId  count\n",
              "0     1088   5825\n",
              "1     1580  26394\n",
              "2     3175   9835"
            ],
            "text/html": [
              "\n",
              "  <div id=\"df-c88650b9-dd86-4745-9feb-15797b2f78e8\">\n",
              "    <div class=\"colab-df-container\">\n",
              "      <div>\n",
              "<style scoped>\n",
              "    .dataframe tbody tr th:only-of-type {\n",
              "        vertical-align: middle;\n",
              "    }\n",
              "\n",
              "    .dataframe tbody tr th {\n",
              "        vertical-align: top;\n",
              "    }\n",
              "\n",
              "    .dataframe thead th {\n",
              "        text-align: right;\n",
              "    }\n",
              "</style>\n",
              "<table border=\"1\" class=\"dataframe\">\n",
              "  <thead>\n",
              "    <tr style=\"text-align: right;\">\n",
              "      <th></th>\n",
              "      <th>movieId</th>\n",
              "      <th>count</th>\n",
              "    </tr>\n",
              "  </thead>\n",
              "  <tbody>\n",
              "    <tr>\n",
              "      <th>0</th>\n",
              "      <td>1088</td>\n",
              "      <td>5825</td>\n",
              "    </tr>\n",
              "    <tr>\n",
              "      <th>1</th>\n",
              "      <td>1580</td>\n",
              "      <td>26394</td>\n",
              "    </tr>\n",
              "    <tr>\n",
              "      <th>2</th>\n",
              "      <td>3175</td>\n",
              "      <td>9835</td>\n",
              "    </tr>\n",
              "  </tbody>\n",
              "</table>\n",
              "</div>\n",
              "      <button class=\"colab-df-convert\" onclick=\"convertToInteractive('df-c88650b9-dd86-4745-9feb-15797b2f78e8')\"\n",
              "              title=\"Convert this dataframe to an interactive table.\"\n",
              "              style=\"display:none;\">\n",
              "        \n",
              "  <svg xmlns=\"http://www.w3.org/2000/svg\" height=\"24px\"viewBox=\"0 0 24 24\"\n",
              "       width=\"24px\">\n",
              "    <path d=\"M0 0h24v24H0V0z\" fill=\"none\"/>\n",
              "    <path d=\"M18.56 5.44l.94 2.06.94-2.06 2.06-.94-2.06-.94-.94-2.06-.94 2.06-2.06.94zm-11 1L8.5 8.5l.94-2.06 2.06-.94-2.06-.94L8.5 2.5l-.94 2.06-2.06.94zm10 10l.94 2.06.94-2.06 2.06-.94-2.06-.94-.94-2.06-.94 2.06-2.06.94z\"/><path d=\"M17.41 7.96l-1.37-1.37c-.4-.4-.92-.59-1.43-.59-.52 0-1.04.2-1.43.59L10.3 9.45l-7.72 7.72c-.78.78-.78 2.05 0 2.83L4 21.41c.39.39.9.59 1.41.59.51 0 1.02-.2 1.41-.59l7.78-7.78 2.81-2.81c.8-.78.8-2.07 0-2.86zM5.41 20L4 18.59l7.72-7.72 1.47 1.35L5.41 20z\"/>\n",
              "  </svg>\n",
              "      </button>\n",
              "      \n",
              "  <style>\n",
              "    .colab-df-container {\n",
              "      display:flex;\n",
              "      flex-wrap:wrap;\n",
              "      gap: 12px;\n",
              "    }\n",
              "\n",
              "    .colab-df-convert {\n",
              "      background-color: #E8F0FE;\n",
              "      border: none;\n",
              "      border-radius: 50%;\n",
              "      cursor: pointer;\n",
              "      display: none;\n",
              "      fill: #1967D2;\n",
              "      height: 32px;\n",
              "      padding: 0 0 0 0;\n",
              "      width: 32px;\n",
              "    }\n",
              "\n",
              "    .colab-df-convert:hover {\n",
              "      background-color: #E2EBFA;\n",
              "      box-shadow: 0px 1px 2px rgba(60, 64, 67, 0.3), 0px 1px 3px 1px rgba(60, 64, 67, 0.15);\n",
              "      fill: #174EA6;\n",
              "    }\n",
              "\n",
              "    [theme=dark] .colab-df-convert {\n",
              "      background-color: #3B4455;\n",
              "      fill: #D2E3FC;\n",
              "    }\n",
              "\n",
              "    [theme=dark] .colab-df-convert:hover {\n",
              "      background-color: #434B5C;\n",
              "      box-shadow: 0px 1px 3px 1px rgba(0, 0, 0, 0.15);\n",
              "      filter: drop-shadow(0px 1px 2px rgba(0, 0, 0, 0.3));\n",
              "      fill: #FFFFFF;\n",
              "    }\n",
              "  </style>\n",
              "\n",
              "      <script>\n",
              "        const buttonEl =\n",
              "          document.querySelector('#df-c88650b9-dd86-4745-9feb-15797b2f78e8 button.colab-df-convert');\n",
              "        buttonEl.style.display =\n",
              "          google.colab.kernel.accessAllowed ? 'block' : 'none';\n",
              "\n",
              "        async function convertToInteractive(key) {\n",
              "          const element = document.querySelector('#df-c88650b9-dd86-4745-9feb-15797b2f78e8');\n",
              "          const dataTable =\n",
              "            await google.colab.kernel.invokeFunction('convertToInteractive',\n",
              "                                                     [key], {});\n",
              "          if (!dataTable) return;\n",
              "\n",
              "          const docLinkHtml = 'Like what you see? Visit the ' +\n",
              "            '<a target=\"_blank\" href=https://colab.research.google.com/notebooks/data_table.ipynb>data table notebook</a>'\n",
              "            + ' to learn more about interactive tables.';\n",
              "          element.innerHTML = '';\n",
              "          dataTable['output_type'] = 'display_data';\n",
              "          await google.colab.output.renderOutput(dataTable, element);\n",
              "          const docLink = document.createElement('div');\n",
              "          docLink.innerHTML = docLinkHtml;\n",
              "          element.appendChild(docLink);\n",
              "        }\n",
              "      </script>\n",
              "    </div>\n",
              "  </div>\n",
              "  "
            ]
          },
          "metadata": {},
          "execution_count": 12
        }
      ]
    },
    {
      "cell_type": "code",
      "source": [
        "fig, axes = plt.subplots(1, 2, figsize=(14, 4))\n",
        "axes[0].hist(movie_counts_pdf[\"count\"], log=True, rwidth=0.9)\n",
        "axes[0].set_xlabel(\"positive ratings count\")\n",
        "axes[0].set_ylabel(\"number of movies\")\n",
        "axes[0].set_title(\"Number of movies per number of ratings bucket\")\n",
        "\n",
        "axes[1].hist(movie_counts_pdf[\"count\"][movie_counts_pdf[\"count\"] < 100], log=True, rwidth=0.9)\n",
        "axes[1].set_xlabel(\"positive ratings count\")\n",
        "axes[1].set_ylabel(\"number of movies\")\n",
        "axes[1].set_title(\"Number of movies per number of ratings bucket\\nZoom on least rated movies\")\n",
        "None"
      ],
      "metadata": {
        "colab": {
          "base_uri": "https://localhost:8080/",
          "height": 310
        },
        "id": "g1XjLHxQdrNx",
        "outputId": "da53d95e-9551-49a4-8375-545b2d206991"
      },
      "execution_count": 13,
      "outputs": [
        {
          "output_type": "display_data",
          "data": {
            "text/plain": [
              "<Figure size 1008x288 with 2 Axes>"
            ],
            "image/png": "[encoded data removed]"
          },
          "metadata": {
            "needs_background": "light"
          }
        }
      ]
    },
    {
      "cell_type": "code",
      "source": [
        "MIN_COUNT = 50\n",
        "kept_movies_df = movie_counts_df.filter(F.col(\"count\") > MIN_COUNT).select(\"movieId\")\n",
        "print(f\"Number of Movies after filtering movies with less than {MIN_COUNT} ratings : {kept_movies_df.count():,}\")"
      ],
      "metadata": {
        "colab": {
          "base_uri": "https://localhost:8080/"
        },
        "id": "6EeY8bpNpWpZ",
        "outputId": "709bb36c-1e40-420c-f9eb-3f4eabeaca2d"
      },
      "execution_count": 14,
      "outputs": [
        {
          "output_type": "stream",
          "name": "stdout",
          "text": [
            "Number of Movies after filtering movies with less than 50 ratings : 10,183\n"
          ]
        }
      ]
    },
    {
      "cell_type": "code",
      "source": [
        "filtered_ratings_df = positive_ratings_df.join(kept_movies_df, on=\"movieId\")\n",
        "\n",
        "print(\n",
        "    f\"Number of positive ratings : {filtered_ratings_df.count():,}\"\n",
        "    f\", that should generate {number_of_pairs_to_be_generated(filtered_ratings_df):,} pairs\"\n",
        ")"
      ],
      "metadata": {
        "colab": {
          "base_uri": "https://localhost:8080/"
        },
        "id": "SELA1CoKpsMb",
        "outputId": "66b0150e-8faf-4b89-af76-39fcc1c99493"
      },
      "execution_count": 15,
      "outputs": [
        {
          "output_type": "stream",
          "name": "stdout",
          "text": [
            "Number of positive ratings : 15,365,441, that should generate 2,305,435,614 pairs\n"
          ]
        }
      ]
    },
    {
      "cell_type": "markdown",
      "source": [
        "### Limit the number of pairs\n",
        "\n",
        "We have way less movies but still almost all ratings and a lot of pairs ! "
      ],
      "metadata": {
        "id": "FGZ3pTXbp18Z"
      }
    },
    {
      "cell_type": "code",
      "source": [
        "# Let's look at how many ratings are done user by user\n",
        "# When user has scored a lots of movies, the number of pairs he generates increases quadratically !\n",
        "ratings_count_by_user_df = (\n",
        "    filtered_ratings_df\n",
        "    .groupby('userId')\n",
        "    .agg(F.count('*').alias('count'))\n",
        "    .sort(F.col('count').desc())\n",
        ").persist(StorageLevel.DISK_ONLY)\n",
        "\n",
        "ratings_count_by_user_df.show(5)"
      ],
      "metadata": {
        "colab": {
          "base_uri": "https://localhost:8080/"
        },
        "id": "gWtFR3_dp9vi",
        "outputId": "80904b6f-454b-4164-e1a6-4c818eb5c9c0"
      },
      "execution_count": 16,
      "outputs": [
        {
          "output_type": "stream",
          "name": "stdout",
          "text": [
            "+------+-----+\n",
            "|userId|count|\n",
            "+------+-----+\n",
            "| 72315| 4507|\n",
            "|110971| 3703|\n",
            "| 92046| 3390|\n",
            "| 80974| 3337|\n",
            "| 20055| 3269|\n",
            "+------+-----+\n",
            "only showing top 5 rows\n",
            "\n"
          ]
        }
      ]
    },
    {
      "cell_type": "code",
      "source": [
        "# We will sample user ratings to limit the maximum number of ratings per user (in expectation)\n",
        "EXPECTED_MAX_USER_RATINGS = 40\n",
        "ratings_sampled_df = (\n",
        "  filtered_ratings_df\n",
        "  .join(ratings_count_by_user_df, 'userId')\n",
        "  .filter(F.rand() < (EXPECTED_MAX_USER_RATINGS / F.col('count')))\n",
        "  .select('userId', 'movieId')\n",
        "  .repartition('userId')\n",
        "  .persist(StorageLevel.DISK_ONLY)\n",
        ")"
      ],
      "metadata": {
        "application/vnd.databricks.v1+cell": {
          "title": "",
          "showTitle": false,
          "inputWidgets": {},
          "nuid": "d30053fe-cdd2-4b81-8ff1-4da04b63c693"
        },
        "id": "2o0YL4jhtSmi"
      },
      "outputs": [],
      "execution_count": 17
    },
    {
      "cell_type": "code",
      "source": [
        "print(\n",
        "    f\"Number of positive ratings after sampling : {ratings_sampled_df.count():,}\"\n",
        "    f\", that should generate {number_of_pairs_to_be_generated(ratings_sampled_df):,} event pairs\"\n",
        ")"
      ],
      "metadata": {
        "colab": {
          "base_uri": "https://localhost:8080/"
        },
        "id": "lrJRYCr3CAek",
        "outputId": "78a5e85b-12b7-46ae-df5a-a19ba4622fb8"
      },
      "execution_count": 18,
      "outputs": [
        {
          "output_type": "stream",
          "name": "stdout",
          "text": [
            "Number of positive ratings after sampling : 5,187,920, that should generate 90,626,859 event pairs\n"
          ]
        }
      ]
    },
    {
      "cell_type": "markdown",
      "source": [
        "### Creating the PMI matrix"
      ],
      "metadata": {
        "application/vnd.databricks.v1+cell": {
          "title": "",
          "showTitle": false,
          "inputWidgets": {},
          "nuid": "943f025b-c703-483e-a0b1-554964f69a09"
        },
        "id": "vtq6mrJttSmi"
      }
    },
    {
      "cell_type": "markdown",
      "source": [
        "Reminder, the PMI matrix writes\n",
        "$$\n",
        "PMI(i, j) = \\log\\left(\\frac{p(i, j)}{p(i)p(j)}\\right)\n",
        "$$\n",
        "that we estimate with\n",
        "$$\n",
        "\\widehat{PMI}(i, j) = \\log\\left(\\frac{C_{i, j} \\cdot n}{C_i \\cdot  C_j}\\right)\n",
        "$$\n",
        "where\n",
        "* $C_{i, j}$ is the number of pairs (i, j) (i.e. the number of users that have\n",
        "  given a positive feedback for both movie i and movie j.\n",
        "* $C_{i}$ is total the number of pairs containing i\n",
        "* $C_{j}$ is total the number of pairs containing j\n",
        "* $n$ is the total number of pairs"
      ],
      "metadata": {
        "application/vnd.databricks.v1+cell": {
          "title": "",
          "showTitle": false,
          "inputWidgets": {},
          "nuid": "b11143da-b1f3-443b-bb73-f345126ee5d4"
        },
        "id": "FmnSc0cltSmi"
      }
    },
    {
      "cell_type": "markdown",
      "source": [
        "#### Step 1 : compute co-occurence matrix $C_{i,j}$"
      ],
      "metadata": {
        "id": "L9lOgHjKr_r7"
      }
    },
    {
      "cell_type": "code",
      "source": [
        "cooccurence_df = (\n",
        "    ratings_sampled_df.withColumnRenamed('movieId', 'movieId1')\n",
        "    .join(ratings_sampled_df.withColumnRenamed('movieId', 'movieId2'), 'userId')\n",
        "    .filter(F.col(\"movieId1\") < F.col(\"movieId2\"))\n",
        "    .groupby(F.col(\"movieId1\"), F.col(\"movieId2\"))\n",
        "    .agg(F.count(\"*\").alias('pair_count'))\n",
        "    .withColumn(\"pair_count\", F.col(\"pair_count\"))\n",
        "    .persist(StorageLevel.DISK_ONLY)\n",
        ")"
      ],
      "metadata": {
        "application/vnd.databricks.v1+cell": {
          "title": "",
          "showTitle": false,
          "inputWidgets": {},
          "nuid": "90473310-1c36-4da2-b7d4-082166991e40"
        },
        "id": "IpNTjRR7tSmi"
      },
      "outputs": [],
      "execution_count": 19
    },
    {
      "cell_type": "code",
      "source": [
        "total_generated_pairs = int(cooccurence_df.select(F.sum(\"pair_count\")).collect()[0][\"sum(pair_count)\"])\n",
        "print(f\"We have generated {total_generated_pairs:,} event pairs for {cooccurence_df.count():,} movie pairs (i, j)\")\n",
        "cooccurence_df.show(5)"
      ],
      "metadata": {
        "colab": {
          "base_uri": "https://localhost:8080/"
        },
        "id": "qH7it8PiE73U",
        "outputId": "ffb05827-e005-4ca0-bfe1-5e3df8463a64"
      },
      "execution_count": 20,
      "outputs": [
        {
          "output_type": "stream",
          "name": "stdout",
          "text": [
            "We have generated 90,626,859 event pairs for 8,955,076 movie pairs (i, j)\n",
            "+--------+--------+----------+\n",
            "|movieId1|movieId2|pair_count|\n",
            "+--------+--------+----------+\n",
            "|   58559|   88810|       251|\n",
            "|    1199|    1212|       165|\n",
            "|    1212|    2329|       101|\n",
            "|     953|    1276|       292|\n",
            "|    5952|  112552|       888|\n",
            "+--------+--------+----------+\n",
            "only showing top 5 rows\n",
            "\n"
          ]
        }
      ]
    },
    {
      "cell_type": "markdown",
      "source": [
        "#### Step 2 : Compute total number of pairs per movies $C_i$, $C_j$"
      ],
      "metadata": {
        "id": "KQjYzJMfsfi7"
      }
    },
    {
      "cell_type": "code",
      "source": [
        "movie_pair_counts_df = (\n",
        "    cooccurence_df\n",
        "    .withColumn(\"movieIds\", F.array(F.col(\"movieId1\"), F.col(\"movieId2\")))\n",
        "    .select(F.explode(\"movieIds\").alias(\"movieId\"), \"pair_count\")\n",
        "    .groupby(\"movieId\")\n",
        "    .agg(F.sum(\"pair_count\").alias(\"count\"))\n",
        ").cache()\n",
        "print(f\"Number of Movies : {movie_pair_counts_df.count()}\")\n",
        "movie_pair_counts_df.sort(F.col('count').desc()).show(5)"
      ],
      "metadata": {
        "colab": {
          "base_uri": "https://localhost:8080/"
        },
        "id": "vQ6SqUTf98nO",
        "outputId": "81fff322-0616-475b-fdfd-a858916c553d"
      },
      "execution_count": 21,
      "outputs": [
        {
          "output_type": "stream",
          "name": "stdout",
          "text": [
            "Number of Movies : 10183\n",
            "+-------+-------+\n",
            "|movieId|  count|\n",
            "+-------+-------+\n",
            "|    318|1335287|\n",
            "|    296|1155089|\n",
            "|    356|1146384|\n",
            "|    593|1094627|\n",
            "|   2571|1048285|\n",
            "+-------+-------+\n",
            "only showing top 5 rows\n",
            "\n"
          ]
        }
      ]
    },
    {
      "cell_type": "markdown",
      "source": [
        "#### Step 3 : compute $\\widehat{PMI}(i, j)$\n",
        "\n",
        "Using the movie counts and the pair counts, compute the PMI dataframe."
      ],
      "metadata": {
        "id": "QybMF5ktt2CG"
      }
    },
    {
      "cell_type": "code",
      "source": [
        "n_pairs = movie_pair_counts_df.select(F.sum('count')).collect()[0]['sum(count)']\n",
        "\n",
        "pmi_df = (\n",
        "    cooccurence_df\n",
        "    .join(movie_pair_counts_df.withColumnRenamed('movieId', 'movieId1'), 'movieId1')\n",
        "    .withColumnRenamed('count', 'movieId1_count')\n",
        "    .join(movie_pair_counts_df.withColumnRenamed('movieId', 'movieId2'), 'movieId2')\n",
        "    .withColumnRenamed('count', 'movieId2_count')\n",
        "    .withColumn(\n",
        "        'pmi',\n",
        "        F.log(F.lit(n_pairs)) + F.log('pair_count') - F.log(\"movieId1_count\") - F.log(\"movieId2_count\")\n",
        "    )\n",
        "    .select('movieId1', 'movieId2', 'pmi')\n",
        "    .cache()\n",
        ")"
      ],
      "metadata": {
        "id": "vp6142sLOOnE"
      },
      "execution_count": 22,
      "outputs": []
    },
    {
      "cell_type": "code",
      "source": [
        "pmi_df.show(5)"
      ],
      "metadata": {
        "colab": {
          "base_uri": "https://localhost:8080/"
        },
        "id": "8zR8QIuKqXUu",
        "outputId": "f730b4f8-80ce-4a53-be32-1c53e887159e"
      },
      "execution_count": 23,
      "outputs": [
        {
          "output_type": "stream",
          "name": "stdout",
          "text": [
            "+--------+--------+--------------------+\n",
            "|movieId1|movieId2|                 pmi|\n",
            "+--------+--------+--------------------+\n",
            "|   58559|   88810|  0.2293154380980269|\n",
            "|    1199|    1212|  1.0794933783146803|\n",
            "|    1212|    2329|-0.41971066386681244|\n",
            "|     953|    1276|  1.1385896741862407|\n",
            "|    5952|  112552| 0.49651165568523936|\n",
            "+--------+--------+--------------------+\n",
            "only showing top 5 rows\n",
            "\n"
          ]
        }
      ]
    },
    {
      "cell_type": "markdown",
      "source": [
        "### Factorizing the PMI matrix with RSVD"
      ],
      "metadata": {
        "application/vnd.databricks.v1+cell": {
          "title": "",
          "showTitle": false,
          "inputWidgets": {},
          "nuid": "6ae3d2c4-8142-41b2-b44f-e4653e480ed7"
        },
        "id": "EMZ2KOlrtSmi"
      }
    },
    {
      "cell_type": "markdown",
      "source": [
        "First, we need to create a mapping between movie ids and position in the matrix that we call vocabulary."
      ],
      "metadata": {
        "id": "9ndJ7PF_uv8D"
      }
    },
    {
      "cell_type": "code",
      "source": [
        "count_ordering_window = Window().orderBy(F.col(\"count\").desc())\n",
        "vocabulary_df = movie_counts_df.select(\n",
        "    \"movieId\",\n",
        "    (F.row_number().over(count_ordering_window) - F.lit(1)).alias(\"index\"),  # row number starts at 1\n",
        ").cache()\n",
        "\n",
        "vocabulary_df.show(3)"
      ],
      "metadata": {
        "application/vnd.databricks.v1+cell": {
          "title": "",
          "showTitle": false,
          "inputWidgets": {},
          "nuid": "9f7ca07d-9fdc-4608-97fd-bc001ce33b75"
        },
        "colab": {
          "base_uri": "https://localhost:8080/"
        },
        "id": "dw_V8nwutSmi",
        "outputId": "967ff961-c608-41fa-8449-ce01f850d3bf"
      },
      "outputs": [
        {
          "output_type": "stream",
          "name": "stdout",
          "text": [
            "+-------+-----+\n",
            "|movieId|index|\n",
            "+-------+-----+\n",
            "|    318|    0|\n",
            "|    296|    1|\n",
            "|    356|    2|\n",
            "+-------+-----+\n",
            "only showing top 3 rows\n",
            "\n"
          ]
        }
      ],
      "execution_count": 24
    },
    {
      "cell_type": "markdown",
      "source": [
        "Now we need to build a scipy sparse matrix from the PMI dataframe. \n",
        "Thanks to our filtering, it is small enough to be collected into memory.\n",
        "\n",
        "Still this might take a minute or two."
      ],
      "metadata": {
        "application/vnd.databricks.v1+cell": {
          "title": "",
          "showTitle": false,
          "inputWidgets": {},
          "nuid": "632c1d5f-eae1-4c24-b710-a1243abb2822"
        },
        "id": "OkBUxdeKtSmi"
      }
    },
    {
      "cell_type": "code",
      "source": [
        "%%time\n",
        "\n",
        "pmi_pdf = (\n",
        "    pmi_df\n",
        "    .join(vocabulary_df.withColumnRenamed(\"movieId\", \"movieId1\"), on=\"movieId1\")\n",
        "    .withColumnRenamed(\"index\", \"i\")\n",
        "    .join(vocabulary_df.withColumnRenamed(\"movieId\", \"movieId2\"), on=\"movieId2\")\n",
        "    .withColumnRenamed(\"index\", \"j\")\n",
        "    .select(\"i\", \"j\", \"pmi\")\n",
        ").toPandas()"
      ],
      "metadata": {
        "colab": {
          "base_uri": "https://localhost:8080/"
        },
        "id": "Z-JyweESIX32",
        "outputId": "b5aede64-c650-4cab-c9c0-cbe0b4670145"
      },
      "execution_count": 25,
      "outputs": [
        {
          "output_type": "stream",
          "name": "stdout",
          "text": [
            "CPU times: user 40 s, sys: 3.24 s, total: 43.2 s\n",
            "Wall time: 1min 2s\n"
          ]
        }
      ]
    },
    {
      "cell_type": "code",
      "source": [
        "from scipy.sparse import coo_matrix\n",
        "pmi_matrix = coo_matrix((pmi_pdf[\"pmi\"].values, (pmi_pdf[\"i\"].values, pmi_pdf[\"j\"].values)))\n",
        "# We have built only the triangular matrix\n",
        "pmi_matrix = pmi_matrix + pmi_matrix.transpose()\n",
        "print(\n",
        "    f\"We have a sparse {pmi_matrix.shape} PMI matrix with {len(pmi_matrix.nonzero()[0]):,} entries\"\n",
        ")"
      ],
      "metadata": {
        "colab": {
          "base_uri": "https://localhost:8080/"
        },
        "id": "D5wxcYtMJW0K",
        "outputId": "fe06f399-f42b-4c02-8b2a-98a4aab062b5"
      },
      "execution_count": 26,
      "outputs": [
        {
          "output_type": "stream",
          "name": "stdout",
          "text": [
            "We have a sparse (10183, 10183) PMI matrix with 17,910,152 entries\n"
          ]
        }
      ]
    },
    {
      "cell_type": "markdown",
      "source": [
        "Use the scikit-learn implementation of SVD https://scikit-learn.org/stable/modules/generated/sklearn.decomposition.TruncatedSVD.html to factorize the PMI matrix. It uses the randomized SVD algorithm presented as a default."
      ],
      "metadata": {
        "application/vnd.databricks.v1+cell": {
          "title": "",
          "showTitle": false,
          "inputWidgets": {},
          "nuid": "7bb52455-55f5-4d0a-8256-56a44a67e598"
        },
        "id": "nll_XSZqtSmi"
      }
    },
    {
      "cell_type": "code",
      "source": [
        "from sklearn.decomposition import TruncatedSVD\n",
        "svd = TruncatedSVD(n_components=30, random_state=42)\n",
        "svd.fit(pmi_matrix)"
      ],
      "metadata": {
        "application/vnd.databricks.v1+cell": {
          "title": "",
          "showTitle": false,
          "inputWidgets": {},
          "nuid": "74999f03-2bb9-4702-b542-023f2829a00a"
        },
        "colab": {
          "base_uri": "https://localhost:8080/"
        },
        "id": "ln1rUKwXtSmi",
        "outputId": "ccde7733-f3d6-4e5f-f34b-3c2b4f123109"
      },
      "outputs": [
        {
          "output_type": "execute_result",
          "data": {
            "text/plain": [
              "TruncatedSVD(n_components=30, random_state=42)"
            ]
          },
          "metadata": {},
          "execution_count": 27
        }
      ],
      "execution_count": 27
    },
    {
      "cell_type": "markdown",
      "source": [
        "### Faiss Index"
      ],
      "metadata": {
        "application/vnd.databricks.v1+cell": {
          "title": "",
          "showTitle": false,
          "inputWidgets": {},
          "nuid": "34a5998d-9e80-46d8-9040-df5655ceecf7"
        },
        "id": "N20TIdZ1tSmi"
      }
    },
    {
      "cell_type": "markdown",
      "source": [
        "Let's install faiss-cpu, and create an index from these vectors. Query the index like what we have done previously."
      ],
      "metadata": {
        "application/vnd.databricks.v1+cell": {
          "title": "",
          "showTitle": false,
          "inputWidgets": {},
          "nuid": "e8e57ed4-fb78-40c9-8db0-f25503f58d3a"
        },
        "id": "jIjJf1QvtSmi"
      }
    },
    {
      "cell_type": "code",
      "source": [
        "!pip install -q faiss-cpu"
      ],
      "metadata": {
        "colab": {
          "base_uri": "https://localhost:8080/"
        },
        "id": "P0qabzMfKLwr",
        "outputId": "83725b62-2493-4237-d272-1c960c81dbc1"
      },
      "execution_count": 28,
      "outputs": [
        {
          "output_type": "stream",
          "name": "stdout",
          "text": [
            "\u001b[K     |████████████████████████████████| 8.6 MB 4.6 MB/s \n",
            "\u001b[?25h"
          ]
        }
      ]
    },
    {
      "cell_type": "code",
      "source": [
        "# create faiss index\n",
        "import faiss\n",
        "\n",
        "movie_embeddings = svd.components_.transpose().astype('float32')\n",
        "index = faiss.IndexFlatIP(movie_embeddings.shape[1])\n",
        "index.add(movie_embeddings)"
      ],
      "metadata": {
        "id": "aiBsRTbkKRBb"
      },
      "execution_count": 34,
      "outputs": []
    },
    {
      "cell_type": "code",
      "source": [
        "inner_product, neighbors = index.search(movie_embeddings[0].reshape(1, -1), 5)\n",
        "pd.DataFrame({\"neigbors\": neighbors[0], \"inner product\": inner_product[0]})"
      ],
      "metadata": {
        "colab": {
          "base_uri": "https://localhost:8080/",
          "height": 206
        },
        "id": "aa-IQPuD0CqR",
        "outputId": "b7119a07-e144-40ae-caa5-f96aa83e168a"
      },
      "execution_count": 39,
      "outputs": [
        {
          "output_type": "execute_result",
          "data": {
            "text/plain": [
              "   neigbors  inner product\n",
              "0         0       0.003743\n",
              "1         2       0.002853\n",
              "2         6       0.002600\n",
              "3         1       0.002547\n",
              "4         3       0.002498"
            ],
            "text/html": [
              "\n",
              "  <div id=\"df-d1548112-0f25-4236-81fc-02477689ba59\">\n",
              "    <div class=\"colab-df-container\">\n",
              "      <div>\n",
              "<style scoped>\n",
              "    .dataframe tbody tr th:only-of-type {\n",
              "        vertical-align: middle;\n",
              "    }\n",
              "\n",
              "    .dataframe tbody tr th {\n",
              "        vertical-align: top;\n",
              "    }\n",
              "\n",
              "    .dataframe thead th {\n",
              "        text-align: right;\n",
              "    }\n",
              "</style>\n",
              "<table border=\"1\" class=\"dataframe\">\n",
              "  <thead>\n",
              "    <tr style=\"text-align: right;\">\n",
              "      <th></th>\n",
              "      <th>neigbors</th>\n",
              "      <th>inner product</th>\n",
              "    </tr>\n",
              "  </thead>\n",
              "  <tbody>\n",
              "    <tr>\n",
              "      <th>0</th>\n",
              "      <td>0</td>\n",
              "      <td>0.003743</td>\n",
              "    </tr>\n",
              "    <tr>\n",
              "      <th>1</th>\n",
              "      <td>2</td>\n",
              "      <td>0.002853</td>\n",
              "    </tr>\n",
              "    <tr>\n",
              "      <th>2</th>\n",
              "      <td>6</td>\n",
              "      <td>0.002600</td>\n",
              "    </tr>\n",
              "    <tr>\n",
              "      <th>3</th>\n",
              "      <td>1</td>\n",
              "      <td>0.002547</td>\n",
              "    </tr>\n",
              "    <tr>\n",
              "      <th>4</th>\n",
              "      <td>3</td>\n",
              "      <td>0.002498</td>\n",
              "    </tr>\n",
              "  </tbody>\n",
              "</table>\n",
              "</div>\n",
              "      <button class=\"colab-df-convert\" onclick=\"convertToInteractive('df-d1548112-0f25-4236-81fc-02477689ba59')\"\n",
              "              title=\"Convert this dataframe to an interactive table.\"\n",
              "              style=\"display:none;\">\n",
              "        \n",
              "  <svg xmlns=\"http://www.w3.org/2000/svg\" height=\"24px\"viewBox=\"0 0 24 24\"\n",
              "       width=\"24px\">\n",
              "    <path d=\"M0 0h24v24H0V0z\" fill=\"none\"/>\n",
              "    <path d=\"M18.56 5.44l.94 2.06.94-2.06 2.06-.94-2.06-.94-.94-2.06-.94 2.06-2.06.94zm-11 1L8.5 8.5l.94-2.06 2.06-.94-2.06-.94L8.5 2.5l-.94 2.06-2.06.94zm10 10l.94 2.06.94-2.06 2.06-.94-2.06-.94-.94-2.06-.94 2.06-2.06.94z\"/><path d=\"M17.41 7.96l-1.37-1.37c-.4-.4-.92-.59-1.43-.59-.52 0-1.04.2-1.43.59L10.3 9.45l-7.72 7.72c-.78.78-.78 2.05 0 2.83L4 21.41c.39.39.9.59 1.41.59.51 0 1.02-.2 1.41-.59l7.78-7.78 2.81-2.81c.8-.78.8-2.07 0-2.86zM5.41 20L4 18.59l7.72-7.72 1.47 1.35L5.41 20z\"/>\n",
              "  </svg>\n",
              "      </button>\n",
              "      \n",
              "  <style>\n",
              "    .colab-df-container {\n",
              "      display:flex;\n",
              "      flex-wrap:wrap;\n",
              "      gap: 12px;\n",
              "    }\n",
              "\n",
              "    .colab-df-convert {\n",
              "      background-color: #E8F0FE;\n",
              "      border: none;\n",
              "      border-radius: 50%;\n",
              "      cursor: pointer;\n",
              "      display: none;\n",
              "      fill: #1967D2;\n",
              "      height: 32px;\n",
              "      padding: 0 0 0 0;\n",
              "      width: 32px;\n",
              "    }\n",
              "\n",
              "    .colab-df-convert:hover {\n",
              "      background-color: #E2EBFA;\n",
              "      box-shadow: 0px 1px 2px rgba(60, 64, 67, 0.3), 0px 1px 3px 1px rgba(60, 64, 67, 0.15);\n",
              "      fill: #174EA6;\n",
              "    }\n",
              "\n",
              "    [theme=dark] .colab-df-convert {\n",
              "      background-color: #3B4455;\n",
              "      fill: #D2E3FC;\n",
              "    }\n",
              "\n",
              "    [theme=dark] .colab-df-convert:hover {\n",
              "      background-color: #434B5C;\n",
              "      box-shadow: 0px 1px 3px 1px rgba(0, 0, 0, 0.15);\n",
              "      filter: drop-shadow(0px 1px 2px rgba(0, 0, 0, 0.3));\n",
              "      fill: #FFFFFF;\n",
              "    }\n",
              "  </style>\n",
              "\n",
              "      <script>\n",
              "        const buttonEl =\n",
              "          document.querySelector('#df-d1548112-0f25-4236-81fc-02477689ba59 button.colab-df-convert');\n",
              "        buttonEl.style.display =\n",
              "          google.colab.kernel.accessAllowed ? 'block' : 'none';\n",
              "\n",
              "        async function convertToInteractive(key) {\n",
              "          const element = document.querySelector('#df-d1548112-0f25-4236-81fc-02477689ba59');\n",
              "          const dataTable =\n",
              "            await google.colab.kernel.invokeFunction('convertToInteractive',\n",
              "                                                     [key], {});\n",
              "          if (!dataTable) return;\n",
              "\n",
              "          const docLinkHtml = 'Like what you see? Visit the ' +\n",
              "            '<a target=\"_blank\" href=https://colab.research.google.com/notebooks/data_table.ipynb>data table notebook</a>'\n",
              "            + ' to learn more about interactive tables.';\n",
              "          element.innerHTML = '';\n",
              "          dataTable['output_type'] = 'display_data';\n",
              "          await google.colab.output.renderOutput(dataTable, element);\n",
              "          const docLink = document.createElement('div');\n",
              "          docLink.innerHTML = docLinkHtml;\n",
              "          element.appendChild(docLink);\n",
              "        }\n",
              "      </script>\n",
              "    </div>\n",
              "  </div>\n",
              "  "
            ]
          },
          "metadata": {},
          "execution_count": 39
        }
      ]
    },
    {
      "cell_type": "code",
      "source": [
        "# used to display movie names\n",
        "index_to_title = (\n",
        "    vocabulary_df\n",
        "    .join(movies_df, on=\"movieId\")\n",
        "    .select(\"index\", \"title\")\n",
        "    .toPandas()\n",
        "    .set_index(\"index\")\n",
        "    [\"title\"]\n",
        "    .to_dict()\n",
        ")"
      ],
      "metadata": {
        "id": "62pqCHdlK9Bx"
      },
      "execution_count": 30,
      "outputs": []
    },
    {
      "cell_type": "code",
      "source": [
        "# utility function to display top k\n",
        "def analyze(movie_index, k):\n",
        "  print(f'Recommendations for : {index_to_title[movie_index]}')\n",
        "  query_embeddings = movie_embeddings[movie_index].reshape((1, -1))\n",
        "  inner_products_list, indices_list = index.search(query_embeddings, k + 1)\n",
        "  for movie_index, score in zip(indices_list[0], inner_products_list[0]):\n",
        "    print(\n",
        "        str(movie_index).ljust(6),\n",
        "        index_to_title[movie_index].ljust(80),\n",
        "        score\n",
        "    )"
      ],
      "metadata": {
        "id": "591lZUCRKcdr"
      },
      "execution_count": 63,
      "outputs": []
    },
    {
      "cell_type": "code",
      "source": [
        "THE_GOOD_THE_BAD_AND_THE_UGLY = 159\n",
        "RATATOUILLE_ID = 168\n",
        "INGLORIOUS_BASTERDS_ID = 109\n",
        "analyze(THE_GOOD_THE_BAD_AND_THE_UGLY, 10)"
      ],
      "metadata": {
        "colab": {
          "base_uri": "https://localhost:8080/"
        },
        "id": "ym8TdzsaSqxj",
        "outputId": "fcde2839-b203-429a-a3d4-49531029c3a8"
      },
      "execution_count": 64,
      "outputs": [
        {
          "output_type": "stream",
          "name": "stdout",
          "text": [
            "Recommendations for : Good, the Bad and the Ugly, The (Buono, il brutto, il cattivo, Il) (1966)\n",
            "159    Good, the Bad and the Ugly, The (Buono, il brutto, il cattivo, Il) (1966)        0.0034401892\n",
            "586    Fistful of Dollars, A (Per un pugno di dollari) (1964)                           0.0034161794\n",
            "784    For a Few Dollars More (Per qualche dollaro in più) (1965)                       0.0032445602\n",
            "255    Seven Samurai (Shichinin no samurai) (1954)                                      0.003163387\n",
            "800    Once Upon a Time in the West (C'era una volta il West) (1968)                    0.0031480629\n",
            "694    Dirty Dozen, The (1967)                                                          0.0028432962\n",
            "755    Dirty Harry (1971)                                                               0.0028358577\n",
            "333    Great Escape, The (1963)                                                         0.0028180112\n",
            "406    Thing, The (1982)                                                                0.0027795916\n",
            "298    Bridge on the River Kwai, The (1957)                                             0.0027648378\n",
            "269    Boot, Das (Boat, The) (1981)                                                     0.002744037\n"
          ]
        }
      ]
    },
    {
      "cell_type": "code",
      "source": [
        "[(k, v) for k, v in index_to_title.items() if \"the ugly\" in v.lower()]"
      ],
      "metadata": {
        "colab": {
          "base_uri": "https://localhost:8080/"
        },
        "id": "xe4YTj5iSrnr",
        "outputId": "803f4a5b-1715-47f6-deaa-b5785b15dc34"
      },
      "execution_count": 65,
      "outputs": [
        {
          "output_type": "execute_result",
          "data": {
            "text/plain": [
              "[(159,\n",
              "  'Good, the Bad and the Ugly, The (Buono, il brutto, il cattivo, Il) (1966)'),\n",
              " (46106, 'The Ugly Ones (1967)'),\n",
              " (15040, 'The Ugly Swans (2006)'),\n",
              " (16452, 'The Ugly Duckling (1939)'),\n",
              " (28455, 'The Ugly Duckling (1931)'),\n",
              " (35980, 'The Ugly Duckling (2010)')]"
            ]
          },
          "metadata": {},
          "execution_count": 65
        }
      ]
    },
    {
      "cell_type": "code",
      "source": [
        ""
      ],
      "metadata": {
        "id": "cjEOt1CaS2gy"
      },
      "execution_count": null,
      "outputs": []
    }
  ],
  "metadata": {
    "kernelspec": {
      "display_name": "Python 3",
      "language": "python",
      "name": "python3"
    },
    "language_info": {
      "mimetype": "text/x-python",
      "name": "python",
      "pygments_lexer": "ipython3",
      "codemirror_mode": {
        "name": "ipython",
        "version": 3
      },
      "version": "3.7.4",
      "nbconvert_exporter": "python",
      "file_extension": ".py"
    },
    "application/vnd.databricks.v1+notebook": {
      "notebookName": "Matrix Factorization Part 1 + 2",
      "dashboards": [],
      "notebookMetadata": {
        "pythonIndentUnit": 2
      },
      "language": "python",
      "widgets": {},
      "notebookOrigID": 3894196550542310
    },
    "colab": {
      "name": "td4-part2-matrix-factorization-questions.ipynb",
      "provenance": [],
      "collapsed_sections": [
        "354N1dKjtSma"
      ]
    }
  },
  "nbformat": 4,
  "nbformat_minor": 0
}