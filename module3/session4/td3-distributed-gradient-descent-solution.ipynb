{
  "cells": [
    {
      "cell_type": "markdown",
      "source": [
        "# Logistic regression on Criteo dataset without Spark MLlib"
      ],
      "metadata": {
        "application/vnd.databricks.v1+cell": {
          "title": "",
          "showTitle": false,
          "inputWidgets": {},
          "nuid": "ce4051c1-4f85-4950-b441-53bca85cc277"
        },
        "id": "9lTkj6rcaGZY"
      }
    },
    {
      "cell_type": "code",
      "source": [
        "!apt-get install openjdk-8-jdk-headless -qq > /dev/null\n",
        "!curl -O https://dlcdn.apache.org/spark/spark-3.2.1/spark-3.2.1-bin-hadoop3.2.tgz\n",
        "!tar xf spark-3.2.1-bin-hadoop3.2.tgz\n",
        "!pip install -q findspark"
      ],
      "metadata": {
        "id": "ntiAkDcbiM6D"
      },
      "execution_count": null,
      "outputs": []
    },
    {
      "cell_type": "code",
      "source": [
        "import os\n",
        "os.environ[\"JAVA_HOME\"] = \"/usr/lib/jvm/java-8-openjdk-amd64\"\n",
        "os.environ[\"SPARK_HOME\"] = \"/content/spark-3.2.1-bin-hadoop3.2\""
      ],
      "metadata": {
        "id": "rIAHt1kziN3E"
      },
      "execution_count": null,
      "outputs": []
    },
    {
      "cell_type": "code",
      "source": [
        "import findspark\n",
        "findspark.init()\n",
        "from pyspark.sql import SparkSession\n",
        "from pyspark import SparkContext, SparkConf\n",
        "\n",
        "conf = SparkConf().set('spark.ui.port', '4050')\n",
        "sc = SparkContext(conf=conf)\n",
        "spark = SparkSession.builder.master('local[*]').getOrCreate()\n",
        "ss = spark"
      ],
      "metadata": {
        "id": "U4sL5x40iOUu"
      },
      "execution_count": null,
      "outputs": []
    },
    {
      "cell_type": "code",
      "source": [
        "from pyspark.sql import SparkSession\n",
        "from pyspark.sql import types as st\n",
        "from pyspark.sql import functions as sf\n",
        "from pyspark.sql import Row, DataFrame\n",
        "from pyspark import RDD\n",
        "from pyspark import StorageLevel"
      ],
      "metadata": {
        "application/vnd.databricks.v1+cell": {
          "title": "",
          "showTitle": false,
          "inputWidgets": {},
          "nuid": "a03b37ed-b018-4656-a023-ee19ac83aee4"
        },
        "id": "xkQhuTxnaGZc",
        "outputId": "fa230f65-b6b1-422c-fbe0-ff93e3118566"
      },
      "outputs": [
        {
          "output_type": "display_data",
          "metadata": {
            "application/vnd.databricks.v1+output": {
              "type": "ipynbError",
              "data": "",
              "errorSummary": "",
              "arguments": {}
            }
          },
          "data": {
            "text/html": [
              "<style scoped>\n  .ansiout {\n    display: block;\n    unicode-bidi: embed;\n    white-space: pre-wrap;\n    word-wrap: break-word;\n    word-break: break-all;\n    font-family: \"Source Code Pro\", \"Menlo\", monospace;;\n    font-size: 13px;\n    color: #555;\n    margin-left: 4px;\n    line-height: 19px;\n  }\n</style>"
            ]
          }
        }
      ],
      "execution_count": null
    },
    {
      "cell_type": "code",
      "source": [
        "%matplotlib inline"
      ],
      "metadata": {
        "application/vnd.databricks.v1+cell": {
          "title": "",
          "showTitle": false,
          "inputWidgets": {},
          "nuid": "f81cca61-e319-4be1-ac1e-5af57d12b0c0"
        },
        "id": "3EINPSdcaGZh",
        "outputId": "f2b2c7ac-77de-4fd7-e945-5bc7052d1bfc"
      },
      "outputs": [
        {
          "output_type": "display_data",
          "metadata": {
            "application/vnd.databricks.v1+output": {
              "type": "ipynbError",
              "data": "",
              "errorSummary": "",
              "arguments": {}
            }
          },
          "data": {
            "text/html": [
              "<style scoped>\n  .ansiout {\n    display: block;\n    unicode-bidi: embed;\n    white-space: pre-wrap;\n    word-wrap: break-word;\n    word-break: break-all;\n    font-family: \"Source Code Pro\", \"Menlo\", monospace;;\n    font-size: 13px;\n    color: #555;\n    margin-left: 4px;\n    line-height: 19px;\n  }\n</style>"
            ]
          }
        }
      ],
      "execution_count": null
    },
    {
      "cell_type": "code",
      "source": [
        "import numpy as np\n",
        "import math\n",
        "import matplotlib.pyplot as plot\n",
        "from typing import Tuple, Dict"
      ],
      "metadata": {
        "application/vnd.databricks.v1+cell": {
          "title": "",
          "showTitle": false,
          "inputWidgets": {},
          "nuid": "96c19685-5bae-4d9b-8e26-f894cfe95150"
        },
        "id": "2ELeYHZ8aGZm",
        "outputId": "f8461444-0c87-4af5-f719-529b8b6ef0d6"
      },
      "outputs": [
        {
          "output_type": "display_data",
          "metadata": {
            "application/vnd.databricks.v1+output": {
              "type": "ipynbError",
              "data": "",
              "errorSummary": "",
              "arguments": {}
            }
          },
          "data": {
            "text/html": [
              "<style scoped>\n  .ansiout {\n    display: block;\n    unicode-bidi: embed;\n    white-space: pre-wrap;\n    word-wrap: break-word;\n    word-break: break-all;\n    font-family: \"Source Code Pro\", \"Menlo\", monospace;;\n    font-size: 13px;\n    color: #555;\n    margin-left: 4px;\n    line-height: 19px;\n  }\n</style>"
            ]
          }
        }
      ],
      "execution_count": null
    },
    {
      "cell_type": "markdown",
      "source": [
        "## Load dataset"
      ],
      "metadata": {
        "application/vnd.databricks.v1+cell": {
          "title": "",
          "showTitle": false,
          "inputWidgets": {},
          "nuid": "2d4636f7-4d23-4900-97d9-1a43ad8d91e6"
        },
        "id": "bKM_JbsQaGZs"
      }
    },
    {
      "cell_type": "code",
      "source": [
        "integer_features = [f\"int_feat_{i}\" for i in range(1, 14)]\n",
        "categorical_features = [f\"cat_feat_{i}\" for i in range(1, 27)]\n",
        "\n",
        "fields = []\n",
        "\n",
        "fields.append(\n",
        "    st.StructField(\"label\", st.IntegerType(), nullable=False)\n",
        ")\n",
        "\n",
        "for int_feat in integer_features:\n",
        "    fields.append(st.StructField(int_feat, st.IntegerType(), nullable=True))\n",
        "    \n",
        "for cat_feat in categorical_features:\n",
        "    fields.append(st.StructField(cat_feat, st.StringType(), nullable=True))\n",
        "\n",
        "schema = st.StructType(fields)"
      ],
      "metadata": {
        "application/vnd.databricks.v1+cell": {
          "title": "",
          "showTitle": false,
          "inputWidgets": {},
          "nuid": "d8fbc9cb-8911-4b90-8c04-6ca56a92679e"
        },
        "id": "2OkMOzP_aGZt",
        "outputId": "eaf35c65-d142-4fa8-d268-64fc21344218"
      },
      "outputs": [
        {
          "output_type": "display_data",
          "metadata": {
            "application/vnd.databricks.v1+output": {
              "type": "ipynbError",
              "data": "",
              "errorSummary": "",
              "arguments": {}
            }
          },
          "data": {
            "text/html": [
              "<style scoped>\n  .ansiout {\n    display: block;\n    unicode-bidi: embed;\n    white-space: pre-wrap;\n    word-wrap: break-word;\n    word-break: break-all;\n    font-family: \"Source Code Pro\", \"Menlo\", monospace;;\n    font-size: 13px;\n    color: #555;\n    margin-left: 4px;\n    line-height: 19px;\n  }\n</style>"
            ]
          }
        }
      ],
      "execution_count": null
    },
    {
      "cell_type": "code",
      "source": [
        "from urllib import request\n",
        "toy_dataset_url = 'https://www.dropbox.com/s/hn2pt29gbne9c99/criteo_toy_dataset-part2.txt?dl=1'\n",
        "request.urlretrieve(toy_dataset_url, \"train.txt\")"
      ],
      "metadata": {
        "application/vnd.databricks.v1+cell": {
          "title": "",
          "showTitle": false,
          "inputWidgets": {},
          "nuid": "630d0e64-2505-4a72-b632-306f548287df"
        },
        "id": "7C6s3MaLaGZv",
        "outputId": "ed755aa1-c4c2-4194-9357-a6ec6a17b913"
      },
      "outputs": [
        {
          "output_type": "display_data",
          "metadata": {
            "application/vnd.databricks.v1+output": {
              "type": "ipynbError",
              "data": "",
              "errorSummary": "",
              "arguments": {}
            }
          },
          "data": {
            "text/html": [
              "<style scoped>\n  .ansiout {\n    display: block;\n    unicode-bidi: embed;\n    white-space: pre-wrap;\n    word-wrap: break-word;\n    word-break: break-all;\n    font-family: \"Source Code Pro\", \"Menlo\", monospace;;\n    font-size: 13px;\n    color: #555;\n    margin-left: 4px;\n    line-height: 19px;\n  }\n</style>"
            ]
          }
        }
      ],
      "execution_count": null
    },
    {
      "cell_type": "code",
      "source": [
        "full_df = ss.read.csv(\n",
        "    path=\"train.txt\",\n",
        "    sep=\"\\t\",\n",
        "    header=None,\n",
        "    schema=schema\n",
        ")"
      ],
      "metadata": {
        "application/vnd.databricks.v1+cell": {
          "title": "",
          "showTitle": false,
          "inputWidgets": {},
          "nuid": "debbde52-486f-4e65-9a38-7171b7db4d3a"
        },
        "id": "H7i6s0aXaGZx",
        "outputId": "e5a8eeaa-e23a-40da-f671-32668edf31a8"
      },
      "outputs": [
        {
          "output_type": "display_data",
          "metadata": {
            "application/vnd.databricks.v1+output": {
              "type": "ipynbError",
              "data": "",
              "errorSummary": "",
              "arguments": {}
            }
          },
          "data": {
            "text/html": [
              "<style scoped>\n  .ansiout {\n    display: block;\n    unicode-bidi: embed;\n    white-space: pre-wrap;\n    word-wrap: break-word;\n    word-break: break-all;\n    font-family: \"Source Code Pro\", \"Menlo\", monospace;;\n    font-size: 13px;\n    color: #555;\n    margin-left: 4px;\n    line-height: 19px;\n  }\n</style>"
            ]
          }
        }
      ],
      "execution_count": null
    },
    {
      "cell_type": "code",
      "source": [
        "full_df.agg(\n",
        "    sf.count('*').alias('num_examples'),\n",
        "    sf.sum('label').alias('num_positives'),\n",
        "    sf.sum(sf.expr('label == 0').cast('int')).alias('num_negatives'),\n",
        "    sf.mean('label').alias('avg_label')\n",
        ").toPandas()"
      ],
      "metadata": {
        "application/vnd.databricks.v1+cell": {
          "title": "",
          "showTitle": false,
          "inputWidgets": {},
          "nuid": "439c9371-54d2-4824-8247-f04eeee58cb3"
        },
        "id": "16-vfUDdaGZz",
        "outputId": "3c952c18-00b8-4d11-b1ff-a7bf1b15d65a"
      },
      "outputs": [
        {
          "output_type": "display_data",
          "metadata": {
            "application/vnd.databricks.v1+output": {
              "type": "ipynbError",
              "data": "",
              "errorSummary": "",
              "arguments": {}
            }
          },
          "data": {
            "text/html": [
              "<style scoped>\n  .ansiout {\n    display: block;\n    unicode-bidi: embed;\n    white-space: pre-wrap;\n    word-wrap: break-word;\n    word-break: break-all;\n    font-family: \"Source Code Pro\", \"Menlo\", monospace;;\n    font-size: 13px;\n    color: #555;\n    margin-left: 4px;\n    line-height: 19px;\n  }\n</style>"
            ]
          }
        }
      ],
      "execution_count": null
    },
    {
      "cell_type": "markdown",
      "source": [
        "## Convert to vector with one hot encoding"
      ],
      "metadata": {
        "application/vnd.databricks.v1+cell": {
          "title": "",
          "showTitle": false,
          "inputWidgets": {},
          "nuid": "3d6a0c68-ecac-4483-850d-26196a01976b"
        },
        "id": "D7YA8WifaGZ2"
      }
    },
    {
      "cell_type": "markdown",
      "source": [
        "### Select subset of features based on number of modalities"
      ],
      "metadata": {
        "application/vnd.databricks.v1+cell": {
          "title": "",
          "showTitle": false,
          "inputWidgets": {},
          "nuid": "fe55e0e4-5f28-482d-921c-149c9599a536"
        },
        "id": "1AE9mGESaGZ4"
      }
    },
    {
      "cell_type": "code",
      "source": [
        "threshold = 100\n",
        "num_modalities = {} \n",
        "for cat_feat in categorical_features:\n",
        "    num_modalities[cat_feat] = full_df \\\n",
        "        .filter(sf.col(cat_feat).isNotNull()) \\\n",
        "        .groupby(cat_feat) \\\n",
        "        .count() \\\n",
        "        .filter(sf.col('count') > sf.lit(threshold)) \\\n",
        "        .count()\n",
        "num_modalities"
      ],
      "metadata": {
        "application/vnd.databricks.v1+cell": {
          "title": "",
          "showTitle": false,
          "inputWidgets": {},
          "nuid": "b0c58f2c-128e-49d4-aafe-2631208d9d6c"
        },
        "id": "-kCxwXESaGZ5",
        "outputId": "f718f749-dbfb-4334-b7ec-39aa674c6a99"
      },
      "outputs": [
        {
          "output_type": "display_data",
          "metadata": {
            "application/vnd.databricks.v1+output": {
              "type": "ipynbError",
              "data": "",
              "errorSummary": "",
              "arguments": {}
            }
          },
          "data": {
            "text/html": [
              "<style scoped>\n  .ansiout {\n    display: block;\n    unicode-bidi: embed;\n    white-space: pre-wrap;\n    word-wrap: break-word;\n    word-break: break-all;\n    font-family: \"Source Code Pro\", \"Menlo\", monospace;;\n    font-size: 13px;\n    color: #555;\n    margin-left: 4px;\n    line-height: 19px;\n  }\n</style>"
            ]
          }
        }
      ],
      "execution_count": null
    },
    {
      "cell_type": "code",
      "source": [
        "low_card_cat_feat = [cat_feat for cat_feat, num_modalities in num_modalities.items() if num_modalities < 50]\n",
        "low_card_cat_feat"
      ],
      "metadata": {
        "application/vnd.databricks.v1+cell": {
          "title": "",
          "showTitle": false,
          "inputWidgets": {},
          "nuid": "cbddee6f-8e02-40ea-b853-47e8e683e7d1"
        },
        "id": "X8sZQDDkaGZ8",
        "outputId": "3be6c758-33db-4928-ed96-e2252a893844"
      },
      "outputs": [
        {
          "output_type": "display_data",
          "metadata": {
            "application/vnd.databricks.v1+output": {
              "type": "ipynbError",
              "data": "",
              "errorSummary": "",
              "arguments": {}
            }
          },
          "data": {
            "text/html": [
              "<style scoped>\n  .ansiout {\n    display: block;\n    unicode-bidi: embed;\n    white-space: pre-wrap;\n    word-wrap: break-word;\n    word-break: break-all;\n    font-family: \"Source Code Pro\", \"Menlo\", monospace;;\n    font-size: 13px;\n    color: #555;\n    margin-left: 4px;\n    line-height: 19px;\n  }\n</style>"
            ]
          }
        }
      ],
      "execution_count": null
    },
    {
      "cell_type": "markdown",
      "source": [
        "### Build map for one hot encoding"
      ],
      "metadata": {
        "application/vnd.databricks.v1+cell": {
          "title": "",
          "showTitle": false,
          "inputWidgets": {},
          "nuid": "2fbc43da-ced9-4229-ad84-bf3675fc197b"
        },
        "id": "MT1yMELiaGZ9"
      }
    },
    {
      "cell_type": "code",
      "source": [
        "modalities = {}\n",
        "for cat_feat in low_card_cat_feat:\n",
        "    rows = full_df\\\n",
        "        .filter(sf.col(cat_feat).isNotNull())\\\n",
        "        .groupby(cat_feat)\\\n",
        "        .count()\\\n",
        "        .filter(sf.col('count') > sf.lit(threshold))\\\n",
        "        .select(cat_feat)\\\n",
        "        .collect()\n",
        "    modalities[cat_feat] = [row[cat_feat] for row in rows]"
      ],
      "metadata": {
        "application/vnd.databricks.v1+cell": {
          "title": "",
          "showTitle": false,
          "inputWidgets": {},
          "nuid": "b445ce24-d832-4d74-a4f3-a98fe1ff4447"
        },
        "id": "UKNiYgCqaGZ-",
        "outputId": "7470267e-89f2-4203-b8a7-855abdcdac5d"
      },
      "outputs": [
        {
          "output_type": "display_data",
          "metadata": {
            "application/vnd.databricks.v1+output": {
              "type": "ipynbError",
              "data": "",
              "errorSummary": "",
              "arguments": {}
            }
          },
          "data": {
            "text/html": [
              "<style scoped>\n  .ansiout {\n    display: block;\n    unicode-bidi: embed;\n    white-space: pre-wrap;\n    word-wrap: break-word;\n    word-break: break-all;\n    font-family: \"Source Code Pro\", \"Menlo\", monospace;;\n    font-size: 13px;\n    color: #555;\n    margin-left: 4px;\n    line-height: 19px;\n  }\n</style>"
            ]
          }
        }
      ],
      "execution_count": null
    },
    {
      "cell_type": "code",
      "source": [
        "one_hot_encoder = {cat_feat:{} for cat_feat in low_card_cat_feat}\n",
        "#one_hot_encoder = [cat_feat:{} for cat_feat in low_card_cat_feat]\n",
        "index = 0\n",
        "for cat_feat in low_card_cat_feat:\n",
        "    for value in modalities[cat_feat]:\n",
        "        one_hot_encoder[cat_feat][value] = index\n",
        "        index += 1\n",
        "    one_hot_encoder[cat_feat][None] = index\n",
        "    index += 1\n",
        "dimension = index + 1 # dimension is nb_of_modalities + 1 for the intercept\n",
        "dimension"
      ],
      "metadata": {
        "application/vnd.databricks.v1+cell": {
          "title": "",
          "showTitle": false,
          "inputWidgets": {},
          "nuid": "6302f112-3515-42be-b52e-4914ef150da2"
        },
        "id": "OZdhhJoOaGaA",
        "outputId": "804a7071-2aa1-4694-efb1-e348cf4cb2bb"
      },
      "outputs": [
        {
          "output_type": "display_data",
          "metadata": {
            "application/vnd.databricks.v1+output": {
              "type": "ipynbError",
              "data": "",
              "errorSummary": "",
              "arguments": {}
            }
          },
          "data": {
            "text/html": [
              "<style scoped>\n  .ansiout {\n    display: block;\n    unicode-bidi: embed;\n    white-space: pre-wrap;\n    word-wrap: break-word;\n    word-break: break-all;\n    font-family: \"Source Code Pro\", \"Menlo\", monospace;;\n    font-size: 13px;\n    color: #555;\n    margin-left: 4px;\n    line-height: 19px;\n  }\n</style>"
            ]
          }
        }
      ],
      "execution_count": null
    },
    {
      "cell_type": "markdown",
      "source": [
        "### Convert to vector"
      ],
      "metadata": {
        "application/vnd.databricks.v1+cell": {
          "title": "",
          "showTitle": false,
          "inputWidgets": {},
          "nuid": "4595d1c9-f46f-4083-b801-896ef6ffe15c"
        },
        "id": "rRCRKhBEaGaB"
      }
    },
    {
      "cell_type": "code",
      "source": [
        "def row_to_vector(\n",
        "    row: Row, dimension: int, encoder: Dict[str, Dict[str, int]]\n",
        ") -> Tuple[np.ndarray, int]:\n",
        "    x = np.zeros(dimension)\n",
        "    x[-1] = 1 # for intercept\n",
        "    y = row['label']\n",
        "    for feat in encoder.keys():\n",
        "        value = row[feat]\n",
        "        index = encoder[feat].get(value, None)\n",
        "        if index != None:\n",
        "            x[index] = 1\n",
        "    return x, y"
      ],
      "metadata": {
        "application/vnd.databricks.v1+cell": {
          "title": "",
          "showTitle": false,
          "inputWidgets": {},
          "nuid": "2bdf9940-ef71-4179-b028-6f486aded04e"
        },
        "id": "uPMFjR7uaGaB",
        "outputId": "d95440a6-c99b-4ae3-9a8c-4d3329dab361"
      },
      "outputs": [
        {
          "output_type": "display_data",
          "metadata": {
            "application/vnd.databricks.v1+output": {
              "type": "ipynbError",
              "data": "",
              "errorSummary": "",
              "arguments": {}
            }
          },
          "data": {
            "text/html": [
              "<style scoped>\n  .ansiout {\n    display: block;\n    unicode-bidi: embed;\n    white-space: pre-wrap;\n    word-wrap: break-word;\n    word-break: break-all;\n    font-family: \"Source Code Pro\", \"Menlo\", monospace;;\n    font-size: 13px;\n    color: #555;\n    margin-left: 4px;\n    line-height: 19px;\n  }\n</style>"
            ]
          }
        }
      ],
      "execution_count": null
    },
    {
      "cell_type": "code",
      "source": [
        "def convert_to_vectors(\n",
        "    df: DataFrame, dimension: int, encoder: Dict[str, Dict[str, int]]\n",
        ") -> RDD:\n",
        "    features = encoder.keys()\n",
        "    return df\\\n",
        "        .select('label', *features).rdd\\\n",
        "        .map(lambda row: row_to_vector(row, dimension, encoder))"
      ],
      "metadata": {
        "application/vnd.databricks.v1+cell": {
          "title": "",
          "showTitle": false,
          "inputWidgets": {},
          "nuid": "a043f605-1d1a-486f-b1c0-6dcbc5f1a649"
        },
        "id": "SHE5LRBCaGaD",
        "outputId": "82750244-ec1a-4153-c22c-d96fefb9a6d1"
      },
      "outputs": [
        {
          "output_type": "display_data",
          "metadata": {
            "application/vnd.databricks.v1+output": {
              "type": "ipynbError",
              "data": "",
              "errorSummary": "",
              "arguments": {}
            }
          },
          "data": {
            "text/html": [
              "<style scoped>\n  .ansiout {\n    display: block;\n    unicode-bidi: embed;\n    white-space: pre-wrap;\n    word-wrap: break-word;\n    word-break: break-all;\n    font-family: \"Source Code Pro\", \"Menlo\", monospace;;\n    font-size: 13px;\n    color: #555;\n    margin-left: 4px;\n    line-height: 19px;\n  }\n</style>"
            ]
          }
        }
      ],
      "execution_count": null
    },
    {
      "cell_type": "code",
      "source": [
        "convert_to_vectors(full_df, dimension, one_hot_encoder).first()"
      ],
      "metadata": {
        "application/vnd.databricks.v1+cell": {
          "title": "",
          "showTitle": false,
          "inputWidgets": {},
          "nuid": "6037b886-4ec4-4614-879a-dc31f7c1208b"
        },
        "id": "_rqy0QDsaGaD",
        "outputId": "b934f686-40b7-431c-8afe-4c0a13392d8c"
      },
      "outputs": [
        {
          "output_type": "display_data",
          "metadata": {
            "application/vnd.databricks.v1+output": {
              "type": "ipynbError",
              "data": "",
              "errorSummary": "",
              "arguments": {}
            }
          },
          "data": {
            "text/html": [
              "<style scoped>\n  .ansiout {\n    display: block;\n    unicode-bidi: embed;\n    white-space: pre-wrap;\n    word-wrap: break-word;\n    word-break: break-all;\n    font-family: \"Source Code Pro\", \"Menlo\", monospace;;\n    font-size: 13px;\n    color: #555;\n    margin-left: 4px;\n    line-height: 19px;\n  }\n</style>"
            ]
          }
        }
      ],
      "execution_count": null
    },
    {
      "cell_type": "markdown",
      "source": [
        "## Compute loss"
      ],
      "metadata": {
        "application/vnd.databricks.v1+cell": {
          "title": "",
          "showTitle": false,
          "inputWidgets": {},
          "nuid": "b2b44c95-c7f7-41c7-909b-c92b6cdcc1ec"
        },
        "id": "MfHIkP1caGaE"
      }
    },
    {
      "cell_type": "code",
      "source": [
        "def sigmoid(x: float) -> float:\n",
        "    return 1 / (1 + math.exp(-x))"
      ],
      "metadata": {
        "application/vnd.databricks.v1+cell": {
          "title": "",
          "showTitle": false,
          "inputWidgets": {},
          "nuid": "eeac88d0-f667-4570-ac82-4fb37e180789"
        },
        "id": "RTXrKF5kaGaF",
        "outputId": "b4dc2413-4724-4abf-8a13-6fcc9979f5b2"
      },
      "outputs": [
        {
          "output_type": "display_data",
          "metadata": {
            "application/vnd.databricks.v1+output": {
              "type": "ipynbError",
              "data": "",
              "errorSummary": "",
              "arguments": {}
            }
          },
          "data": {
            "text/html": [
              "<style scoped>\n  .ansiout {\n    display: block;\n    unicode-bidi: embed;\n    white-space: pre-wrap;\n    word-wrap: break-word;\n    word-break: break-all;\n    font-family: \"Source Code Pro\", \"Menlo\", monospace;;\n    font-size: 13px;\n    color: #555;\n    margin-left: 4px;\n    line-height: 19px;\n  }\n</style>"
            ]
          }
        }
      ],
      "execution_count": null
    },
    {
      "cell_type": "code",
      "source": [
        "X = np.arange(-10, 10, 0.01)"
      ],
      "metadata": {
        "application/vnd.databricks.v1+cell": {
          "title": "",
          "showTitle": false,
          "inputWidgets": {},
          "nuid": "3715314f-aaf2-479e-a5c4-99e1a7af38fc"
        },
        "id": "ry6x8TLRaGaH",
        "outputId": "fd823b38-aeb4-4107-c4ec-ec047ae5eb67"
      },
      "outputs": [
        {
          "output_type": "display_data",
          "metadata": {
            "application/vnd.databricks.v1+output": {
              "type": "ipynbError",
              "data": "",
              "errorSummary": "",
              "arguments": {}
            }
          },
          "data": {
            "text/html": [
              "<style scoped>\n  .ansiout {\n    display: block;\n    unicode-bidi: embed;\n    white-space: pre-wrap;\n    word-wrap: break-word;\n    word-break: break-all;\n    font-family: \"Source Code Pro\", \"Menlo\", monospace;;\n    font-size: 13px;\n    color: #555;\n    margin-left: 4px;\n    line-height: 19px;\n  }\n</style>"
            ]
          }
        }
      ],
      "execution_count": null
    },
    {
      "cell_type": "code",
      "source": [
        "plot.plot(X, [sigmoid(x) for x in X])"
      ],
      "metadata": {
        "application/vnd.databricks.v1+cell": {
          "title": "",
          "showTitle": false,
          "inputWidgets": {},
          "nuid": "88263a00-34eb-4e88-8333-79c132814c28"
        },
        "id": "Z6UndM04aGaH",
        "outputId": "ba69e827-8edf-4dae-f1d7-9f8275afad32"
      },
      "outputs": [
        {
          "output_type": "display_data",
          "metadata": {
            "application/vnd.databricks.v1+output": {
              "type": "ipynbError",
              "data": "",
              "errorSummary": "",
              "arguments": {}
            }
          },
          "data": {
            "text/html": [
              "<style scoped>\n  .ansiout {\n    display: block;\n    unicode-bidi: embed;\n    white-space: pre-wrap;\n    word-wrap: break-word;\n    word-break: break-all;\n    font-family: \"Source Code Pro\", \"Menlo\", monospace;;\n    font-size: 13px;\n    color: #555;\n    margin-left: 4px;\n    line-height: 19px;\n  }\n</style>"
            ]
          }
        }
      ],
      "execution_count": null
    },
    {
      "cell_type": "code",
      "source": [
        "def point_predict(x: np.ndarray, model: np.ndarray) -> float:\n",
        "    return sigmoid(np.dot(x, model))"
      ],
      "metadata": {
        "application/vnd.databricks.v1+cell": {
          "title": "",
          "showTitle": false,
          "inputWidgets": {},
          "nuid": "369a3c4e-8d75-48d4-adec-d2fe432c751d"
        },
        "id": "tL2bI_okaGaJ",
        "outputId": "1c60f038-9e4c-44ea-b4d8-989d6e85108d"
      },
      "outputs": [
        {
          "output_type": "display_data",
          "metadata": {
            "application/vnd.databricks.v1+output": {
              "type": "ipynbError",
              "data": "",
              "errorSummary": "",
              "arguments": {}
            }
          },
          "data": {
            "text/html": [
              "<style scoped>\n  .ansiout {\n    display: block;\n    unicode-bidi: embed;\n    white-space: pre-wrap;\n    word-wrap: break-word;\n    word-break: break-all;\n    font-family: \"Source Code Pro\", \"Menlo\", monospace;;\n    font-size: 13px;\n    color: #555;\n    margin-left: 4px;\n    line-height: 19px;\n  }\n</style>"
            ]
          }
        }
      ],
      "execution_count": null
    },
    {
      "cell_type": "code",
      "source": [
        "def point_loss(prediction: float, y: int) -> float:\n",
        "    return - y * math.log(prediction) - (1-y) * math.log(1-prediction)"
      ],
      "metadata": {
        "application/vnd.databricks.v1+cell": {
          "title": "",
          "showTitle": false,
          "inputWidgets": {},
          "nuid": "a2bfacbf-6614-445b-963d-428808c409aa"
        },
        "id": "Jk4UaB-CaGaJ",
        "outputId": "bbaea010-7161-4b67-d001-2c859ed7ba59"
      },
      "outputs": [
        {
          "output_type": "display_data",
          "metadata": {
            "application/vnd.databricks.v1+output": {
              "type": "ipynbError",
              "data": "",
              "errorSummary": "",
              "arguments": {}
            }
          },
          "data": {
            "text/html": [
              "<style scoped>\n  .ansiout {\n    display: block;\n    unicode-bidi: embed;\n    white-space: pre-wrap;\n    word-wrap: break-word;\n    word-break: break-all;\n    font-family: \"Source Code Pro\", \"Menlo\", monospace;;\n    font-size: 13px;\n    color: #555;\n    margin-left: 4px;\n    line-height: 19px;\n  }\n</style>"
            ]
          }
        }
      ],
      "execution_count": null
    },
    {
      "cell_type": "code",
      "source": [
        "def compute_loss(vec_label_rdd: RDD, model: np.ndarray, num_examples: int) -> float:\n",
        "    sum_loss = vec_label_rdd\\\n",
        "        .map(lambda vec_lab: point_loss(point_predict(vec_lab[0], model), vec_lab[1]))\\\n",
        "        .reduce(lambda u, v: u+v)\n",
        "    return sum_loss / num_examples"
      ],
      "metadata": {
        "application/vnd.databricks.v1+cell": {
          "title": "",
          "showTitle": false,
          "inputWidgets": {},
          "nuid": "a978dc5f-d5b6-48c8-9760-37c27ac23237"
        },
        "id": "8qFR8fOPaGaK",
        "outputId": "f43ed2fc-0c71-4109-e18b-7b9cbd7901aa"
      },
      "outputs": [
        {
          "output_type": "display_data",
          "metadata": {
            "application/vnd.databricks.v1+output": {
              "type": "ipynbError",
              "data": "",
              "errorSummary": "",
              "arguments": {}
            }
          },
          "data": {
            "text/html": [
              "<style scoped>\n  .ansiout {\n    display: block;\n    unicode-bidi: embed;\n    white-space: pre-wrap;\n    word-wrap: break-word;\n    word-break: break-all;\n    font-family: \"Source Code Pro\", \"Menlo\", monospace;;\n    font-size: 13px;\n    color: #555;\n    margin-left: 4px;\n    line-height: 19px;\n  }\n</style>"
            ]
          }
        }
      ],
      "execution_count": null
    },
    {
      "cell_type": "markdown",
      "source": [
        "## Compute gradient of the loss"
      ],
      "metadata": {
        "application/vnd.databricks.v1+cell": {
          "title": "",
          "showTitle": false,
          "inputWidgets": {},
          "nuid": "0f3cfd7c-1252-45e7-aabe-af97ca030d91"
        },
        "id": "40RvO1rRaGaL"
      }
    },
    {
      "cell_type": "code",
      "source": [
        "def point_gradient(x: np.ndarray, y: int, model: np.ndarray) -> float:\n",
        "    p = sigmoid(np.dot(x, model))\n",
        "    return (p - y) *  x"
      ],
      "metadata": {
        "application/vnd.databricks.v1+cell": {
          "title": "",
          "showTitle": false,
          "inputWidgets": {},
          "nuid": "47d5d024-160f-4887-97c8-2f17089c0197"
        },
        "id": "HPF24W1maGaM",
        "outputId": "1132792a-6fd5-4deb-e169-fe0623d347e1"
      },
      "outputs": [
        {
          "output_type": "display_data",
          "metadata": {
            "application/vnd.databricks.v1+output": {
              "type": "ipynbError",
              "data": "",
              "errorSummary": "",
              "arguments": {}
            }
          },
          "data": {
            "text/html": [
              "<style scoped>\n  .ansiout {\n    display: block;\n    unicode-bidi: embed;\n    white-space: pre-wrap;\n    word-wrap: break-word;\n    word-break: break-all;\n    font-family: \"Source Code Pro\", \"Menlo\", monospace;;\n    font-size: 13px;\n    color: #555;\n    margin-left: 4px;\n    line-height: 19px;\n  }\n</style>"
            ]
          }
        }
      ],
      "execution_count": null
    },
    {
      "cell_type": "code",
      "source": [
        "def compute_gradient(vec_label_rdd: RDD, model: np.ndarray, num_examples: int) -> np.ndarray:\n",
        "    sum_gradient = vec_label_rdd\\\n",
        "        .map(lambda vec_lab: point_gradient(vec_lab[0], vec_lab[1], model))\\\n",
        "        .reduce(lambda u, v: u+v)\n",
        "    return sum_gradient / num_examples"
      ],
      "metadata": {
        "application/vnd.databricks.v1+cell": {
          "title": "",
          "showTitle": false,
          "inputWidgets": {},
          "nuid": "901ac2e6-e0d2-4a59-83d0-37cecf85a0e7"
        },
        "id": "X1jhX5kqaGaN",
        "outputId": "072f4c0f-24c0-41dc-e86e-ad630486d525"
      },
      "outputs": [
        {
          "output_type": "display_data",
          "metadata": {
            "application/vnd.databricks.v1+output": {
              "type": "ipynbError",
              "data": "",
              "errorSummary": "",
              "arguments": {}
            }
          },
          "data": {
            "text/html": [
              "<style scoped>\n  .ansiout {\n    display: block;\n    unicode-bidi: embed;\n    white-space: pre-wrap;\n    word-wrap: break-word;\n    word-break: break-all;\n    font-family: \"Source Code Pro\", \"Menlo\", monospace;;\n    font-size: 13px;\n    color: #555;\n    margin-left: 4px;\n    line-height: 19px;\n  }\n</style>"
            ]
          }
        }
      ],
      "execution_count": null
    },
    {
      "cell_type": "markdown",
      "source": [
        "## Check gradient with finite differences"
      ],
      "metadata": {
        "application/vnd.databricks.v1+cell": {
          "title": "",
          "showTitle": false,
          "inputWidgets": {},
          "nuid": "03e7c0f9-480d-4c51-b9a8-1bfc0b6387da"
        },
        "id": "ONEPnG0saGaO"
      }
    },
    {
      "cell_type": "code",
      "source": [
        "def point_gradient_fd(x, y, model, h=0.001):\n",
        "    dimension = len(x)\n",
        "    gradient = np.zeros(dimension)\n",
        "    for i in range(0, dimension):\n",
        "        delta = np.zeros(dimension)\n",
        "        delta[i] = h\n",
        "        \n",
        "        loss_up = point_loss(point_predict(x, model+delta), y)\n",
        "        loss_down = point_loss(point_predict(x, model-delta), y)\n",
        "        \n",
        "        gradient[i] = (loss_up - loss_down) / (2*h)\n",
        "    return gradient"
      ],
      "metadata": {
        "application/vnd.databricks.v1+cell": {
          "title": "",
          "showTitle": false,
          "inputWidgets": {},
          "nuid": "a407732d-9359-4c83-b9c8-83860298e7bb"
        },
        "id": "2Dr2-tcBaGaO",
        "outputId": "2f0e5694-facf-45f2-d1c9-e344e6bac3de"
      },
      "outputs": [
        {
          "output_type": "display_data",
          "metadata": {
            "application/vnd.databricks.v1+output": {
              "type": "ipynbError",
              "data": "",
              "errorSummary": "",
              "arguments": {}
            }
          },
          "data": {
            "text/html": [
              "<style scoped>\n  .ansiout {\n    display: block;\n    unicode-bidi: embed;\n    white-space: pre-wrap;\n    word-wrap: break-word;\n    word-break: break-all;\n    font-family: \"Source Code Pro\", \"Menlo\", monospace;;\n    font-size: 13px;\n    color: #555;\n    margin-left: 4px;\n    line-height: 19px;\n  }\n</style>"
            ]
          }
        }
      ],
      "execution_count": null
    },
    {
      "cell_type": "code",
      "source": [
        "model = np.random.uniform(-1.0, 1.0, size=dimension)\n",
        "x = np.random.uniform(-1.0, 1.0, size=dimension)\n",
        "y = 0"
      ],
      "metadata": {
        "application/vnd.databricks.v1+cell": {
          "title": "",
          "showTitle": false,
          "inputWidgets": {},
          "nuid": "3994ceb7-6e14-4023-a86e-d6a10d852368"
        },
        "id": "qPhlXgh0aGaP",
        "outputId": "f96b9c7c-09ab-4e36-afd9-740ecf624252"
      },
      "outputs": [
        {
          "output_type": "display_data",
          "metadata": {
            "application/vnd.databricks.v1+output": {
              "type": "ipynbError",
              "data": "",
              "errorSummary": "",
              "arguments": {}
            }
          },
          "data": {
            "text/html": [
              "<style scoped>\n  .ansiout {\n    display: block;\n    unicode-bidi: embed;\n    white-space: pre-wrap;\n    word-wrap: break-word;\n    word-break: break-all;\n    font-family: \"Source Code Pro\", \"Menlo\", monospace;;\n    font-size: 13px;\n    color: #555;\n    margin-left: 4px;\n    line-height: 19px;\n  }\n</style>"
            ]
          }
        }
      ],
      "execution_count": null
    },
    {
      "cell_type": "code",
      "source": [
        "np.sum(np.abs(point_gradient_fd(x, y, model) - point_gradient(x, y, model)))"
      ],
      "metadata": {
        "application/vnd.databricks.v1+cell": {
          "title": "",
          "showTitle": false,
          "inputWidgets": {},
          "nuid": "fe103a36-54dc-4e7f-aacc-38cd3f4af248"
        },
        "id": "76g4n5RTaGaR",
        "outputId": "fbe631b1-2232-4ebe-a2d6-9c9586ac2c3f"
      },
      "outputs": [
        {
          "output_type": "display_data",
          "metadata": {
            "application/vnd.databricks.v1+output": {
              "type": "ipynbError",
              "data": "",
              "errorSummary": "",
              "arguments": {}
            }
          },
          "data": {
            "text/html": [
              "<style scoped>\n  .ansiout {\n    display: block;\n    unicode-bidi: embed;\n    white-space: pre-wrap;\n    word-wrap: break-word;\n    word-break: break-all;\n    font-family: \"Source Code Pro\", \"Menlo\", monospace;;\n    font-size: 13px;\n    color: #555;\n    margin-left: 4px;\n    line-height: 19px;\n  }\n</style>"
            ]
          }
        }
      ],
      "execution_count": null
    },
    {
      "cell_type": "markdown",
      "source": [
        "## Distributed Gradient Descent"
      ],
      "metadata": {
        "application/vnd.databricks.v1+cell": {
          "title": "",
          "showTitle": false,
          "inputWidgets": {},
          "nuid": "07fb9c2a-2ff9-4c72-a212-a08312320915"
        },
        "id": "Dp4trmCeaGaS"
      }
    },
    {
      "cell_type": "code",
      "source": [
        "def logit(x: float) -> float:\n",
        "    return math.log( x / (1-x) )"
      ],
      "metadata": {
        "application/vnd.databricks.v1+cell": {
          "title": "",
          "showTitle": false,
          "inputWidgets": {},
          "nuid": "2ba14188-44f2-463d-a262-3e4e3bb27230"
        },
        "id": "wWESb-THaGaS",
        "outputId": "5e400abe-16fd-40a9-8b40-b31f606b867b"
      },
      "outputs": [
        {
          "output_type": "display_data",
          "metadata": {
            "application/vnd.databricks.v1+output": {
              "type": "ipynbError",
              "data": "",
              "errorSummary": "",
              "arguments": {}
            }
          },
          "data": {
            "text/html": [
              "<style scoped>\n  .ansiout {\n    display: block;\n    unicode-bidi: embed;\n    white-space: pre-wrap;\n    word-wrap: break-word;\n    word-break: break-all;\n    font-family: \"Source Code Pro\", \"Menlo\", monospace;;\n    font-size: 13px;\n    color: #555;\n    margin-left: 4px;\n    line-height: 19px;\n  }\n</style>"
            ]
          }
        }
      ],
      "execution_count": null
    },
    {
      "cell_type": "code",
      "source": [
        "np.sum(np.abs([x - logit(sigmoid(x)) for x in X]))"
      ],
      "metadata": {
        "application/vnd.databricks.v1+cell": {
          "title": "",
          "showTitle": false,
          "inputWidgets": {},
          "nuid": "983e123c-d809-453a-8f75-4125e99eeb9e"
        },
        "id": "j2RudExtaGaT",
        "outputId": "3e833427-d665-4ef8-fa8e-e6586f054208"
      },
      "outputs": [
        {
          "output_type": "display_data",
          "metadata": {
            "application/vnd.databricks.v1+output": {
              "type": "ipynbError",
              "data": "",
              "errorSummary": "",
              "arguments": {}
            }
          },
          "data": {
            "text/html": [
              "<style scoped>\n  .ansiout {\n    display: block;\n    unicode-bidi: embed;\n    white-space: pre-wrap;\n    word-wrap: break-word;\n    word-break: break-all;\n    font-family: \"Source Code Pro\", \"Menlo\", monospace;;\n    font-size: 13px;\n    color: #555;\n    margin-left: 4px;\n    line-height: 19px;\n  }\n</style>"
            ]
          }
        }
      ],
      "execution_count": null
    },
    {
      "cell_type": "code",
      "source": [
        "def smart_init(dimension: int, avg_label: float) -> np.ndarray:\n",
        "    init_model = np.zeros(dimension)\n",
        "    init_model[-1] = logit(avg_label)\n",
        "    return init_model"
      ],
      "metadata": {
        "application/vnd.databricks.v1+cell": {
          "title": "",
          "showTitle": false,
          "inputWidgets": {},
          "nuid": "3f584319-a975-45b3-80dc-119602c33a1c"
        },
        "id": "rPNLlzuIaGaU",
        "outputId": "d22bf969-ef33-4fd4-d7da-d6288f6b2735"
      },
      "outputs": [
        {
          "output_type": "display_data",
          "metadata": {
            "application/vnd.databricks.v1+output": {
              "type": "ipynbError",
              "data": "",
              "errorSummary": "",
              "arguments": {}
            }
          },
          "data": {
            "text/html": [
              "<style scoped>\n  .ansiout {\n    display: block;\n    unicode-bidi: embed;\n    white-space: pre-wrap;\n    word-wrap: break-word;\n    word-break: break-all;\n    font-family: \"Source Code Pro\", \"Menlo\", monospace;;\n    font-size: 13px;\n    color: #555;\n    margin-left: 4px;\n    line-height: 19px;\n  }\n</style>"
            ]
          }
        }
      ],
      "execution_count": null
    },
    {
      "cell_type": "code",
      "source": [
        "def train(\n",
        "    training_set: DataFrame,\n",
        "    dimension: int,\n",
        "    encoder: Dict[str, Dict[str, int]],\n",
        "    nb_iter: int,\n",
        "    lr: float\n",
        ") -> Tuple[np.ndarray, float]:\n",
        "    num_examples, avg_label = training_set.agg(\n",
        "        sf.count('*').alias('num_examples'),\n",
        "        sf.mean('label').alias('avg_label')\n",
        "    ).collect()[0]\n",
        "    print(f'Num examples: {num_examples}, average label: {avg_label}')\n",
        "    model = smart_init(dimension, avg_label)\n",
        "    vector_label_rdd = convert_to_vectors(training_set, dimension, encoder).persist()\n",
        "    for it in range(0, nb_iter):\n",
        "        loss = compute_loss(vector_label_rdd, model, num_examples)\n",
        "        print(f'Loss at step {it}: {loss}')\n",
        "        gradient = compute_gradient(vector_label_rdd, model, num_examples)\n",
        "        model -= lr * gradient\n",
        "    final_loss = compute_loss(vector_label_rdd, model, num_examples)\n",
        "    print(f'Loss at step {nb_iter}: {final_loss}')\n",
        "    return model, final_loss"
      ],
      "metadata": {
        "application/vnd.databricks.v1+cell": {
          "title": "",
          "showTitle": false,
          "inputWidgets": {},
          "nuid": "a6c8fbf2-9d94-40d2-948c-11b5e56951e7"
        },
        "id": "SSs_vz0VaGaZ",
        "outputId": "bcff1e40-bd8d-437c-8337-58e2e5b69fcc"
      },
      "outputs": [
        {
          "output_type": "display_data",
          "metadata": {
            "application/vnd.databricks.v1+output": {
              "type": "ipynbError",
              "data": "",
              "errorSummary": "",
              "arguments": {}
            }
          },
          "data": {
            "text/html": [
              "<style scoped>\n  .ansiout {\n    display: block;\n    unicode-bidi: embed;\n    white-space: pre-wrap;\n    word-wrap: break-word;\n    word-break: break-all;\n    font-family: \"Source Code Pro\", \"Menlo\", monospace;;\n    font-size: 13px;\n    color: #555;\n    margin-left: 4px;\n    line-height: 19px;\n  }\n</style>"
            ]
          }
        }
      ],
      "execution_count": null
    },
    {
      "cell_type": "code",
      "source": [
        "model, loss = train(full_df, dimension, one_hot_encoder, 10, 1)"
      ],
      "metadata": {
        "application/vnd.databricks.v1+cell": {
          "title": "",
          "showTitle": false,
          "inputWidgets": {},
          "nuid": "5a6e0895-ca4a-4fc4-b0be-691e2bef00f8"
        },
        "id": "R0zzJzPvaGad",
        "outputId": "01027e94-73b3-47c5-c433-754de3fd6b9e"
      },
      "outputs": [
        {
          "output_type": "display_data",
          "metadata": {
            "application/vnd.databricks.v1+output": {
              "type": "ipynbError",
              "data": "",
              "errorSummary": "",
              "arguments": {}
            }
          },
          "data": {
            "text/html": [
              "<style scoped>\n  .ansiout {\n    display: block;\n    unicode-bidi: embed;\n    white-space: pre-wrap;\n    word-wrap: break-word;\n    word-break: break-all;\n    font-family: \"Source Code Pro\", \"Menlo\", monospace;;\n    font-size: 13px;\n    color: #555;\n    margin-left: 4px;\n    line-height: 19px;\n  }\n</style>"
            ]
          }
        }
      ],
      "execution_count": null
    },
    {
      "cell_type": "code",
      "source": [
        "print(f'intercept -> {model[-1]}')\n",
        "for dim in one_hot_encoder.keys():\n",
        "    for mod, index in one_hot_encoder[dim].items():\n",
        "        print(f'{dim}={mod} -> {model[index]}')"
      ],
      "metadata": {
        "application/vnd.databricks.v1+cell": {
          "title": "",
          "showTitle": false,
          "inputWidgets": {},
          "nuid": "36e71a99-625d-41a9-912a-fa906120f4af"
        },
        "id": "dGtK_iaLaGaf",
        "outputId": "9db9be57-4269-443c-9744-8de7992153e9"
      },
      "outputs": [
        {
          "output_type": "display_data",
          "metadata": {
            "application/vnd.databricks.v1+output": {
              "type": "ipynbError",
              "data": "",
              "errorSummary": "",
              "arguments": {}
            }
          },
          "data": {
            "text/html": [
              "<style scoped>\n  .ansiout {\n    display: block;\n    unicode-bidi: embed;\n    white-space: pre-wrap;\n    word-wrap: break-word;\n    word-break: break-all;\n    font-family: \"Source Code Pro\", \"Menlo\", monospace;;\n    font-size: 13px;\n    color: #555;\n    margin-left: 4px;\n    line-height: 19px;\n  }\n</style>"
            ]
          }
        }
      ],
      "execution_count": null
    },
    {
      "cell_type": "code",
      "source": [
        "ss.stop()"
      ],
      "metadata": {
        "application/vnd.databricks.v1+cell": {
          "title": "",
          "showTitle": false,
          "inputWidgets": {},
          "nuid": "bbd317e1-2e1a-4662-8aa3-bae3b9e97444"
        },
        "id": "MlJdQ8wRaGah",
        "outputId": "838f6ceb-b06c-44eb-be43-7acfdcfae924"
      },
      "outputs": [
        {
          "output_type": "display_data",
          "metadata": {
            "application/vnd.databricks.v1+output": {
              "type": "ipynbError",
              "data": "",
              "errorSummary": "",
              "arguments": {}
            }
          },
          "data": {
            "text/html": [
              "<style scoped>\n  .ansiout {\n    display: block;\n    unicode-bidi: embed;\n    white-space: pre-wrap;\n    word-wrap: break-word;\n    word-break: break-all;\n    font-family: \"Source Code Pro\", \"Menlo\", monospace;;\n    font-size: 13px;\n    color: #555;\n    margin-left: 4px;\n    line-height: 19px;\n  }\n</style>"
            ]
          }
        }
      ],
      "execution_count": null
    },
    {
      "cell_type": "markdown",
      "source": [
        "### More questions\n",
        "\n",
        "* use sparse vectors\n",
        "* add feature hashing\n",
        "* merge loss and gradient computation in one function\n",
        "* use lbfgs from scipy"
      ],
      "metadata": {
        "application/vnd.databricks.v1+cell": {
          "title": "",
          "showTitle": false,
          "inputWidgets": {},
          "nuid": "c158fa4b-700d-4bd4-a248-553e2843b771"
        },
        "id": "f7mK9USTaGai"
      }
    }
  ],
  "metadata": {
    "kernelspec": {
      "display_name": "Python 3",
      "language": "python",
      "name": "python3"
    },
    "language_info": {
      "mimetype": "text/x-python",
      "name": "python",
      "pygments_lexer": "ipython3",
      "codemirror_mode": {
        "name": "ipython",
        "version": 3
      },
      "version": "3.6.8",
      "nbconvert_exporter": "python",
      "file_extension": ".py"
    },
    "application/vnd.databricks.v1+notebook": {
      "notebookName": "distributed-gradient-descent-solution",
      "dashboards": [],
      "notebookMetadata": {
        "pythonIndentUnit": 2
      },
      "language": "python",
      "widgets": {},
      "notebookOrigID": 3278793488316592
    },
    "colab": {
      "name": "td3-distributed-gradient-descent-solution.ipynb",
      "provenance": []
    }
  },
  "nbformat": 4,
  "nbformat_minor": 0
}