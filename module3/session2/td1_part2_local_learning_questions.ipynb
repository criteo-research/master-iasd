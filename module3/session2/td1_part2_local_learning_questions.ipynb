{
  "cells": [
    {
      "cell_type": "code",
      "source": [
        "!pip install --upgrade pip -q\n",
        "!pip install progressbar -q\n",
        "!pip install memory_profiler -q\n",
        "!pip install --upgrade pandas>=1.2 -q"
      ],
      "metadata": {
        "application/vnd.databricks.v1+cell": {
          "title": "",
          "showTitle": false,
          "inputWidgets": {},
          "nuid": "cb667d2a-3b5f-410e-aaf4-dd439732c51e"
        },
        "id": "8nQd2U9AYwwo"
      },
      "outputs": [],
      "execution_count": null
    },
    {
      "cell_type": "code",
      "source": [
        "%load_ext memory_profiler"
      ],
      "metadata": {
        "application/vnd.databricks.v1+cell": {
          "title": "",
          "showTitle": false,
          "inputWidgets": {},
          "nuid": "28d273c8-e128-4b73-9b5e-aa4eab0656df"
        },
        "id": "cDYjpMPeYwwr"
      },
      "outputs": [],
      "execution_count": null
    },
    {
      "cell_type": "code",
      "source": [
        "import urllib\n",
        "import tarfile\n",
        "import os\n",
        "from collections import OrderedDict\n",
        "import warnings\n",
        "import random\n",
        "\n",
        "import pandas as pd\n",
        "import numpy as np\n",
        "import matplotlib.pyplot as plt\n",
        "import seaborn as sns\n",
        "import progressbar\n",
        "from scipy.sparse import csr_matrix\n",
        "\n",
        "from sklearn.linear_model import SGDClassifier\n",
        "from sklearn.preprocessing import KBinsDiscretizer\n",
        "from sklearn.feature_extraction import FeatureHasher\n",
        "from sklearn import linear_model\n",
        "from sklearn.metrics import roc_auc_score, log_loss"
      ],
      "metadata": {
        "application/vnd.databricks.v1+cell": {
          "title": "",
          "showTitle": false,
          "inputWidgets": {},
          "nuid": "b638cb6c-d45d-4a28-8839-bb1c5dad06f1"
        },
        "id": "N-4gFxEAYwwt"
      },
      "outputs": [],
      "execution_count": null
    },
    {
      "cell_type": "markdown",
      "source": [
        "## Download Criteo  Display Advertising Challenge dataset"
      ],
      "metadata": {
        "application/vnd.databricks.v1+cell": {
          "title": "",
          "showTitle": false,
          "inputWidgets": {},
          "nuid": "c53bbab7-6051-4983-96e3-793ee117588b"
        },
        "id": "wAd3nBGXYwwv"
      }
    },
    {
      "cell_type": "code",
      "source": [
        "# ProgressBar borrowed from https://stackoverflow.com/a/53643011/2015762\n",
        "class ProgressBar():\n",
        "    def __init__(self):\n",
        "        self.pbar = None\n",
        "\n",
        "    def __call__(self, block_num, block_size, total_size):\n",
        "        if not self.pbar:\n",
        "            self.pbar=progressbar.ProgressBar(maxval=total_size)\n",
        "            self.pbar.start()\n",
        "\n",
        "        downloaded = block_num * block_size\n",
        "        if downloaded < total_size:\n",
        "            self.pbar.update(downloaded)\n",
        "        else:\n",
        "            self.pbar.finish()\n",
        "\n",
        "\n",
        "def download_dataset(dataset_url, dataset_folder_path, compressed_dataset_path):\n",
        "    # Download dataset\n",
        "    os.makedirs(dataset_folder_path, exist_ok=True)\n",
        "    urllib.request.urlretrieve(dataset_url, compressed_dataset_path, ProgressBar())\n",
        "\n",
        "def extract_dataset(compressed_dataset_path, dataset_folder_path, dataset_path):\n",
        "    # Extract train.txt (dataset with labels) and readme\n",
        "    with tarfile.open(compressed_dataset_path, \"r\") as input_file:\n",
        "        input_file.extract('readme.txt', dataset_folder_path)\n",
        "        input_file.extract('train.txt', dataset_folder_path)\n",
        "        os.rename(os.path.join(dataset_folder_path, 'train.txt'), dataset_path)"
      ],
      "metadata": {
        "application/vnd.databricks.v1+cell": {
          "title": "",
          "showTitle": false,
          "inputWidgets": {},
          "nuid": "af3c5721-fde1-4c56-8437-57d8e8bc5311"
        },
        "id": "eE8uqvS-Ywwx"
      },
      "outputs": [],
      "execution_count": null
    },
    {
      "cell_type": "code",
      "source": [
        "dataset_url = \"https://criteostorage.blob.core.windows.net/criteo-research-datasets/kaggle-display-advertising-challenge-dataset.tar.gz\"\n",
        "dataset_folder_path = os.path.abspath('sync/data/criteo_dataset')\n",
        "compressed_dataset_path = os.path.join(dataset_folder_path, \"criteo_dataset.tar.gz\")\n",
        "dataset_path = os.path.join(dataset_folder_path, \"criteo_dataset.txt\")"
      ],
      "metadata": {
        "application/vnd.databricks.v1+cell": {
          "title": "",
          "showTitle": false,
          "inputWidgets": {},
          "nuid": "1478b2f8-d38d-47c0-83da-60b9bc391b2b"
        },
        "id": "OIyM5hSbYwwz"
      },
      "outputs": [],
      "execution_count": null
    },
    {
      "cell_type": "code",
      "source": [
        "if not os.path.exists(compressed_dataset_path):\n",
        "    download_dataset(dataset_url, dataset_folder_path, compressed_dataset_path)\n",
        "\n",
        "if not os.path.exists(dataset_path):\n",
        "    extract_dataset(compressed_dataset_path, dataset_folder_path, dataset_path)"
      ],
      "metadata": {
        "application/vnd.databricks.v1+cell": {
          "title": "",
          "showTitle": false,
          "inputWidgets": {},
          "nuid": "63ada22d-76b5-4e2c-932a-69c89e541765"
        },
        "id": "wRe-KC3OYww0"
      },
      "outputs": [],
      "execution_count": null
    },
    {
      "cell_type": "markdown",
      "source": [
        "If it takes too much time, download this smaller dataset instead"
      ],
      "metadata": {
        "application/vnd.databricks.v1+cell": {
          "title": "",
          "showTitle": false,
          "inputWidgets": {},
          "nuid": "8f0defb5-3d8c-4955-980e-4e408af3b46b"
        },
        "id": "T6CPn_8oYww1"
      }
    },
    {
      "cell_type": "code",
      "source": [
        "# toy_dataset_path = os.path.join(dataset_folder_path, \"criteo_toy_dataset.txt\")\n",
        "# toy_dataset_url = 'https://www.dropbox.com/s/nji66dqsfqfpqh8/criteo_toy_dataset.txt?dl=1'\n",
        "# urllib.request.urlretrieve(toy_dataset_url, toy_dataset_path, ProgressBar())"
      ],
      "metadata": {
        "application/vnd.databricks.v1+cell": {
          "title": "",
          "showTitle": false,
          "inputWidgets": {},
          "nuid": "231628d5-9e06-4ae7-8f44-25ca7ee6c9c0"
        },
        "id": "7sYALJPYYww2"
      },
      "outputs": [],
      "execution_count": null
    },
    {
      "cell_type": "markdown",
      "source": [
        "Quick look at the files we have downloaded.\n",
        "\n",
        "Within iPython notebook, we can execute bash command by prepending the cell with `!` and insert python variable into it with `{}`"
      ],
      "metadata": {
        "application/vnd.databricks.v1+cell": {
          "title": "",
          "showTitle": false,
          "inputWidgets": {},
          "nuid": "55660968-0843-4d77-a996-c0970110f7bc"
        },
        "id": "l8gaKyiCYww4"
      }
    },
    {
      "cell_type": "code",
      "source": [
        "!ls -alh {dataset_folder_path}"
      ],
      "metadata": {
        "application/vnd.databricks.v1+cell": {
          "title": "",
          "showTitle": false,
          "inputWidgets": {},
          "nuid": "99c7acfc-a685-4e49-a609-a409d6199f62"
        },
        "id": "OJfLisoCYww5"
      },
      "outputs": [],
      "execution_count": null
    },
    {
      "cell_type": "code",
      "source": [
        "!cat {dataset_folder_path}/readme.txt"
      ],
      "metadata": {
        "application/vnd.databricks.v1+cell": {
          "title": "",
          "showTitle": false,
          "inputWidgets": {},
          "nuid": "99f480f9-5224-419b-904a-fc38429d97e6"
        },
        "id": "D3RSmwWjYww6"
      },
      "outputs": [],
      "execution_count": null
    },
    {
      "cell_type": "code",
      "source": [
        "label_columns = ['label']\n",
        "integer_features = [f'int_feat_{i}' for i in range(1, 14)]\n",
        "categorical_features = [f'cat_feat_{i}' for i in range(1, 27)]\n",
        "columns = label_columns + integer_features + categorical_features"
      ],
      "metadata": {
        "application/vnd.databricks.v1+cell": {
          "title": "",
          "showTitle": false,
          "inputWidgets": {},
          "nuid": "83209dbe-6666-43d0-8ab2-c9a7139ae4e3"
        },
        "id": "TkOwO-xyYww7"
      },
      "outputs": [],
      "execution_count": null
    },
    {
      "cell_type": "code",
      "source": [
        "pd.read_csv(dataset_path, nrows=10, header=None, sep='\\t', names=columns)"
      ],
      "metadata": {
        "application/vnd.databricks.v1+cell": {
          "title": "",
          "showTitle": false,
          "inputWidgets": {},
          "nuid": "97987163-55dc-4807-a4e8-0d5db8781629"
        },
        "id": "X7G7XFlMYww8"
      },
      "outputs": [],
      "execution_count": null
    },
    {
      "cell_type": "markdown",
      "source": [
        "## Reading data with memory constraints"
      ],
      "metadata": {
        "application/vnd.databricks.v1+cell": {
          "title": "",
          "showTitle": false,
          "inputWidgets": {},
          "nuid": "48033b2b-08be-4490-b9c8-4d6c8d61b38d"
        },
        "id": "kyKZK7N7Yww9"
      }
    },
    {
      "cell_type": "markdown",
      "source": [
        "We first create a toy dataset with \"only\" 1 million rows (out of 45 millions)"
      ],
      "metadata": {
        "application/vnd.databricks.v1+cell": {
          "title": "",
          "showTitle": false,
          "inputWidgets": {},
          "nuid": "23587706-411e-487a-89b6-2423b7e389dc"
        },
        "id": "v3rasFjqYww-"
      }
    },
    {
      "cell_type": "code",
      "source": [
        "toy_dataset_path = os.path.join(dataset_folder_path, \"criteo_toy_dataset.txt\")"
      ],
      "metadata": {
        "application/vnd.databricks.v1+cell": {
          "title": "",
          "showTitle": false,
          "inputWidgets": {},
          "nuid": "c1015efa-7924-4f3a-8bac-0c0fc691d425"
        },
        "id": "Fwwl57syYww_"
      },
      "outputs": [],
      "execution_count": null
    },
    {
      "cell_type": "code",
      "source": [
        "!head -n 1000000 {dataset_path} > {toy_dataset_path}"
      ],
      "metadata": {
        "application/vnd.databricks.v1+cell": {
          "title": "",
          "showTitle": false,
          "inputWidgets": {},
          "nuid": "13ad4dd2-c2d8-4c3f-bde2-c5cdd82933d7"
        },
        "id": "dlyUwWQ2YwxA"
      },
      "outputs": [],
      "execution_count": null
    },
    {
      "cell_type": "markdown",
      "source": [
        "Let's say we want to perform a basic operation: estimate the number of positive samples within the data"
      ],
      "metadata": {
        "application/vnd.databricks.v1+cell": {
          "title": "",
          "showTitle": false,
          "inputWidgets": {},
          "nuid": "543acccb-6454-4ffe-960d-0dcbc33894b7"
        },
        "id": "TiZaQEaNYwxA"
      }
    },
    {
      "cell_type": "markdown",
      "source": [
        "### Basic approach"
      ],
      "metadata": {
        "application/vnd.databricks.v1+cell": {
          "title": "",
          "showTitle": false,
          "inputWidgets": {},
          "nuid": "e85b4203-6efc-46f0-ba5b-52ebe297b95a"
        },
        "id": "wikXdZIIYwxB"
      }
    },
    {
      "cell_type": "code",
      "source": [
        "def compute_positive_label_proportion(dataset_path, columns):\n",
        "    df = pd.read_csv(dataset_path, sep=\"\\t\", header=None, names=columns, usecols=['label'])\n",
        "    return df['label'].mean()"
      ],
      "metadata": {
        "application/vnd.databricks.v1+cell": {
          "title": "",
          "showTitle": false,
          "inputWidgets": {},
          "nuid": "3d57d10b-15ee-4e3d-82fc-495d40a6b376"
        },
        "id": "8S0JptfmYwxB"
      },
      "outputs": [],
      "execution_count": null
    },
    {
      "cell_type": "markdown",
      "source": [
        "Let's measure its memory footprint with the `%%memit` magic function"
      ],
      "metadata": {
        "application/vnd.databricks.v1+cell": {
          "title": "",
          "showTitle": false,
          "inputWidgets": {},
          "nuid": "fceb5b2b-9553-44a7-8d83-030409be41d9"
        },
        "id": "VtGmSoTZYwxB"
      }
    },
    {
      "cell_type": "code",
      "source": [
        "%%memit\n",
        "positive_label_proportion = compute_positive_label_proportion(toy_dataset_path, columns)\n",
        "print('positive_label_proportion', positive_label_proportion)"
      ],
      "metadata": {
        "application/vnd.databricks.v1+cell": {
          "title": "",
          "showTitle": false,
          "inputWidgets": {},
          "nuid": "dafb5614-7640-4d36-a0f1-eac939d24f65"
        },
        "id": "V5Pd8k1AYwxC"
      },
      "outputs": [],
      "execution_count": null
    },
    {
      "cell_type": "markdown",
      "source": [
        "What would happen if you run the same function on a 45 times bigger dataset ?\n",
        "\n",
        "You can give a try with `compute_positive_label_proportion(dataset_path, columns)`... at your own risks."
      ],
      "metadata": {
        "application/vnd.databricks.v1+cell": {
          "title": "",
          "showTitle": false,
          "inputWidgets": {},
          "nuid": "83936c1c-2f35-47df-9daf-0ea7b4036e92"
        },
        "id": "rcR2wPbpYwxC"
      }
    },
    {
      "cell_type": "markdown",
      "source": [
        "### Specifying column types\n",
        "We can help pandas by specifying the column types to be used such that it does not need to infer it. Do so with the parameter dtype of pd.read_csv: https://pandas.pydata.org/pandas-docs/stable/reference/api/pandas.read_csv.html."
      ],
      "metadata": {
        "application/vnd.databricks.v1+cell": {
          "title": "",
          "showTitle": false,
          "inputWidgets": {},
          "nuid": "7ba93320-7ce7-4a5c-b36f-f1e9f86a1528"
        },
        "id": "i3GDGTESYwxD"
      }
    },
    {
      "cell_type": "code",
      "source": [
        "col_types = OrderedDict()\n",
        "for col_name in columns:\n",
        "    if col_name in label_columns: col_type = 'bool'\n",
        "    if col_name in integer_features: col_type = 'float32'\n",
        "    if col_name in categorical_features: col_type = 'str'\n",
        "    col_types[col_name] = col_type\n",
        "\n",
        "def compute_positive_label_proportion_with_dtype(dataset_path, columns, col_types):\n",
        "    # Read csv with dtype and return positive_label_proportion\n",
        "    df = pd.read_csv(dataset_path, sep=\"\\t\", header=None, names=columns, dtype=col_types)\n",
        "    return df['label'].mean()"
      ],
      "metadata": {
        "application/vnd.databricks.v1+cell": {
          "title": "",
          "showTitle": false,
          "inputWidgets": {},
          "nuid": "66f49dc1-bf77-4b33-b4f9-85a8c4f2cbe6"
        },
        "id": "Ak5fnEcDYwxD"
      },
      "outputs": [],
      "execution_count": null
    },
    {
      "cell_type": "code",
      "source": [
        "%%memit\n",
        "positive_label_proportion = compute_positive_label_proportion_with_dtype(toy_dataset_path, columns, col_types)\n",
        "print('positive_label_proportion', positive_label_proportion)"
      ],
      "metadata": {
        "application/vnd.databricks.v1+cell": {
          "title": "",
          "showTitle": false,
          "inputWidgets": {},
          "nuid": "7e275dee-57b0-4e2e-9d14-775b3c07daba"
        },
        "id": "vNKsNrwfYwxE"
      },
      "outputs": [],
      "execution_count": null
    },
    {
      "cell_type": "markdown",
      "source": [
        "### Reading data by chunks\n",
        "We can control the amount of memory we need by loading only a small chunk of the data and processing it before moving to the next chunk.\n",
        "\n",
        "See documentation at https://pandas.pydata.org/pandas-docs/stable/user_guide/io.html#iterating-through-files-chunk-by-chunk\n",
        "\n",
        "```\n",
        "reader = pd.read_csv(..., chunksize=10, nrows=100):\n",
        "for chunk in reader:\n",
        "    print(chunk)\n",
        "```"
      ],
      "metadata": {
        "application/vnd.databricks.v1+cell": {
          "title": "",
          "showTitle": false,
          "inputWidgets": {},
          "nuid": "56287730-4405-4ae2-90a2-cedf29035f80"
        },
        "id": "5xbLWPm5YwxE"
      }
    },
    {
      "cell_type": "code",
      "source": [
        "def compute_positive_label_proportion_with_dtype_and_chunksize(dataset_path, columns, col_types, chunksize):\n",
        "    # Read csv with dtype and chunksize and return positive_label_proportion\n",
        "    reader = pd.read_csv(\n",
        "        dataset_path, sep=\"\\t\", header=None, names=columns, dtype=col_types, chunksize=chunksize, \n",
        "    )\n",
        "    sum_labels = 0\n",
        "    sum_rows = 0\n",
        "    for chunk in reader:\n",
        "        sum_labels += chunk['label'].sum()\n",
        "        sum_rows += len(chunk)\n",
        "    return sum_labels / sum_rows"
      ],
      "metadata": {
        "application/vnd.databricks.v1+cell": {
          "title": "",
          "showTitle": false,
          "inputWidgets": {},
          "nuid": "d3c192e9-b4aa-4b81-9abc-9258896a506d"
        },
        "id": "Hsh-N4v6YwxF"
      },
      "outputs": [],
      "execution_count": null
    },
    {
      "cell_type": "code",
      "source": [
        "%%memit\n",
        "positive_label_proportion = compute_positive_label_proportion_with_dtype_and_chunksize(toy_dataset_path, columns, col_types, 100_000)\n",
        "print('positive_label_proportion', positive_label_proportion)"
      ],
      "metadata": {
        "application/vnd.databricks.v1+cell": {
          "title": "",
          "showTitle": false,
          "inputWidgets": {},
          "nuid": "68a665f7-489e-4484-8cf3-4d376d1ea657"
        },
        "id": "gvLNrvQyYwxF"
      },
      "outputs": [],
      "execution_count": null
    },
    {
      "cell_type": "markdown",
      "source": [
        "This can now be applied to the full dataset with no memory issue."
      ],
      "metadata": {
        "application/vnd.databricks.v1+cell": {
          "title": "",
          "showTitle": false,
          "inputWidgets": {},
          "nuid": "a5625703-6f57-414d-a2f6-25d86f4ae4fb"
        },
        "id": "sLU8C8BNYwxG"
      }
    },
    {
      "cell_type": "code",
      "source": [
        "%%memit\n",
        "positive_label_proportion = compute_positive_label_proportion_with_dtype_and_chunksize(dataset_path, columns, col_types, 100_000)\n",
        "print('positive_label_proportion', positive_label_proportion)"
      ],
      "metadata": {
        "application/vnd.databricks.v1+cell": {
          "title": "",
          "showTitle": false,
          "inputWidgets": {},
          "nuid": "9f925158-ac73-4723-be68-249d05c75f5c"
        },
        "id": "5Z9_TVXaYwxH"
      },
      "outputs": [],
      "execution_count": null
    },
    {
      "cell_type": "markdown",
      "source": [
        "## Training and evaluation"
      ],
      "metadata": {
        "application/vnd.databricks.v1+cell": {
          "title": "",
          "showTitle": false,
          "inputWidgets": {},
          "nuid": "4722389c-73ce-482b-b494-a363950f2276"
        },
        "id": "11jPx6wQYwxH"
      }
    },
    {
      "cell_type": "markdown",
      "source": [
        "### Split train and test datasets\n",
        "Since the datasets contain one line per example, we can split them into train and test by simply iterating over the lines. For each line in the original dataset: write it to the test data set with a probability p and write it to the train dataset with a probability 1 - p."
      ],
      "metadata": {
        "application/vnd.databricks.v1+cell": {
          "title": "",
          "showTitle": false,
          "inputWidgets": {},
          "nuid": "f7b3b941-be9a-4dff-ac77-fb980120f091"
        },
        "id": "HSLqWPu8YwxI"
      }
    },
    {
      "cell_type": "code",
      "source": [
        "def split_train_test(full_dataset_path, train_dataset_path, test_dataset_path, test_ratio, seed=302984, print_every=None):\n",
        "    random.seed(seed)\n",
        "    with open(full_dataset_path, 'r') as input_file, open(train_dataset_path, 'w') as train_file, open(test_dataset_path, 'w') as test_file:\n",
        "        for i, line in enumerate(input_file):\n",
        "            if random.uniform(0, 1) <= test_ratio:\n",
        "                test_file.write(line)\n",
        "            else:\n",
        "                train_file.write(line)\n",
        "            \n",
        "            if print_every is not None and (i + 1) % print_every == 0:\n",
        "                print(f\"Processed {i + 1} lines\")\n",
        "        print(f\"Processed {i + 1} lines\")\n",
        "        \n",
        "train_dataset_path = os.path.join(dataset_folder_path, \"criteo_train_dataset.txt\")\n",
        "test_dataset_path = os.path.join(dataset_folder_path, \"criteo_test_dataset.txt\")"
      ],
      "metadata": {
        "application/vnd.databricks.v1+cell": {
          "title": "",
          "showTitle": false,
          "inputWidgets": {},
          "nuid": "6ddfeb48-4ac1-43ef-9c14-ff395c0fcb18"
        },
        "id": "OSdJHXLyYwxJ"
      },
      "outputs": [],
      "execution_count": null
    },
    {
      "cell_type": "code",
      "source": [
        "if not os.path.exists(train_dataset_path) or not os.path.exists(test_dataset_path):\n",
        "    split_train_test(dataset_path, train_dataset_path, test_dataset_path, test_ratio=0.1, print_every=10_000_000)"
      ],
      "metadata": {
        "application/vnd.databricks.v1+cell": {
          "title": "",
          "showTitle": false,
          "inputWidgets": {},
          "nuid": "b433a302-de7a-4045-b67c-f3ebb3aab794"
        },
        "id": "TiqL8towYwxJ"
      },
      "outputs": [],
      "execution_count": null
    },
    {
      "cell_type": "code",
      "source": [
        "!wc -l {test_dataset_path}"
      ],
      "metadata": {
        "application/vnd.databricks.v1+cell": {
          "title": "",
          "showTitle": false,
          "inputWidgets": {},
          "nuid": "2faffa05-0de3-401f-b7d4-b87714a98a17"
        },
        "id": "i57_ZfJcYwxK"
      },
      "outputs": [],
      "execution_count": null
    },
    {
      "cell_type": "markdown",
      "source": [
        "### Shuffling\n",
        "The convergence guarantees of SGD rely on the fact that the observations come at random. Hence, shuffling between epochs is important.\n",
        "\n",
        "First result of \"How to shuffle a file that is too big for memory\" on Google: https://stackoverflow.com/a/40814865/2015762\n",
        "\n",
        "Note that quicker pseudo-shuffling strategies exists, but this fits our \"Big data on your laptop\" problematic."
      ],
      "metadata": {
        "application/vnd.databricks.v1+cell": {
          "title": "",
          "showTitle": false,
          "inputWidgets": {},
          "nuid": "b524a5dd-b21f-4572-bf9b-6de10e539122"
        },
        "id": "PZgNiJnmYwxK"
      }
    },
    {
      "cell_type": "code",
      "source": [
        "!awk 'BEGIN{srand();} {printf \"%06d %s\\n\", rand()*1000000, $0;}' /databricks/driver/sync/data/criteo_dataset/criteo_test_dataset.txt | sort -n | cut -c8- > /databricks/driver/sync/data/criteo_dataset/criteo_test_dataset_shuffled.txt\n",
        "# We can run it on the train dataset too but let'ss skip it since it is quite long\n",
        "# !awk 'BEGIN{srand();} {printf \"%06d %s\\n\", rand()*1000000, $0;}' /databricks/driver/sync/data/criteo_dataset/criteo_train_dataset.txt | sort -n | cut -c8- > /databricks/driver/sync/data/criteo_dataset/criteo_train_dataset_shuffled.txt"
      ],
      "metadata": {
        "application/vnd.databricks.v1+cell": {
          "title": "",
          "showTitle": false,
          "inputWidgets": {},
          "nuid": "e8546d50-68d4-4f24-abb1-e0c9aa11df96"
        },
        "id": "ahGzTQH_YwxL"
      },
      "outputs": [],
      "execution_count": null
    },
    {
      "cell_type": "markdown",
      "source": [
        "### Training\n",
        "In order to train a logistic model on chunks of data, we will use scikit-learn `SGDClassifier` (https://scikit-learn.org/stable/modules/generated/sklearn.linear_model.SGDClassifier.html) and train for its `log` loss with its `partial_fit` method.\n",
        "We can now apply the previous data processing pipeline and add the training to obtain a trained classifier."
      ],
      "metadata": {
        "application/vnd.databricks.v1+cell": {
          "title": "",
          "showTitle": false,
          "inputWidgets": {},
          "nuid": "d7444e81-90d6-43c5-acf8-68699e77a3dd"
        },
        "id": "DsnckLMCYwxM"
      }
    },
    {
      "cell_type": "code",
      "source": [
        "#  To begin with, let's not do any preprocessing and deal with \"ready to use\" continuous features only\n",
        "def preprocess_data(chunk, integer_features, categorical_features):\n",
        "    return chunk[integer_features].fillna(-1)"
      ],
      "metadata": {
        "application/vnd.databricks.v1+cell": {
          "title": "",
          "showTitle": false,
          "inputWidgets": {},
          "nuid": "5f300552-af45-4ab0-a495-db4ba9a8a827"
        },
        "id": "6VeUnS3wYwxN"
      },
      "outputs": [],
      "execution_count": null
    },
    {
      "cell_type": "code",
      "source": [
        "max_training_steps = 10_000\n",
        "chunk_size = 1_000\n",
        "print_every = 1000\n",
        "\n",
        "classifier = SGDClassifier(loss=\"log\")\n",
        "# 1. Read train data by chunks\n",
        "reader = pd.read_csv(\n",
        "    train_dataset_path, sep=\"\\t\", header=None, names=columns, dtype=col_types, chunksize=chunk_size, \n",
        ")\n",
        "for i, chunk in enumerate(reader):\n",
        "    # 2. Apply preprocess_data to return the continous features\n",
        "    features = preprocess_data(chunk, integer_features, categorical_features)\n",
        "    # 3. Train classifier on this chunk  with fit.\n",
        "    classifier.partial_fit(features, chunk[\"label\"], classes=[0, 1])\n",
        "    # 4. Stop after `max_training_steps`\n",
        "    if i > max_training_steps:\n",
        "        break\n",
        "        \n",
        "    if print_every is not None and (i + 1) % print_every == 0:\n",
        "        print(i+1)"
      ],
      "metadata": {
        "application/vnd.databricks.v1+cell": {
          "title": "",
          "showTitle": false,
          "inputWidgets": {},
          "nuid": "c2fff3fb-3a17-42b0-b5aa-d05ff9632ae7"
        },
        "id": "lKm8AkSiYwxN"
      },
      "outputs": [],
      "execution_count": null
    },
    {
      "cell_type": "markdown",
      "source": [
        "### Testing\n",
        "Let's evaluate the performances of the trained classifier. We should iterate over the test dataset and evaluate the labels predicted by the classifier with `roc_auc_score` and `log_loss`."
      ],
      "metadata": {
        "application/vnd.databricks.v1+cell": {
          "title": "",
          "showTitle": false,
          "inputWidgets": {},
          "nuid": "3ccf2390-7b6e-4ec1-b29f-5e3f767e3fbe"
        },
        "id": "KB80GEvoYwxO"
      }
    },
    {
      "cell_type": "code",
      "source": [
        "max_testing_steps = 1_000\n",
        "chunk_size = 1_000\n",
        "print_every = 100\n",
        "\n",
        "reader = pd.read_csv(\n",
        "    test_dataset_path, sep=\"\\t\", header=None, names=columns, dtype=col_types, chunksize=chunk_size, \n",
        ")\n",
        "\n",
        "roc_auc_scores = []\n",
        "log_losses = []\n",
        "# 1. Read test data by chunks\n",
        "for i, chunk in enumerate(reader):\n",
        "    # 2. Apply preprocess_data to return the continous features\n",
        "    features = preprocess_data(chunk, integer_features, categorical_features)\n",
        "    # 3. Predict labels with classifiers\n",
        "    label_predictions = classifier.predict_proba(features)[:, 1]\n",
        "    # 4. Compute AUC score and Log loss for this chunk\n",
        "    roc_auc_scores += [roc_auc_score(chunk[\"label\"], label_predictions)]\n",
        "    log_losses += [log_loss(chunk[\"label\"], label_predictions)]\n",
        "    \n",
        "    if i > max_testing_steps:\n",
        "        break\n",
        "        \n",
        "    if print_every is not None and (i + 1) % print_every == 0:\n",
        "        print(i+1)\n",
        "\n",
        "# 6. Return averaged values of the metrics\n",
        "print(f\"AUC = {np.mean(roc_auc_scores)}\")\n",
        "print(f\"LogLoss = {np.mean(log_losses)}\")"
      ],
      "metadata": {
        "application/vnd.databricks.v1+cell": {
          "title": "",
          "showTitle": false,
          "inputWidgets": {},
          "nuid": "9a3f8de1-b8aa-41c8-9a46-9c62122da7f9"
        },
        "id": "BbfWBe0IYwxO"
      },
      "outputs": [],
      "execution_count": null
    },
    {
      "cell_type": "markdown",
      "source": [
        "## Data preprocessing"
      ],
      "metadata": {
        "application/vnd.databricks.v1+cell": {
          "title": "",
          "showTitle": false,
          "inputWidgets": {},
          "nuid": "f2c9ec3e-554e-4caf-b9bb-bcec65ed3dba"
        },
        "id": "q3996O6fYwxP"
      }
    },
    {
      "cell_type": "markdown",
      "source": [
        "### Continuous features\n",
        "A smart way to deal with continuous features (counting integer features are part of them), consists in transforming them into categorical features through a quantile transformation. To do so we will use scikit-learn KBinsDiscretizer : https://scikit-learn.org/stable/modules/generated/sklearn.preprocessing.KBinsDiscretizer.html.\n",
        "\n",
        "It can be used as following\n",
        "```\n",
        "df = pd.DataFrame({'col_1': np.random.normal(size=1000), 'col_2': np.random.poisson(lam=1, size=1000)})\n",
        "bucketizer = KBinsDiscretizer(n_bins=20, encode='ordinal')\n",
        "bucketizer.fit(df)\n",
        "df_bucketized = pd.DataFrame(bucketizer.transform(df), columns=[f'{col}_bucketized' for col in df.columns], index=df.index)\n",
        "sns.jointplot(data=pd.concat((df, df_bucketized), axis=1), x=\"col_1\", y=\"col_1_bucketized\")\n",
        "```"
      ],
      "metadata": {
        "application/vnd.databricks.v1+cell": {
          "title": "",
          "showTitle": false,
          "inputWidgets": {},
          "nuid": "cacde538-c462-4da5-a5cb-78bbf2e8b624"
        },
        "id": "PKsvBHYJYwxP"
      }
    },
    {
      "cell_type": "markdown",
      "source": [
        "1. Create a `KBinsDiscretizer` and train it on the first chunk of the dataset\n",
        "1. Update `preprocess_data` to add a bucketize step to the training pipeline. What happens if you change the `encode` parameter?\n",
        "1. Do not forget to deal with missing values, you do not want to carry on NaNs. You can for example replace them with -1."
      ],
      "metadata": {
        "application/vnd.databricks.v1+cell": {
          "title": "",
          "showTitle": false,
          "inputWidgets": {},
          "nuid": "e87b6181-a50c-4a25-9269-825927d14df4"
        },
        "id": "P27Xef5oYwxP"
      }
    },
    {
      "cell_type": "code",
      "source": [
        "bucketizer = KBinsDiscretizer(n_bins=20) # Try with and without encode='ordinal'\n",
        "with warnings.catch_warnings(record=True):\n",
        "    bucketizer.fit(chunk[integer_features].fillna(-1))\n",
        "    \n",
        "def bucketize(df, bucketizer):\n",
        "    return bucketizer.transform(df.fillna(-1))\n",
        "\n",
        "def preprocess_data(chunk, integer_features, categorical_features):\n",
        "    return bucketize(chunk[integer_features], bucketizer)\n",
        "\n",
        "preprocess_data(chunk, integer_features, categorical_features)"
      ],
      "metadata": {
        "application/vnd.databricks.v1+cell": {
          "title": "",
          "showTitle": false,
          "inputWidgets": {},
          "nuid": "6603e270-56e3-4ed9-a6e3-b6b8b70b1e0b"
        },
        "id": "DWSX6FDSYwxQ"
      },
      "outputs": [],
      "execution_count": null
    },
    {
      "cell_type": "markdown",
      "source": [
        "### Categorical features\n",
        "For categorical features we will implement the hashing trick by ourselves. As a quick reminder, for each row\n",
        "\n",
        "1. Select the categorical features \n",
        "1. Create for each feature the string concatenating the feature name and the feature value\n",
        "1. Apply a hash function to each of these string and use this value to choose the feature's column index\n",
        "1. Store the transformed features in a sparse matrix"
      ],
      "metadata": {
        "application/vnd.databricks.v1+cell": {
          "title": "",
          "showTitle": false,
          "inputWidgets": {},
          "nuid": "ada99dde-fc5f-41e5-bd37-b7a018e66736"
        },
        "id": "lqUngfnQYwxQ"
      }
    },
    {
      "cell_type": "code",
      "source": [
        "from sklearn.utils.murmurhash import murmurhash3_bytes_s32\n",
        "\n",
        "def hash_string(string, seed=0):\n",
        "    return murmurhash3_bytes_s32(string.encode(), seed)\n",
        "  \n",
        "hash_string('my_feature=my_feature_value')\n",
        "# Note, if we were using builtin function hash('my_feature=my_feature_value'), we would have had a different hash value at each run"
      ],
      "metadata": {
        "application/vnd.databricks.v1+cell": {
          "title": "",
          "showTitle": false,
          "inputWidgets": {},
          "nuid": "ef9557fb-a1d4-4d70-b70c-158be1bc30b4"
        },
        "id": "Nidj4CLDYwxR"
      },
      "outputs": [],
      "execution_count": null
    },
    {
      "cell_type": "code",
      "source": [
        "hash_space = 2 ** 16\n",
        "\n",
        "row = chunk.iloc[0]\n",
        "def get_features_hashes(row, hash_space):\n",
        "    # return the list of the hashes values for each categorical feature in the row\n",
        "    features_as_string = [f\"{label}={value}\" for label, value in zip(row.index, row.values)]\n",
        "    # https://github.com/scikit-learn/scikit-learn/blob/95119c13af77c76e150b753485c662b7c52a41a2/sklearn/feature_extraction/_hashing_fast.pyx#L68\n",
        "    return [abs(hash_string(string)) % hash_space for string in features_as_string]\n",
        "\n",
        "np.array(get_features_hashes(row, hash_space))"
      ],
      "metadata": {
        "application/vnd.databricks.v1+cell": {
          "title": "",
          "showTitle": false,
          "inputWidgets": {},
          "nuid": "31886db4-d1db-4a02-a9bd-f752ce68ae0a"
        },
        "id": "icXWFoBZYwxS"
      },
      "outputs": [],
      "execution_count": null
    },
    {
      "cell_type": "code",
      "source": [
        "def transform_with_hashing_trick(df, hash_space):\n",
        "    col_indices = df.apply(lambda row: get_features_hashes(row, hash_space), axis=1) \n",
        "    row_indices = [\n",
        "        [row_index] * len(cols)\n",
        "        for row_index, cols in zip(np.arange(len(col_indices)), col_indices)\n",
        "    ]\n",
        "\n",
        "    flat_col_indices = sum(col_indices.values, [])\n",
        "    flat_row_indices = sum(row_indices, [])\n",
        "    data = np.ones_like(flat_col_indices)\n",
        "    # Fill the csr_matrix, using csr_matrix((data, (row_ind, col_ind)), [shape=(M, N)]) constructor\n",
        "    # See https://docs.scipy.org/doc/scipy/reference/generated/scipy.sparse.csr_matrix.html\n",
        "    return csr_matrix((data, (flat_row_indices, flat_col_indices)), shape=(len(df), hash_space), dtype=float)\n",
        "  \n",
        "transform_with_hashing_trick(chunk[categorical_features], hash_space)"
      ],
      "metadata": {
        "application/vnd.databricks.v1+cell": {
          "title": "",
          "showTitle": false,
          "inputWidgets": {},
          "nuid": "2c9c09dd-41fe-4fa5-93bb-b7c0afaabb0c"
        },
        "id": "YXHHuggqYwxT"
      },
      "outputs": [],
      "execution_count": null
    },
    {
      "cell_type": "markdown",
      "source": [
        "Actually, the hashing trick is well known and already implemented in scikit-learn FeatureHasher: https://scikit-learn.org/stable/modules/generated/sklearn.feature_extraction.FeatureHasher.html\n",
        "\n",
        "It can be used as following\n",
        "```\n",
        "df = pd.DataFrame({'col_1': np.random.choice(['a', 'b', 'c'], size=100), 'col_2': np.random.poisson(size=100)})\n",
        "hasher = FeatureHasher(n_features=2**16, input_type=\"dict\")\n",
        "hasher.transform((row._asdict() for row in df.itertuples(index=False)))\n",
        "```\n",
        "Again, you will probably want to ensure you get rid of the NaNs. What value could you set for these?"
      ],
      "metadata": {
        "application/vnd.databricks.v1+cell": {
          "title": "",
          "showTitle": false,
          "inputWidgets": {},
          "nuid": "0c520c13-7534-4fad-9bf2-2f88c15cd8f6"
        },
        "id": "YC_T_0KQYwxT"
      }
    },
    {
      "cell_type": "code",
      "source": [
        "hasher = FeatureHasher(n_features=hash_space, input_type=\"dict\")\n",
        "\n",
        "def feature_hashing(df, hasher):\n",
        "    # apply hasher.transorm to rows of df\n",
        "    return hasher.transform((row._asdict() for row in df.fillna(\"nan\").itertuples(index=False)))"
      ],
      "metadata": {
        "application/vnd.databricks.v1+cell": {
          "title": "",
          "showTitle": false,
          "inputWidgets": {},
          "nuid": "ba5b0a8e-722b-47e2-a46f-b9a9dce7c4d3"
        },
        "id": "maONDgeAYwxU"
      },
      "outputs": [],
      "execution_count": null
    },
    {
      "cell_type": "markdown",
      "source": [
        "We can compare their speed"
      ],
      "metadata": {
        "application/vnd.databricks.v1+cell": {
          "title": "",
          "showTitle": false,
          "inputWidgets": {},
          "nuid": "f90abde0-a667-4e34-af5a-282b17b232f2"
        },
        "id": "OXbQO5KUYwxU"
      }
    },
    {
      "cell_type": "code",
      "source": [
        "%timeit transform_with_hashing_trick(chunk[categorical_features], hash_space)"
      ],
      "metadata": {
        "application/vnd.databricks.v1+cell": {
          "title": "",
          "showTitle": false,
          "inputWidgets": {},
          "nuid": "6aee4d29-3d84-4f2a-b387-ec233412213b"
        },
        "id": "Oup3l7-MYwxU"
      },
      "outputs": [],
      "execution_count": null
    },
    {
      "cell_type": "code",
      "source": [
        "%timeit feature_hashing(chunk[categorical_features], hasher)"
      ],
      "metadata": {
        "application/vnd.databricks.v1+cell": {
          "title": "",
          "showTitle": false,
          "inputWidgets": {},
          "nuid": "22633b92-95dd-4fda-8580-f11bf7a2f102"
        },
        "id": "E02bMI5CYwxV"
      },
      "outputs": [],
      "execution_count": null
    },
    {
      "cell_type": "markdown",
      "source": [
        "Actually we have used exactly the same implementation as sklearn.\n",
        "See https://github.com/scikit-learn/scikit-learn/blob/95119c13af77c76e150b753485c662b7c52a41a2/sklearn/feature_extraction/_hashing_fast.pyx#L68"
      ],
      "metadata": {
        "application/vnd.databricks.v1+cell": {
          "title": "",
          "showTitle": false,
          "inputWidgets": {},
          "nuid": "6a84b01f-fc67-4f3d-90ba-c5a5201d9e84"
        },
        "id": "T9RwYoh8YwxV"
      }
    },
    {
      "cell_type": "code",
      "source": [
        "hash_space = 20\n",
        "df = chunk[categorical_features].head(5)\n",
        "print('Custom implementation')\n",
        "print(transform_with_hashing_trick(df, hash_space).toarray())\n",
        "hasher = FeatureHasher(n_features=hash_space, input_type=\"dict\", alternate_sign=False)\n",
        "print('sklearn implementation')\n",
        "print(feature_hashing(df, hasher).toarray())"
      ],
      "metadata": {
        "application/vnd.databricks.v1+cell": {
          "title": "",
          "showTitle": false,
          "inputWidgets": {},
          "nuid": "850e936a-8c87-43c8-b311-584e19f464d9"
        },
        "id": "RdMgjDhAYwxW"
      },
      "outputs": [],
      "execution_count": null
    },
    {
      "cell_type": "markdown",
      "source": [
        "Let's improve our previous pipeline and apply the hashing trick to the categorical features **and** to the bucketized continuous features (have a look at `pd.concat`)."
      ],
      "metadata": {
        "application/vnd.databricks.v1+cell": {
          "title": "",
          "showTitle": false,
          "inputWidgets": {},
          "nuid": "4598f259-ae84-457e-b565-1fbccd4359e9"
        },
        "id": "GfHqw-osYwxW"
      }
    },
    {
      "cell_type": "code",
      "source": [
        "hash_space = 2 ** 20\n",
        "\n",
        "hasher = FeatureHasher(n_features=hash_space, input_type=\"dict\")\n",
        "bucketizer = KBinsDiscretizer(n_bins=20, encode='ordinal')\n",
        "with warnings.catch_warnings(record=True):\n",
        "    bucketizer.fit(chunk[integer_features].fillna(-1))\n",
        "\n",
        "def bucketize(df, bucketizer):\n",
        "    return pd.DataFrame(bucketizer.transform(df.fillna(-1)), columns=df.columns, index=df.index)\n",
        "\n",
        "def preprocess_data(df, integer_features, categorical_features):\n",
        "    bucketized_integer_features_df = bucketize(chunk[integer_features], bucketizer)\n",
        "    categorical_features_df = pd.concat([chunk[categorical_features], bucketized_integer_features_df], axis=1)\n",
        "    return feature_hashing(categorical_features_df, hasher)\n",
        "\n",
        "preprocess_data(chunk, integer_features, categorical_features)"
      ],
      "metadata": {
        "application/vnd.databricks.v1+cell": {
          "title": "",
          "showTitle": false,
          "inputWidgets": {},
          "nuid": "51d49529-7ca5-4f67-b16e-b8c347ac29b3"
        },
        "id": "549QxecUYwxW"
      },
      "outputs": [],
      "execution_count": null
    },
    {
      "cell_type": "markdown",
      "source": [
        "Going further with the hashing trick:\n",
        "1. How could you implement cross features ?\n",
        "1. If you are too afraid of collisions, try to hash each categorical feature to several locations.\n",
        "\n",
        "Try with FeatureHasher and your custom implementation and see what is the most efficient."
      ],
      "metadata": {
        "application/vnd.databricks.v1+cell": {
          "title": "",
          "showTitle": false,
          "inputWidgets": {},
          "nuid": "157a858a-544e-4219-86b6-4b3423310e16"
        },
        "id": "DfWKFuY9YwxX"
      }
    }
  ],
  "metadata": {
    "application/vnd.databricks.v1+notebook": {
      "notebookName": "Local online learning - after 1st session",
      "dashboards": [],
      "notebookMetadata": {
        "pythonIndentUnit": 2
      },
      "language": "python",
      "widgets": {},
      "notebookOrigID": 90544335139434
    },
    "colab": {
      "provenance": []
    }
  },
  "nbformat": 4,
  "nbformat_minor": 0
}