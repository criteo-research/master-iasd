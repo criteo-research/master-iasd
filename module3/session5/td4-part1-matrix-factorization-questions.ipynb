{
  "cells": [
    {
      "cell_type": "markdown",
      "source": [
        "# Matrix Factorization\n",
        "\n",
        "We will experiment with the recent MovieLens 25M Dataset and build a recommender system using two approaches:\n",
        "* Factorizing the user-item matrix using Spark ALS implementation\n",
        "* Factorizing the item-item PMI maatrix using randomized SVD\n",
        "\n",
        "In both settings we will index the item embeddings and inspect their quality using KNN queries."
      ],
      "metadata": {
        "application/vnd.databricks.v1+cell": {
          "title": "",
          "showTitle": false,
          "inputWidgets": {},
          "nuid": "ec58202f-3dde-4483-b569-f93f1ab4a8c7"
        },
        "id": "GMmDTQ-NTxLJ"
      }
    },
    {
      "cell_type": "code",
      "source": [
        "!apt-get install openjdk-8-jdk-headless -qq > /dev/null\n",
        "!curl -O https://dlcdn.apache.org/spark/spark-3.2.1/spark-3.2.1-bin-hadoop3.2.tgz\n",
        "!tar xf spark-3.2.1-bin-hadoop3.2.tgz\n",
        "!pip install -q findspark"
      ],
      "metadata": {
        "id": "VWLRqi0eUEzR"
      },
      "execution_count": null,
      "outputs": []
    },
    {
      "cell_type": "code",
      "source": [
        "import os\n",
        "os.environ[\"JAVA_HOME\"] = \"/usr/lib/jvm/java-8-openjdk-amd64\"\n",
        "os.environ[\"SPARK_HOME\"] = \"/content/spark-3.2.1-bin-hadoop3.2\""
      ],
      "metadata": {
        "id": "kMdSQagmUGR0"
      },
      "execution_count": null,
      "outputs": []
    },
    {
      "cell_type": "code",
      "source": [
        "import findspark\n",
        "findspark.init()\n",
        "from pyspark.sql import SparkSession\n",
        "from pyspark import SparkContext, SparkConf\n",
        "\n",
        "conf = SparkConf().set('spark.ui.port', '4050')\n",
        "sc = SparkContext(conf=conf)\n",
        "spark = SparkSession.builder.master('local[*]').getOrCreate()\n",
        "ss = spark"
      ],
      "metadata": {
        "id": "WXRsixXbUIOQ"
      },
      "execution_count": null,
      "outputs": []
    },
    {
      "cell_type": "code",
      "source": [
        "%matplotlib inline"
      ],
      "metadata": {
        "id": "1aV0-pCxUK7k"
      },
      "execution_count": null,
      "outputs": []
    },
    {
      "cell_type": "markdown",
      "source": [
        "# Part 1"
      ],
      "metadata": {
        "application/vnd.databricks.v1+cell": {
          "title": "",
          "showTitle": false,
          "inputWidgets": {},
          "nuid": "63c24520-7d86-48bc-8abe-c38f26bf1bc6"
        },
        "id": "Ol1DzytYTxLL"
      }
    },
    {
      "cell_type": "markdown",
      "source": [
        "### Download the dataset"
      ],
      "metadata": {
        "application/vnd.databricks.v1+cell": {
          "title": "",
          "showTitle": false,
          "inputWidgets": {},
          "nuid": "930121a6-31fe-4b95-8459-4fb22caf15e5"
        },
        "id": "tv27aLupTxLM"
      }
    },
    {
      "cell_type": "code",
      "source": [
        "!wget http://files.grouplens.org/datasets/movielens/ml-25m.zip\n",
        "!unzip ml-25m"
      ],
      "metadata": {
        "application/vnd.databricks.v1+cell": {
          "title": "",
          "showTitle": false,
          "inputWidgets": {},
          "nuid": "f2fa6086-66c5-4421-997c-3abc0bc79ab2"
        },
        "id": "lTvnLlj6TxLN"
      },
      "outputs": [],
      "execution_count": null
    },
    {
      "cell_type": "markdown",
      "source": [
        "### Loading the ratings dataset"
      ],
      "metadata": {
        "application/vnd.databricks.v1+cell": {
          "title": "",
          "showTitle": false,
          "inputWidgets": {},
          "nuid": "83dc87e1-4575-41fb-b9b9-53515664b2ac"
        },
        "id": "90rEnv40TxLP"
      }
    },
    {
      "cell_type": "code",
      "source": [
        "movies_df = spark.read.csv('ml-25m/movies.csv', header=True, inferSchema=True).cache()\n",
        "ratings_df = spark.read.csv('ml-25m/ratings.csv', header=True, inferSchema=True)"
      ],
      "metadata": {
        "application/vnd.databricks.v1+cell": {
          "title": "",
          "showTitle": false,
          "inputWidgets": {},
          "nuid": "30cde39c-8089-4c5c-9b95-347a8b3414b0"
        },
        "id": "DfsZyN9fTxLQ"
      },
      "outputs": [],
      "execution_count": null
    },
    {
      "cell_type": "markdown",
      "source": [
        "### Split the dataset\n",
        "We want to randomly split the dataset into train and test parts"
      ],
      "metadata": {
        "application/vnd.databricks.v1+cell": {
          "title": "",
          "showTitle": false,
          "inputWidgets": {},
          "nuid": "9638b534-2471-4f74-8c9c-df471a6dbc43"
        },
        "id": "OuXpc2bJTxLR"
      }
    },
    {
      "cell_type": "code",
      "source": [
        ""
      ],
      "metadata": {
        "application/vnd.databricks.v1+cell": {
          "title": "",
          "showTitle": false,
          "inputWidgets": {},
          "nuid": "099d08ee-00b8-496e-a91e-240c18f31a5d"
        },
        "id": "GpxyW9KVTxLR"
      },
      "outputs": [],
      "execution_count": null
    },
    {
      "cell_type": "markdown",
      "source": [
        "### Build ALS model\n",
        "Using the Spark ALS implementation described here https://spark.apache.org/docs/2.2.0/ml-collaborative-filtering.html\n",
        "Build a model using the ml-25m dataset.\n",
        "\n",
        "How long does the training take, change the rank (i.e. the dimension of the vectors) from 10 to 20. How does that affect training speed ?"
      ],
      "metadata": {
        "application/vnd.databricks.v1+cell": {
          "title": "",
          "showTitle": false,
          "inputWidgets": {},
          "nuid": "b7b13148-8e7e-46f1-b856-3727dd2c7021"
        },
        "id": "hUHA1E9TTxLS"
      }
    },
    {
      "cell_type": "code",
      "source": [
        ""
      ],
      "metadata": {
        "application/vnd.databricks.v1+cell": {
          "title": "",
          "showTitle": false,
          "inputWidgets": {},
          "nuid": "b3fd44e1-0529-4af3-919f-3118b6e30d13"
        },
        "id": "-pRBEPDnTxLT"
      },
      "outputs": [],
      "execution_count": null
    },
    {
      "cell_type": "markdown",
      "source": [
        "### Evaluation\n",
        "Using the code described in the Spark documentation, evaluate how good your model is doing on the test set.\n",
        "The goal is to predict the held out ratings.\n",
        "A good metric could be RMSE or MAE."
      ],
      "metadata": {
        "application/vnd.databricks.v1+cell": {
          "title": "",
          "showTitle": false,
          "inputWidgets": {},
          "nuid": "3342dd06-1737-43ec-bef3-c185c601bb24"
        },
        "id": "SaxCKf5BTxLT"
      }
    },
    {
      "cell_type": "code",
      "source": [
        ""
      ],
      "metadata": {
        "application/vnd.databricks.v1+cell": {
          "title": "",
          "showTitle": false,
          "inputWidgets": {},
          "nuid": "49bbd4e6-7c06-4929-9c97-cd56f7c7bcda"
        },
        "id": "Uh7_BJn0TxLU"
      },
      "outputs": [],
      "execution_count": null
    },
    {
      "cell_type": "markdown",
      "source": [
        "### Inspecting the results\n",
        "\n",
        "Retrieve the movie vectors from the learned model object (the property is called itemFactors).\n",
        "and `collect` all these vectors in a list."
      ],
      "metadata": {
        "application/vnd.databricks.v1+cell": {
          "title": "",
          "showTitle": false,
          "inputWidgets": {},
          "nuid": "9de1257d-ea6d-4833-ac47-79311f0c0f8a"
        },
        "id": "chvFoB-pTxLU"
      }
    },
    {
      "cell_type": "code",
      "source": [
        ""
      ],
      "metadata": {
        "application/vnd.databricks.v1+cell": {
          "title": "",
          "showTitle": false,
          "inputWidgets": {},
          "nuid": "7d9e5482-54ff-4950-9b8d-4d889c64dd7b"
        },
        "id": "HwvK2FPpTxLV"
      },
      "outputs": [],
      "execution_count": null
    },
    {
      "cell_type": "markdown",
      "source": [
        "### Using Nearest neighbours\n",
        "\n",
        "Pick a few movies, and for each of them, find-out the top 5 nearest neighbours. This is very similar to an optional question of the PLSA project..."
      ],
      "metadata": {
        "application/vnd.databricks.v1+cell": {
          "title": "",
          "showTitle": false,
          "inputWidgets": {},
          "nuid": "89e7fa17-0f14-42ae-9bd7-7894dbbc6069"
        },
        "id": "-L4K3IX6TxLV"
      }
    },
    {
      "cell_type": "code",
      "source": [
        ""
      ],
      "metadata": {
        "application/vnd.databricks.v1+cell": {
          "title": "",
          "showTitle": false,
          "inputWidgets": {},
          "nuid": "acefd735-d0a6-454e-811a-8ccf54092731"
        },
        "id": "Z6P14MCdTxLW"
      },
      "outputs": [],
      "execution_count": null
    },
    {
      "cell_type": "markdown",
      "source": [
        "Make sur your KNN algorithm is fast enough. Try to understand why some results are not so good."
      ],
      "metadata": {
        "application/vnd.databricks.v1+cell": {
          "title": "",
          "showTitle": false,
          "inputWidgets": {},
          "nuid": "632c1d5f-eae1-4c24-b710-a1243abb2822"
        },
        "id": "Bb2a62-OTxLX"
      }
    }
  ],
  "metadata": {
    "kernelspec": {
      "display_name": "Python 3",
      "language": "python",
      "name": "python3"
    },
    "language_info": {
      "mimetype": "text/x-python",
      "name": "python",
      "pygments_lexer": "ipython3",
      "codemirror_mode": {
        "name": "ipython",
        "version": 3
      },
      "version": "3.7.4",
      "nbconvert_exporter": "python",
      "file_extension": ".py"
    },
    "application/vnd.databricks.v1+notebook": {
      "notebookName": "Matrix Factorization (énoncé)",
      "dashboards": [],
      "notebookMetadata": {
        "pythonIndentUnit": 2
      },
      "language": "python",
      "widgets": {},
      "notebookOrigID": 4244742766502
    },
    "colab": {
      "name": "td4-part1-matrix-factorization-questions.ipynb",
      "provenance": [],
      "collapsed_sections": []
    }
  },
  "nbformat": 4,
  "nbformat_minor": 0
}